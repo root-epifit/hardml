{
 "cells": [
  {
   "cell_type": "code",
   "execution_count": 142,
   "id": "611de810-e4b3-406f-a1fc-eadb421e3003",
   "metadata": {
    "tags": []
   },
   "outputs": [],
   "source": [
    "from tqdm.notebook import tqdm\n",
    "import matplotlib.pyplot as plt\n",
    "\n",
    "plt.rcParams['figure.figsize'] = (10, 4)\n",
    "titlesize = 24\n",
    "labelsize = 22\n",
    "legendsize = 22\n",
    "xticksize = 18\n",
    "yticksize = xticksize\n",
    "\n",
    "plt.rcParams['legend.markerscale'] = 1.5     # the relative size of legend markers vs. original\n",
    "plt.rcParams['legend.handletextpad'] = 0.5\n",
    "plt.rcParams['legend.labelspacing'] = 0.4    # the vertical space between the legend entries in fraction of fontsize\n",
    "plt.rcParams['legend.borderpad'] = 0.5       # border whitespace in fontsize units\n",
    "plt.rcParams['font.size'] = 12\n",
    "plt.rcParams['font.serif'] = 'Times New Roman'\n",
    "plt.rcParams['axes.labelsize'] = labelsize\n",
    "plt.rcParams['axes.titlesize'] = titlesize\n",
    "\n",
    "plt.rc('xtick', labelsize=xticksize)\n",
    "plt.rc('ytick', labelsize=yticksize)\n",
    "plt.rc('legend', fontsize=legendsize)"
   ]
  },
  {
   "cell_type": "raw",
   "id": "1d32a937-e520-4a29-aef2-7c0a6cddab67",
   "metadata": {},
   "source": [
    "Задача. Оценка вероятности ошибки I рода.\n",
    "Напишите функцию для оценки ошибки первого рода."
   ]
  },
  {
   "cell_type": "code",
   "execution_count": 86,
   "id": "48122513-7787-412c-b009-02b493a6f8a8",
   "metadata": {
    "tags": []
   },
   "outputs": [],
   "source": [
    "import numpy as np\n",
    "import pandas as pd\n",
    "from scipy.stats import ttest_ind\n",
    "\n",
    "\n",
    "def estimate_first_type_error(df_pilot_group, df_control_group, metric_name, alpha=0.05, n_iter=10000, seed=None):\n",
    "    \"\"\"Оцениваем ошибку первого рода.\n",
    "\n",
    "    Бутстрепим выборки из пилотной и контрольной групп тех же размеров, считаем долю случаев с значимыми отличиями.\n",
    "    \n",
    "    df_pilot_group - pd.DataFrame, датафрейм с данными пилотной группы\n",
    "    df_control_group - pd.DataFrame, датафрейм с данными контрольной группы\n",
    "    metric_name - str, названия столбца с метрикой\n",
    "    alpha - float, уровень значимости для статтеста\n",
    "    n_iter - int, кол-во итераций бутстрапа\n",
    "    seed - int or None, состояние генератора случайных чисел.\n",
    "\n",
    "    return - float, ошибка первого рода\n",
    "    \"\"\"\n",
    "    # YOUR_CODE_HERE\n",
    "    def check_ttest(a, b, alpha=0.05):\n",
    "        \"\"\"Тест Стьюдента. Возвращает 1, если отличия значимы.\"\"\"\n",
    "        _, pvalue = ttest_ind(a, b)\n",
    "        return int(pvalue < alpha)\n",
    "\n",
    "    B = n_iter\n",
    "    np.random.seed(seed=seed)\n",
    "    a = df_pilot_group[metric_name].to_numpy()\n",
    "    b = df_control_group[metric_name].to_numpy()\n",
    "    a_bootstrap = np.random.choice(a, size=(len(a), B))\n",
    "    b_bootstrap = np.random.choice(b, size=(len(b), B))\n",
    "\n",
    "    results = np.array([check_ttest(a_bootstrap[:,i], b_bootstrap[:,i], alpha=alpha) for i in range(n_iter)])\n",
    "    #print(f\"{np.sum(results)/results.size}, {np.mean(results)}\")\n",
    "    #return np.sum(results)/results.size\n",
    "    return np.mean(results)"
   ]
  },
  {
   "cell_type": "raw",
   "id": "4d933672-18d7-4704-8a8f-325e618942d2",
   "metadata": {},
   "source": [
    "Задача. Оценка вероятности ошибки II рода.\n",
    "Напишите функцию для оценки ошибки второго рода.\n",
    "\n",
    "Добавлять эффект к экспериментальной группе можно разными способами. Способ добавления эффекта может повлиять на результаты статистических критериев и оценку вероятности ошибки II рода. При выполнении задания считайте, что эффект распределён равномерно по всем объектам экспериментальной группы, то есть метрики объектов в среднем увеличиваются на одинаковую величину."
   ]
  },
  {
   "cell_type": "code",
   "execution_count": 201,
   "id": "a5f6ec39-b910-4f5c-a4e8-8373dc10678d",
   "metadata": {
    "tags": []
   },
   "outputs": [],
   "source": [
    "import numpy as np\n",
    "import pandas as pd\n",
    "from scipy.stats import ttest_ind\n",
    "\n",
    "\n",
    "def estimate_second_type_error(df_pilot_group, df_control_group, metric_name, effects, alpha=0.05, n_iter=10000, seed=None):\n",
    "    \"\"\"Оцениваем ошибки второго рода.\n",
    "\n",
    "    Бутстрепим выборки из пилотной и контрольной групп тех же размеров, добавляем эффект к пилотной группе,\n",
    "    считаем долю случаев без значимых отличий.\n",
    "    \n",
    "    df_pilot_group - pd.DataFrame, датафрейм с данными пилотной группы\n",
    "    df_control_group - pd.DataFrame, датафрейм с данными контрольной группы\n",
    "    metric_name - str, названия столбца с метрикой\n",
    "    effects - List[float], список размеров эффектов ([1.03] - увеличение на 3%).\n",
    "    alpha - float, уровень значимости для статтеста\n",
    "    n_iter - int, кол-во итераций бутстрапа\n",
    "    seed - int or None, состояние генератора случайных чисел\n",
    "\n",
    "    return - dict, {размер_эффекта: ошибка_второго_рода}\n",
    "    \"\"\"\n",
    "    # YOUR_CODE_HERE\n",
    "    def check_ttest(a, b, alpha=0.05):\n",
    "        \"\"\"Тест Стьюдента. Возвращает 1, если отличия значимы.\"\"\"\n",
    "        _, pvalue = ttest_ind(a, b)\n",
    "        return int(pvalue < alpha)\n",
    "\n",
    "    B = n_iter\n",
    "    np.random.seed(seed=seed)\n",
    "    a = df_pilot_group[metric_name].to_numpy()\n",
    "    b = df_control_group[metric_name].to_numpy()\n",
    "    \n",
    "    a_bootstrap = np.random.choice(a, size=(len(a), B))\n",
    "    b_bootstrap = np.random.choice(b, size=(len(b), B))\n",
    "    \n",
    "    result=dict()\n",
    "    for effect in effects:\n",
    "        a_bootstrap_effect=a_bootstrap*effect\n",
    "        err_2 = np.array([check_ttest(a_bootstrap_effect[:,i], b_bootstrap[:,i], alpha=alpha) for i in range(n_iter)])\n",
    "        \n",
    "        #err_2 = np.array([check_ttest(a_bootstrap[:,i]*effect, b_bootstrap[:,i], alpha=alpha) for i in range(n_iter)])\n",
    "\n",
    "        result[effect]=np.mean(abs(err_2-1))\n",
    "        print(f\"{effect=}, {result[effect]}\")\n",
    "    \n",
    "    return result"
   ]
  },
  {
   "cell_type": "markdown",
   "id": "9db01d05-512f-4e53-b946-0892349c4c37",
   "metadata": {},
   "source": [
    "# Ошибка второго рода"
   ]
  },
  {
   "cell_type": "code",
   "execution_count": 202,
   "id": "d11af92c-71cb-4aa5-bfb6-641bc2f28551",
   "metadata": {
    "tags": []
   },
   "outputs": [
    {
     "name": "stdout",
     "output_type": "stream",
     "text": [
      "effect=1.0, 0.895\n",
      "effect=1.03, 0.925\n",
      "effect=1.1, 0.956\n",
      "effect=1.2, 0.937\n",
      "effect=1.5, 0.633\n",
      "effect=2, 0.129\n",
      "effect=3, 0.004\n",
      "effect=4, 0.0\n",
      "CPU times: user 12.7 s, sys: 36.8 ms, total: 12.7 s\n",
      "Wall time: 12.8 s\n"
     ]
    },
    {
     "data": {
      "text/plain": [
       "{1.0: 0.895,\n",
       " 1.03: 0.925,\n",
       " 1.1: 0.956,\n",
       " 1.2: 0.937,\n",
       " 1.5: 0.633,\n",
       " 2: 0.129,\n",
       " 3: 0.004,\n",
       " 4: 0.0}"
      ]
     },
     "execution_count": 202,
     "metadata": {},
     "output_type": "execute_result"
    }
   ],
   "source": [
    "n=100\n",
    "metric_name='value'\n",
    "alpha=0.05\n",
    "n_iter=1000\n",
    "seed=10\n",
    "effects = [1.0, 1.03, 1.1, 1.2, 1.5, 2, 3, 4]\n",
    "\n",
    "samples = 1\n",
    "\n",
    "df_pilot_group = pd.DataFrame(data=np.random.normal(1, 1, n), columns=[metric_name])\n",
    "df_control_group=pd.DataFrame(data=np.random.normal(1, 1, n), columns=[metric_name])\n",
    "\n",
    "%time rc = estimate_second_type_error(df_pilot_group, df_control_group, metric_name, effects, alpha=alpha, n_iter=n_iter, seed=seed)\n",
    "\n",
    "rc"
   ]
  },
  {
   "cell_type": "code",
   "execution_count": 175,
   "id": "ebe25db4-e30a-40b4-bef9-c29a6003f2ad",
   "metadata": {
    "tags": []
   },
   "outputs": [
    {
     "data": {
      "text/plain": [
       "{1.03: 0.093}"
      ]
     },
     "execution_count": 175,
     "metadata": {},
     "output_type": "execute_result"
    }
   ],
   "source": [
    "CPU times: user 12.6 s, sys: 35.9 ms, total: 12.7 s\n",
    "Wall time: 12.7 s\n",
    "\n",
    "effect=1.0, 0.895\n",
    "effect=1.03, 0.925\n",
    "effect=1.1, 0.956\n",
    "effect=1.2, 0.937\n",
    "effect=1.5, 0.633\n",
    "effect=2, 0.129\n",
    "effect=3, 0.004\n",
    "effect=4, 0.0\n",
    "{1.0: 0.895,\n",
    " 1.03: 0.925,\n",
    " 1.1: 0.956,\n",
    " 1.2: 0.937,\n",
    " 1.5: 0.633,\n",
    " 2: 0.129,\n",
    " 3: 0.004,\n",
    " 4: 0.0}"
   ]
  },
  {
   "cell_type": "code",
   "execution_count": 164,
   "id": "5fcd6abb-2ef3-4b8b-82e2-0b16cc93ba3f",
   "metadata": {
    "tags": []
   },
   "outputs": [
    {
     "data": {
      "text/plain": [
       "array([[-1.42353753, -0.97248784, -0.97248784, -0.97248784, -0.97248784,\n",
       "         0.18213215,  1.37870213, -0.97248784, -1.42353753, -0.97248784],\n",
       "       [-0.97248784, -1.42353753,  1.37870213,  1.37870213,  0.16519153,\n",
       "        -1.42353753,  0.16519153,  1.37870213,  0.18213215, -1.42353753],\n",
       "       [ 0.16519153, -1.42353753, -0.97248784,  0.18213215, -0.97248784,\n",
       "         0.16519153,  1.37870213,  1.37870213,  0.16519153, -0.97248784],\n",
       "       [-1.42353753,  1.37870213, -0.97248784, -0.97248784,  0.16519153,\n",
       "         0.16519153, -1.42353753,  0.16519153,  0.16519153,  0.18213215],\n",
       "       [ 0.18213215,  0.16519153, -0.97248784,  1.37870213, -1.42353753,\n",
       "         1.37870213,  0.16519153,  0.16519153, -1.42353753,  1.37870213]])"
      ]
     },
     "execution_count": 164,
     "metadata": {},
     "output_type": "execute_result"
    }
   ],
   "source": [
    "a_bootstrap*1.03"
   ]
  },
  {
   "cell_type": "code",
   "execution_count": 165,
   "id": "8dbb1e83-ae59-4584-8231-e8a648c1261a",
   "metadata": {
    "tags": []
   },
   "outputs": [
    {
     "data": {
      "text/plain": [
       "array([-1.38207527, -0.94416295,  0.16038013, -1.38207527,  0.17682733])"
      ]
     },
     "execution_count": 165,
     "metadata": {},
     "output_type": "execute_result"
    }
   ],
   "source": [
    "a_bootstrap[:,0]"
   ]
  },
  {
   "cell_type": "code",
   "execution_count": 166,
   "id": "4c0f18c2-e6ab-4c7b-810f-35518ab6e866",
   "metadata": {
    "tags": []
   },
   "outputs": [
    {
     "data": {
      "text/plain": [
       "array([-1.42353753, -0.97248784,  0.16519153, -1.42353753,  0.18213215])"
      ]
     },
     "execution_count": 166,
     "metadata": {},
     "output_type": "execute_result"
    }
   ],
   "source": [
    "a_bootstrap[:,0]*1.03"
   ]
  },
  {
   "cell_type": "markdown",
   "id": "0e777dcb-88ae-4287-8420-5c1377a2de60",
   "metadata": {},
   "source": [
    "# Ошибка первого рода"
   ]
  },
  {
   "cell_type": "code",
   "execution_count": 148,
   "id": "6de45445-b4b2-4679-a1ba-adde3b088567",
   "metadata": {
    "tags": []
   },
   "outputs": [
    {
     "data": {
      "application/vnd.jupyter.widget-view+json": {
       "model_id": "abd18f10e4194bfe9c55e9a836fd1ccd",
       "version_major": 2,
       "version_minor": 0
      },
      "text/plain": [
       "  0%|          | 0/50 [00:00<?, ?it/s]"
      ]
     },
     "metadata": {},
     "output_type": "display_data"
    },
    {
     "data": {
      "application/vnd.jupyter.widget-view+json": {
       "model_id": "c1b95578f0004f3fb41d56bd00cf60c4",
       "version_major": 2,
       "version_minor": 0
      },
      "text/plain": [
       "  0%|          | 0/50 [00:00<?, ?it/s]"
      ]
     },
     "metadata": {},
     "output_type": "display_data"
    },
    {
     "data": {
      "application/vnd.jupyter.widget-view+json": {
       "model_id": "3246c47399fe4493b78850f7c717e69c",
       "version_major": 2,
       "version_minor": 0
      },
      "text/plain": [
       "  0%|          | 0/50 [00:00<?, ?it/s]"
      ]
     },
     "metadata": {},
     "output_type": "display_data"
    },
    {
     "data": {
      "image/png": "[encoded data removed]",
      "text/plain": [
       "<Figure size 1000x400 with 1 Axes>"
      ]
     },
     "metadata": {},
     "output_type": "display_data"
    }
   ],
   "source": [
    "metric_name='value'\n",
    "alpha=0.05\n",
    "n_iter=1000\n",
    "seed=None\n",
    "\n",
    "samples=50\n",
    "\n",
    "for n in [10,100,1000]:\n",
    "    df_pilot_group = pd.DataFrame(data=np.random.normal(0, 1, n), columns=[metric_name])\n",
    "    df_control_group=pd.DataFrame(data=np.random.normal(0, 1, n), columns=[metric_name])\n",
    "\n",
    "    # Смотрим распределение ошибки\n",
    "    error_1 = list()\n",
    "    for i in tqdm(range(samples)):\n",
    "        error_1.append(estimate_first_type_error(df_pilot_group, df_control_group, metric_name=metric_name, alpha=alpha, n_iter=n_iter, seed=seed))\n",
    "    \n",
    "    X = np.linspace(start=1,stop=len(error_1),num=len(error_1))\n",
    "    Y = error_1\n",
    "    plt.plot(X, Y, label=f\"n={n}\")\n",
    "    \n",
    "plt.legend()\n",
    "plt.xlabel('x')\n",
    "plt.grid()\n",
    "plt.show()"
   ]
  },
  {
   "cell_type": "code",
   "execution_count": 56,
   "id": "143ba98a-a84b-4fcb-a181-e9141c2e1379",
   "metadata": {
    "tags": []
   },
   "outputs": [
    {
     "data": {
      "text/plain": [
       "0.078"
      ]
     },
     "execution_count": 56,
     "metadata": {},
     "output_type": "execute_result"
    }
   ],
   "source": [
    "def check_ttest(a, b, alpha=0.05):\n",
    "    \"\"\"Тест Стьюдента. Возвращает 1, если отличия значимы.\"\"\"\n",
    "    _, pvalue = ttest_ind(a, b)\n",
    "    return int(pvalue < alpha)\n",
    "\n"
   ]
  },
  {
   "cell_type": "code",
   "execution_count": 44,
   "id": "628f292c-45d0-40b3-95a3-ad8b5014660e",
   "metadata": {
    "tags": []
   },
   "outputs": [
    {
     "data": {
      "text/plain": [
       "array([ 0.72375714, -3.09448084,  0.72375714, -0.84299555,  2.4368604 ])"
      ]
     },
     "execution_count": 44,
     "metadata": {},
     "output_type": "execute_result"
    }
   ],
   "source": [
    "a_bootstrap[:,1]"
   ]
  },
  {
   "cell_type": "code",
   "execution_count": 53,
   "id": "4b4e87cb-4702-4cf6-b8c8-485ac13892d1",
   "metadata": {
    "tags": []
   },
   "outputs": [
    {
     "data": {
      "text/plain": [
       "array([0, 0, 0, 0, 0, 0, 0, 1, 0, 0])"
      ]
     },
     "execution_count": 53,
     "metadata": {},
     "output_type": "execute_result"
    }
   ],
   "source": [
    "\n",
    "results"
   ]
  },
  {
   "cell_type": "code",
   "execution_count": 54,
   "id": "354b4429-8646-437a-bf4a-f01e73d063fb",
   "metadata": {
    "tags": []
   },
   "outputs": [
    {
     "data": {
      "text/plain": [
       "0.1"
      ]
     },
     "execution_count": 54,
     "metadata": {},
     "output_type": "execute_result"
    }
   ],
   "source": [
    "np.sum(results)/results.size"
   ]
  }
 ],
 "metadata": {
  "kernelspec": {
   "display_name": "Python 3 (ipykernel)",
   "language": "python",
   "name": "python3"
  },
  "language_info": {
   "codemirror_mode": {
    "name": "ipython",
    "version": 3
   },
   "file_extension": ".py",
   "mimetype": "text/x-python",
   "name": "python",
   "nbconvert_exporter": "python",
   "pygments_lexer": "ipython3",
   "version": "3.11.5"
  }
 },
 "nbformat": 4,
 "nbformat_minor": 5
}
