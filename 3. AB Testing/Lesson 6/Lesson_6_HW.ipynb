{
 "cells": [
  {
   "cell_type": "raw",
   "id": "8ece2e10-fc3e-42d7-a6c2-7dbef4510dbf",
   "metadata": {},
   "source": [
    "Задача. Вычисление линеаризованной метрики\n",
    "Нужно написать функцию, которая считает пользовательскую линеаризованную метрику.\n",
    "\n",
    "Допустим, у нас есть информация о покупках пользователей. Мы хотим оценить значимость отличия средней стоимости покупки. Это ratio-метрика, так как мы делим сумму стоимостей покупок на количество покупок."
   ]
  },
  {
   "cell_type": "code",
   "execution_count": 278,
   "id": "78124293-c10f-493d-8585-d14e4d4d4140",
   "metadata": {
    "tags": []
   },
   "outputs": [],
   "source": [
    "import pandas as pd\n",
    "import numpy as np\n",
    "import datetime as dt\n",
    "\n",
    "def calculate_linearized_metric(\n",
    "    df, value_name, user_id_name, list_user_id, date_name, period, metric_name, kappa=None\n",
    "):\n",
    "    \"\"\"Вычисляет значение линеаризованной метрики для списка пользователей в определённый период.\n",
    "    \n",
    "    df - pd.DataFrame, датафрейм с данными\n",
    "    value_name - str, название столбца со значениями для вычисления целевой метрики\n",
    "    user_id_name - str, название столбца с идентификаторами пользователей\n",
    "    list_user_id - List[int], список идентификаторов пользователей, для которых нужно посчитать метрики\n",
    "    date_name - str, название столбца с датами\n",
    "    period - dict, словарь с датами начала и конца периода, за который нужно посчитать метрики.\n",
    "        Пример, {'begin': '2020-01-01', 'end': '2020-01-08'}. Дата начала периода входит в\n",
    "        полуинтервал, а дата окончания нет, то есть '2020-01-01' <= date < '2020-01-08'.\n",
    "    metric_name - str, название полученной метрики\n",
    "    kappa - float, коэффициент в функции линеаризации.\n",
    "        Если None, то посчитать как ratio метрику по имеющимся данным.\n",
    "\n",
    "    return - pd.DataFrame, со столбцами [user_id_name, metric_name], кол-во строк должно быть равно\n",
    "        кол-ву элементов в списке list_user_id.\n",
    "    \"\"\"\n",
    "\n",
    "    # YOUR_CODE_HERE\n",
    "    data = df.copy()\n",
    "    data[date_name] = pd.to_datetime(data[date_name])\n",
    "    mask = (period['begin'] <= data[date_name]) & (data[date_name] < period['end']) & (data[user_id_name].isin(list_user_id))\n",
    "    \n",
    "    data = data[mask]\\\n",
    "            .drop(columns=[date_name])\\\n",
    "            .groupby(user_id_name)\\\n",
    "            .agg(['sum','count'])\\\n",
    "            .reset_index()\n",
    "\n",
    "    columns = [f\"{a}_{b}\" if user_id_name not in f\"{a}\" else user_id_name for a,b in data.columns]\n",
    "    data.columns = columns\n",
    "\n",
    "    x = data[f\"{value_name}_sum\"].to_numpy()\n",
    "    y = data[f\"{value_name}_count\"].to_numpy()\n",
    "    if kappa is None: kappa = x.sum()/y.sum()\n",
    "\n",
    "    l = x - kappa * y\n",
    "\n",
    "    data[metric_name] = l\n",
    "    data = pd.DataFrame(data = np.array(list_user_id), columns=[user_id_name]).merge(data, how='outer', on=[user_id_name]).fillna(0)\n",
    "\n",
    "    rc = pd.DataFrame()\n",
    "    rc[user_id_name] = data[user_id_name]\n",
    "    rc[metric_name]  = data[metric_name]\n",
    "\n",
    "    return rc"
   ]
  },
  {
   "cell_type": "code",
   "execution_count": 243,
   "id": "8574bebb-d1f9-4122-8551-75419004e050",
   "metadata": {
    "tags": []
   },
   "outputs": [
    {
     "name": "stdout",
     "output_type": "stream",
     "text": [
      "2020-01-01 00:00:00 2020-01-05 00:00:00\n"
     ]
    },
    {
     "data": {
      "text/html": [
       "<div>\n",
       "<style scoped>\n",
       "    .dataframe tbody tr th:only-of-type {\n",
       "        vertical-align: middle;\n",
       "    }\n",
       "\n",
       "    .dataframe tbody tr th {\n",
       "        vertical-align: top;\n",
       "    }\n",
       "\n",
       "    .dataframe thead th {\n",
       "        text-align: right;\n",
       "    }\n",
       "</style>\n",
       "<table border=\"1\" class=\"dataframe\">\n",
       "  <thead>\n",
       "    <tr style=\"text-align: right;\">\n",
       "      <th></th>\n",
       "      <th>date</th>\n",
       "      <th>user_id</th>\n",
       "      <th>purchase</th>\n",
       "    </tr>\n",
       "  </thead>\n",
       "  <tbody>\n",
       "    <tr>\n",
       "      <th>0</th>\n",
       "      <td>2020-01-01</td>\n",
       "      <td>5</td>\n",
       "      <td>93.72</td>\n",
       "    </tr>\n",
       "    <tr>\n",
       "      <th>1</th>\n",
       "      <td>2020-01-01</td>\n",
       "      <td>5</td>\n",
       "      <td>96.84</td>\n",
       "    </tr>\n",
       "    <tr>\n",
       "      <th>2</th>\n",
       "      <td>2020-01-02</td>\n",
       "      <td>3</td>\n",
       "      <td>77.29</td>\n",
       "    </tr>\n",
       "    <tr>\n",
       "      <th>3</th>\n",
       "      <td>2020-01-02</td>\n",
       "      <td>3</td>\n",
       "      <td>116.74</td>\n",
       "    </tr>\n",
       "    <tr>\n",
       "      <th>4</th>\n",
       "      <td>2020-01-03</td>\n",
       "      <td>2</td>\n",
       "      <td>100.73</td>\n",
       "    </tr>\n",
       "  </tbody>\n",
       "</table>\n",
       "</div>"
      ],
      "text/plain": [
       "         date  user_id  purchase\n",
       "0  2020-01-01        5     93.72\n",
       "1  2020-01-01        5     96.84\n",
       "2  2020-01-02        3     77.29\n",
       "3  2020-01-02        3    116.74\n",
       "4  2020-01-03        2    100.73"
      ]
     },
     "execution_count": 243,
     "metadata": {},
     "output_type": "execute_result"
    }
   ],
   "source": [
    "#\n",
    "# Генерируем тестовые данные\n",
    "#\n",
    "\n",
    "def generate_purchase_list(mean, num) ->np.array:\n",
    "    \"\"\"\n",
    "    Генерирует список стомостей покупок\n",
    "    mean - средняя стоиомсть покупки\n",
    "    num  - число покупок, для которых нало сгенерировать стоимости\n",
    "    выход - горизонтальнйы np.array, shape(1,)\n",
    "    \"\"\"\n",
    "    purchase_list = np.random.normal(loc=mean, scale=mean/2, size=num).round(2)\n",
    "    purchase_list = np.where(purchase_list > 0, purchase_list, 1)\n",
    "    return purchase_list\n",
    "\n",
    "seed = 152 #None\n",
    "if seed is not None: np.random.seed(seed)\n",
    "\n",
    "num_users = 5\n",
    "start_date = dt.datetime(2020, 1, 1)\n",
    "num_days = 4\n",
    "mean_purchase_cost = 100                   # средняя стоимость одной покупки\n",
    "max_purchases_x_user_x_day = 5             # max кол-во покупок пользователя/день\n",
    "num_user_entries_x_day = 6                # кол-во заходов в магазин в день, один и тот же user может заходить несколько раз  \n",
    "\n",
    "end_date = start_date + dt.timedelta(days=num_days)\n",
    "dates_list = pd.date_range(min(start_date, end_date), max(start_date, end_date)).strftime('%Y-%m-%d').tolist()\n",
    "user_ids = np.arange(1, num_users+1)\n",
    "\n",
    "df = pd.DataFrame()\n",
    "for this_day in dates_list:\n",
    "    \n",
    "    # генерируем cлучайный массив [user_id, num_purchases] для данного дня\n",
    "    purchases_this_day = np.random.randint(low=[1,1]\n",
    "                                           ,high=[num_users+1\n",
    "                                           ,max_purchases_x_user_x_day+1]\n",
    "                                           ,size=(num_user_entries_x_day,2))\n",
    "\n",
    "    for [user_id_, num_purchases_this_day_] in purchases_this_day:\n",
    "        purchase_values_ = np.reshape(\n",
    "                            np.array(generate_purchase_list(mean = mean_purchase_cost\n",
    "                                     ,num = num_purchases_this_day_))\n",
    "                            , (-1,1))\n",
    "        data_ = np.concatenate(\n",
    "            (np.array( len(purchase_values_)*[[this_day, user_id_]] )\n",
    "                       ,purchase_values_)\n",
    "                       ,axis=1 )\n",
    "    \n",
    "    #print(f\"{user_id_=}, len={len(purchase_values_)},\\n{purchase_values_=},\\n{data_=}\")\n",
    "    \n",
    "    df_ = pd.DataFrame(data=data_, columns=['date', 'user_id', 'purchase'])\n",
    "    \n",
    "    df = pd.concat([df,df_])\n",
    "    \n",
    "df = df.reset_index().drop(columns=['index'])\n",
    "df['user_id'] = df['user_id'].astype('int')\n",
    "df['purchase'] = df['purchase'].astype('float64')\n",
    "\n",
    "print(start_date, end_date)\n",
    "df.head()"
   ]
  },
  {
   "cell_type": "code",
   "execution_count": 258,
   "id": "aa2b2d2e-82e6-4ea0-bc64-dcc3a54063c4",
   "metadata": {
    "tags": []
   },
   "outputs": [],
   "source": [
    "value_name = 'purchase'\n",
    "user_id_name = 'user_id'\n",
    "date_name = 'date'\n",
    "metric_name = 'metric_value'\n",
    "\n",
    "used_ids = df['user_id'].unique().tolist()\n",
    "list_user_id = used_ids + [list(set(np.arange(1,num_users+1).tolist()) - set(used_ids))[0]]\n",
    "\n",
    "period = {'begin': '2020-01-02', 'end': '2020-01-04'}\n",
    "kappa=None"
   ]
  },
  {
   "cell_type": "code",
   "execution_count": 279,
   "id": "98c0fc43-5b96-451e-af85-b42a0135a51f",
   "metadata": {
    "tags": []
   },
   "outputs": [
    {
     "data": {
      "text/html": [
       "<div>\n",
       "<style scoped>\n",
       "    .dataframe tbody tr th:only-of-type {\n",
       "        vertical-align: middle;\n",
       "    }\n",
       "\n",
       "    .dataframe tbody tr th {\n",
       "        vertical-align: top;\n",
       "    }\n",
       "\n",
       "    .dataframe thead th {\n",
       "        text-align: right;\n",
       "    }\n",
       "</style>\n",
       "<table border=\"1\" class=\"dataframe\">\n",
       "  <thead>\n",
       "    <tr style=\"text-align: right;\">\n",
       "      <th></th>\n",
       "      <th>user_id</th>\n",
       "      <th>metric_value</th>\n",
       "    </tr>\n",
       "  </thead>\n",
       "  <tbody>\n",
       "    <tr>\n",
       "      <th>0</th>\n",
       "      <td>5</td>\n",
       "      <td>0.000000</td>\n",
       "    </tr>\n",
       "    <tr>\n",
       "      <th>1</th>\n",
       "      <td>3</td>\n",
       "      <td>-17.078571</td>\n",
       "    </tr>\n",
       "    <tr>\n",
       "      <th>2</th>\n",
       "      <td>2</td>\n",
       "      <td>17.078571</td>\n",
       "    </tr>\n",
       "    <tr>\n",
       "      <th>3</th>\n",
       "      <td>4</td>\n",
       "      <td>0.000000</td>\n",
       "    </tr>\n",
       "    <tr>\n",
       "      <th>4</th>\n",
       "      <td>1</td>\n",
       "      <td>0.000000</td>\n",
       "    </tr>\n",
       "  </tbody>\n",
       "</table>\n",
       "</div>"
      ],
      "text/plain": [
       "   user_id  metric_value\n",
       "0        5      0.000000\n",
       "1        3    -17.078571\n",
       "2        2     17.078571\n",
       "3        4      0.000000\n",
       "4        1      0.000000"
      ]
     },
     "execution_count": 279,
     "metadata": {},
     "output_type": "execute_result"
    }
   ],
   "source": [
    "calculate_linearized_metric(\n",
    "    df, value_name, user_id_name, list_user_id, date_name, period, metric_name, kappa=None\n",
    ")"
   ]
  },
  {
   "cell_type": "code",
   "execution_count": 280,
   "id": "e27c225e-a4cd-4788-affa-b457e2ff2bbf",
   "metadata": {
    "tags": []
   },
   "outputs": [
    {
     "data": {
      "text/html": [
       "<div>\n",
       "<style scoped>\n",
       "    .dataframe tbody tr th:only-of-type {\n",
       "        vertical-align: middle;\n",
       "    }\n",
       "\n",
       "    .dataframe tbody tr th {\n",
       "        vertical-align: top;\n",
       "    }\n",
       "\n",
       "    .dataframe thead tr th {\n",
       "        text-align: left;\n",
       "    }\n",
       "</style>\n",
       "<table border=\"1\" class=\"dataframe\">\n",
       "  <thead>\n",
       "    <tr>\n",
       "      <th></th>\n",
       "      <th>user_id</th>\n",
       "      <th colspan=\"2\" halign=\"left\">purchase</th>\n",
       "    </tr>\n",
       "    <tr>\n",
       "      <th></th>\n",
       "      <th></th>\n",
       "      <th>sum</th>\n",
       "      <th>count</th>\n",
       "    </tr>\n",
       "  </thead>\n",
       "  <tbody>\n",
       "    <tr>\n",
       "      <th>0</th>\n",
       "      <td>2</td>\n",
       "      <td>544.85</td>\n",
       "      <td>5</td>\n",
       "    </tr>\n",
       "    <tr>\n",
       "      <th>1</th>\n",
       "      <td>3</td>\n",
       "      <td>194.03</td>\n",
       "      <td>2</td>\n",
       "    </tr>\n",
       "  </tbody>\n",
       "</table>\n",
       "</div>"
      ],
      "text/plain": [
       "  user_id purchase      \n",
       "               sum count\n",
       "0       2   544.85     5\n",
       "1       3   194.03     2"
      ]
     },
     "execution_count": 280,
     "metadata": {},
     "output_type": "execute_result"
    }
   ],
   "source": [
    "data = df.copy()\n",
    "data[date_name] = pd.to_datetime(data[date_name])\n",
    "mask = (period['begin'] <= data[date_name]) & (data[date_name] < period['end']) & (data[user_id_name].isin(list_user_id))\n",
    "    \n",
    "data = data[mask]\\\n",
    "            .drop(columns=[date_name])\\\n",
    "            .groupby(user_id_name)\\\n",
    "            .agg(['sum','count'])\\\n",
    "            .reset_index()\n",
    "\n",
    "#columns = [f\"{a}_{b}\" if user_id_name not in f\"{a}\" else user_id_name for a,b in data.columns]\n",
    "#data.columns = columns\n",
    "data"
   ]
  },
  {
   "cell_type": "code",
   "execution_count": 287,
   "id": "e4d9b675-e97b-4029-a69e-cc3ce7107dbb",
   "metadata": {
    "tags": []
   },
   "outputs": [
    {
     "data": {
      "text/plain": [
       "Index(['', 'sum', 'count'], dtype='object')"
      ]
     },
     "execution_count": 287,
     "metadata": {},
     "output_type": "execute_result"
    }
   ],
   "source": [
    "data.columns.get_level_values(1)"
   ]
  },
  {
   "cell_type": "code",
   "execution_count": 274,
   "id": "89528c66-42c4-448f-ba00-2d0c8f8fef67",
   "metadata": {
    "tags": []
   },
   "outputs": [
    {
     "name": "stdout",
     "output_type": "stream",
     "text": [
      "x=array([544.85, 194.03]), y=array([5, 2]), kappa=105.55428571428571, l=array([ 17.07857143, -17.07857143])\n"
     ]
    },
    {
     "data": {
      "text/plain": [
       "(   user_id  purchase_sum  purchase_count  metric_value\n",
       " 0        5          0.00             0.0      0.000000\n",
       " 1        3        194.03             2.0    -17.078571\n",
       " 2        2        544.85             5.0     17.078571\n",
       " 3        4          0.00             0.0      0.000000\n",
       " 4        1          0.00             0.0      0.000000,\n",
       "    user_id  metric_value\n",
       " 0        5      0.000000\n",
       " 1        3    -17.078571\n",
       " 2        2     17.078571\n",
       " 3        4      0.000000\n",
       " 4        1      0.000000)"
      ]
     },
     "execution_count": 274,
     "metadata": {},
     "output_type": "execute_result"
    }
   ],
   "source": [
    "data = df.copy()\n",
    "data[date_name] = pd.to_datetime(data[date_name])\n",
    "mask = (period['begin'] <= data[date_name]) & (data[date_name] < period['end']) & (data[user_id_name].isin(list_user_id))\n",
    "    \n",
    "data = data[mask]\\\n",
    "            .drop(columns=[date_name])\\\n",
    "            .groupby(user_id_name)\\\n",
    "            .agg(['sum','count'])\\\n",
    "            .reset_index()\n",
    "\n",
    "columns = [f\"{a}_{b}\" if user_id_name not in f\"{a}\" else user_id_name for a,b in data.columns]\n",
    "data.columns = columns\n",
    "\n",
    "x = data[f\"{value_name}_sum\"].to_numpy()\n",
    "y = data[f\"{value_name}_count\"].to_numpy()\n",
    "if kappa is None: kappa = x.sum()/y.sum()\n",
    "\n",
    "l = x - kappa * y\n",
    "\n",
    "data[metric_name] = l\n",
    "data = pd.DataFrame(data = np.array(list_user_id), columns=[user_id_name]).merge(data, how='outer', on=[user_id_name]).fillna(0)\n",
    "\n",
    "rc = pd.DataFrame()\n",
    "rc[user_id_name] = data[user_id_name]\n",
    "rc[metric_name]  = data[metric_name]\n",
    "\n",
    "print(f\"{x=}, {y=}, {kappa=}, {l=}\")\n",
    "\n",
    "\n",
    "data, rc"
   ]
  },
  {
   "cell_type": "code",
   "execution_count": 270,
   "id": "e12398db-6cb2-4d57-9033-9034431c3ecc",
   "metadata": {
    "tags": []
   },
   "outputs": [
    {
     "data": {
      "text/html": [
       "<div>\n",
       "<style scoped>\n",
       "    .dataframe tbody tr th:only-of-type {\n",
       "        vertical-align: middle;\n",
       "    }\n",
       "\n",
       "    .dataframe tbody tr th {\n",
       "        vertical-align: top;\n",
       "    }\n",
       "\n",
       "    .dataframe thead th {\n",
       "        text-align: right;\n",
       "    }\n",
       "</style>\n",
       "<table border=\"1\" class=\"dataframe\">\n",
       "  <thead>\n",
       "    <tr style=\"text-align: right;\">\n",
       "      <th></th>\n",
       "      <th>user_id</th>\n",
       "      <th>purchase_sum</th>\n",
       "      <th>purchase_count</th>\n",
       "      <th>metric_value</th>\n",
       "    </tr>\n",
       "  </thead>\n",
       "  <tbody>\n",
       "    <tr>\n",
       "      <th>0</th>\n",
       "      <td>5</td>\n",
       "      <td>0.00</td>\n",
       "      <td>0.0</td>\n",
       "      <td>0.000000</td>\n",
       "    </tr>\n",
       "    <tr>\n",
       "      <th>1</th>\n",
       "      <td>3</td>\n",
       "      <td>194.03</td>\n",
       "      <td>2.0</td>\n",
       "      <td>-17.078571</td>\n",
       "    </tr>\n",
       "    <tr>\n",
       "      <th>2</th>\n",
       "      <td>2</td>\n",
       "      <td>544.85</td>\n",
       "      <td>5.0</td>\n",
       "      <td>17.078571</td>\n",
       "    </tr>\n",
       "    <tr>\n",
       "      <th>3</th>\n",
       "      <td>4</td>\n",
       "      <td>0.00</td>\n",
       "      <td>0.0</td>\n",
       "      <td>0.000000</td>\n",
       "    </tr>\n",
       "    <tr>\n",
       "      <th>4</th>\n",
       "      <td>1</td>\n",
       "      <td>0.00</td>\n",
       "      <td>0.0</td>\n",
       "      <td>0.000000</td>\n",
       "    </tr>\n",
       "  </tbody>\n",
       "</table>\n",
       "</div>"
      ],
      "text/plain": [
       "   user_id  purchase_sum  purchase_count  metric_value\n",
       "0        5          0.00             0.0      0.000000\n",
       "1        3        194.03             2.0    -17.078571\n",
       "2        2        544.85             5.0     17.078571\n",
       "3        4          0.00             0.0      0.000000\n",
       "4        1          0.00             0.0      0.000000"
      ]
     },
     "execution_count": 270,
     "metadata": {},
     "output_type": "execute_result"
    }
   ],
   "source": [
    "list_user_id\n"
   ]
  },
  {
   "cell_type": "code",
   "execution_count": 267,
   "id": "575adb23-c061-4f35-87f9-ff55cf4a4fb6",
   "metadata": {
    "tags": []
   },
   "outputs": [
    {
     "data": {
      "text/html": [
       "<div>\n",
       "<style scoped>\n",
       "    .dataframe tbody tr th:only-of-type {\n",
       "        vertical-align: middle;\n",
       "    }\n",
       "\n",
       "    .dataframe tbody tr th {\n",
       "        vertical-align: top;\n",
       "    }\n",
       "\n",
       "    .dataframe thead th {\n",
       "        text-align: right;\n",
       "    }\n",
       "</style>\n",
       "<table border=\"1\" class=\"dataframe\">\n",
       "  <thead>\n",
       "    <tr style=\"text-align: right;\">\n",
       "      <th></th>\n",
       "      <th>user_id_</th>\n",
       "      <th>purchase_sum</th>\n",
       "      <th>purchase_count</th>\n",
       "      <th>metric_value</th>\n",
       "    </tr>\n",
       "  </thead>\n",
       "  <tbody>\n",
       "    <tr>\n",
       "      <th>0</th>\n",
       "      <td>2</td>\n",
       "      <td>544.85</td>\n",
       "      <td>5</td>\n",
       "      <td>17.078571</td>\n",
       "    </tr>\n",
       "    <tr>\n",
       "      <th>1</th>\n",
       "      <td>3</td>\n",
       "      <td>194.03</td>\n",
       "      <td>2</td>\n",
       "      <td>-17.078571</td>\n",
       "    </tr>\n",
       "  </tbody>\n",
       "</table>\n",
       "</div>"
      ],
      "text/plain": [
       "   user_id_  purchase_sum  purchase_count  metric_value\n",
       "0         2        544.85               5     17.078571\n",
       "1         3        194.03               2    -17.078571"
      ]
     },
     "execution_count": 267,
     "metadata": {},
     "output_type": "execute_result"
    }
   ],
   "source": [
    "\n",
    "data"
   ]
  },
  {
   "cell_type": "code",
   "execution_count": null,
   "id": "ddef2fe1-ee91-4022-a7ba-a2f1c12053fd",
   "metadata": {},
   "outputs": [],
   "source": [
    "# Генерация тестовых данных\n",
    "def get_session_duration(size, effect=0, seed=None):\n",
    "    \"\"\"Генерирует данные с продолжительностями сессий.\n",
    "    \n",
    "    size: int, количество пользователей.\n",
    "    effect: float, размер эффекта, на сколько изменилась продолжительность сессии относительно базовой.\n",
    "    seed: int, состоянеие генератора случайных чисел\n",
    "    \n",
    "    return: List[np.array], список массивов,\n",
    "        элемент списка - пользователь,\n",
    "        элементы массива - длины сессий.\n",
    "    \"\"\"\n",
    "    def _user_sessions(mean):\n",
    "        size = np.random.randint(3,10)\n",
    "        duration = np.random.normal(loc=mean, scale=10, size=size).round()\n",
    "        duration = np.where(duration > 0, duration, 0)\n",
    "        return duration\n",
    "    \n",
    "    if seed:\n",
    "        np.random.seed(seed)\n",
    "    \n",
    "    mean_durations = np.random.normal(loc=100, scale=20, size=size) * (1 + effect)\n",
    "    return [_user_sessions(mean) for mean in mean_durations]"
   ]
  },
  {
   "cell_type": "code",
   "execution_count": 4,
   "id": "c3e76c2b-27c9-47ef-a673-420ab12baf79",
   "metadata": {
    "tags": []
   },
   "outputs": [
    {
     "name": "stdout",
     "output_type": "stream",
     "text": [
      "a {'data': [1, 2, 3]}\n",
      "a {'data': [1, 2, 3], 'new': 'added'}\n",
      "b {'data': [4, 5, 6]}\n",
      "b {'data': [4, 5, 6], 'new': 'added'}\n",
      "{'a': {'data': [1, 2, 3], 'new': 'added'}, 'b': {'data': [4, 5, 6], 'new': 'added'}}\n"
     ]
    }
   ],
   "source": [
    "dict_stats = {'a': {'data': [1,2,3]}, 'b': {'data': [4,5,6]}}\n",
    "for key, dict_ in dict_stats.items():\n",
    "    print(key, dict_)\n",
    "    dict_['new']='added'\n",
    "    print(key, dict_)\n",
    "\n",
    "print(dict_stats)"
   ]
  }
 ],
 "metadata": {
  "kernelspec": {
   "display_name": "Python 3 (ipykernel)",
   "language": "python",
   "name": "python3"
  },
  "language_info": {
   "codemirror_mode": {
    "name": "ipython",
    "version": 3
   },
   "file_extension": ".py",
   "mimetype": "text/x-python",
   "name": "python",
   "nbconvert_exporter": "python",
   "pygments_lexer": "ipython3",
   "version": "3.11.5"
  }
 },
 "nbformat": 4,
 "nbformat_minor": 5
}
