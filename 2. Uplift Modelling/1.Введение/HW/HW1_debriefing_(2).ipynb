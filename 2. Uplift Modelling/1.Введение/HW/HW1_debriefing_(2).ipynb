{
 "cells": [
  {
   "cell_type": "markdown",
   "metadata": {},
   "source": [
    "## Head"
   ]
  },
  {
   "cell_type": "code",
   "execution_count": null,
   "metadata": {},
   "outputs": [],
   "source": [
    "import numpy as np\n",
    "import pandas as pd\n",
    "import matplotlib.pyplot as plt\n",
    "import seaborn as sns\n",
    "import pickle\n",
    "\n",
    "from typing import List, Tuple"
   ]
  },
  {
   "cell_type": "code",
   "execution_count": null,
   "metadata": {},
   "outputs": [],
   "source": [
    "import pylift\n",
    "import causalml.metrics as cmetrics\n",
    "\n",
    "from causalml.inference.tree import UpliftRandomForestClassifier\n",
    "from sklearn.model_selection import train_test_split"
   ]
  },
  {
   "cell_type": "code",
   "execution_count": null,
   "metadata": {},
   "outputs": [],
   "source": [
    "#import pylift_utils"
   ]
  },
  {
   "cell_type": "code",
   "execution_count": null,
   "metadata": {},
   "outputs": [],
   "source": []
  },
  {
   "cell_type": "markdown",
   "metadata": {},
   "source": [
    "## Utils"
   ]
  },
  {
   "cell_type": "code",
   "execution_count": null,
   "metadata": {},
   "outputs": [],
   "source": [
    "def uplift_at_k(\n",
    "    predictions: pd.DataFrame,\n",
    "    data: pd.DataFrame,\n",
    "    col_target: str,\n",
    "    col_id: str,\n",
    "    col_treatment: str,\n",
    "    ratio_top: float = 0.3\n",
    ") -> float:\n",
    "    assert len(predictions) == len(data)\n",
    "    n_top = int(len(data) * ratio_top)\n",
    "    top = (\n",
    "        predictions\n",
    "        .sort_values(by=['score'], ascending=False)\n",
    "        .merge(data[[col_id, col_treatment, col_target]], on=[col_id], how='inner')\n",
    "        .iloc[: n_top]\n",
    "    )\n",
    "    tmp = top.groupby(by=[col_treatment])[col_target].mean()\n",
    "    return tmp.loc[1] - tmp.loc[0]"
   ]
  },
  {
   "cell_type": "code",
   "execution_count": null,
   "metadata": {},
   "outputs": [],
   "source": []
  },
  {
   "cell_type": "markdown",
   "metadata": {},
   "source": [
    "## Load'n'cook"
   ]
  },
  {
   "cell_type": "markdown",
   "metadata": {},
   "source": [
    "### load"
   ]
  },
  {
   "cell_type": "markdown",
   "metadata": {},
   "source": [
    "Загружаем весь датасет с соревнования от MineThatData. (не только ту часть, которая была выдана в ДЗ)."
   ]
  },
  {
   "cell_type": "code",
   "execution_count": null,
   "metadata": {
    "scrolled": true
   },
   "outputs": [],
   "source": [
    "data = pd.read_csv('data/Kevin_Hillstrom_MineThatData_E-MailAnalytics_DataMiningChallenge_2008.03.20.csv')"
   ]
  },
  {
   "cell_type": "markdown",
   "metadata": {},
   "source": [
    "### transform"
   ]
  },
  {
   "cell_type": "code",
   "execution_count": null,
   "metadata": {},
   "outputs": [],
   "source": [
    "def one_hot_encode(data: pd.DataFrame, cols: List[str] = None) -> pd.DataFrame:\n",
    "    if cols is None:\n",
    "        cols = data.columns\n",
    "    result = pd.concat([data, pd.get_dummies(data[cols])], axis=1)\n",
    "    return result"
   ]
  },
  {
   "cell_type": "code",
   "execution_count": null,
   "metadata": {},
   "outputs": [],
   "source": [
    "def transform_(data: pd.DataFrame) -> pd.DataFrame:\n",
    "    zipcode_num_dict = {\n",
    "        'Urban': 0,\n",
    "        'Surburban': 1,\n",
    "        'Rural': 2\n",
    "    }\n",
    "    data['zip_code_num'] = data['zip_code'].apply(lambda s: zipcode_num_dict[s])\n",
    "    \n",
    "    channel_num_dict = {\n",
    "        'Web': 0,\n",
    "        'Multichannel': 1,\n",
    "        'Phone': 2\n",
    "    }\n",
    "    data['channel_num'] = data['channel'].apply(lambda s: channel_num_dict[s])\n",
    "    data['history_segment__label'] = data['history_segment'].apply(lambda s: s[0])\n",
    "    data = one_hot_encode(data, cols=['zip_code', 'channel', 'history_segment__label'])\n",
    "    return data"
   ]
  },
  {
   "cell_type": "code",
   "execution_count": null,
   "metadata": {},
   "outputs": [],
   "source": [
    "data = transform_(data)"
   ]
  },
  {
   "cell_type": "code",
   "execution_count": null,
   "metadata": {},
   "outputs": [],
   "source": [
    "data_womens = data.query('segment in (\"No E-Mail\", \"Womens E-Mail\")')"
   ]
  },
  {
   "cell_type": "code",
   "execution_count": null,
   "metadata": {},
   "outputs": [
    {
     "name": "stderr",
     "output_type": "stream",
     "text": [
      "\n",
      "A value is trying to be set on a copy of a slice from a DataFrame.\n",
      "Try using .loc[row_indexer,col_indexer] = value instead\n",
      "\n",
      "See the caveats in the documentation: https://pandas.pydata.org/pandas-docs/stable/user_guide/indexing.html#returning-a-view-versus-a-copy\n"
     ]
    }
   ],
   "source": [
    "data_womens['treatment'] = (data_womens['segment'] == 'Womens E-Mail').astype(int)"
   ]
  },
  {
   "cell_type": "markdown",
   "metadata": {},
   "source": [
    "### fit / validation split"
   ]
  },
  {
   "cell_type": "code",
   "execution_count": null,
   "metadata": {
    "ExecuteTime": {
     "end_time": "2021-05-07T23:49:57.629608Z",
     "start_time": "2021-05-07T23:49:57.622863Z"
    }
   },
   "outputs": [],
   "source": [
    "fit_index, val_index = train_test_split(data_womens.index, test_size=0.5, random_state=148)"
   ]
  },
  {
   "cell_type": "code",
   "execution_count": null,
   "metadata": {
    "ExecuteTime": {
     "end_time": "2021-05-07T23:49:58.043273Z",
     "start_time": "2021-05-07T23:49:58.026353Z"
    }
   },
   "outputs": [],
   "source": [
    "treated_fit_index = data_womens.loc[fit_index, ['treatment']].query('treatment == 1').index\n",
    "treated_val_index = data_womens.loc[val_index, ['treatment']].query('treatment == 1').index"
   ]
  },
  {
   "cell_type": "code",
   "execution_count": null,
   "metadata": {
    "ExecuteTime": {
     "end_time": "2021-05-07T23:49:58.202525Z",
     "start_time": "2021-05-07T23:49:58.191517Z"
    }
   },
   "outputs": [],
   "source": [
    "control_fit_index = data_womens.loc[fit_index, ['treatment']].query('treatment == 0').index\n",
    "control_val_index = data_womens.loc[val_index, ['treatment']].query('treatment == 0').index"
   ]
  },
  {
   "cell_type": "markdown",
   "metadata": {},
   "source": [
    "### column sets"
   ]
  },
  {
   "cell_type": "code",
   "execution_count": null,
   "metadata": {
    "ExecuteTime": {
     "end_time": "2021-03-28T17:43:20.582451Z",
     "start_time": "2021-03-28T17:43:20.569257Z"
    }
   },
   "outputs": [
    {
     "data": {
      "text/plain": [
       "Index(['recency', 'history_segment', 'history', 'mens', 'womens', 'zip_code',\n",
       "       'newbie', 'channel', 'segment', 'visit', 'conversion', 'spend',\n",
       "       'zip_code_num', 'channel_num', 'history_segment__label',\n",
       "       'zip_code_Rural', 'zip_code_Surburban', 'zip_code_Urban',\n",
       "       'channel_Multichannel', 'channel_Phone', 'channel_Web',\n",
       "       'history_segment__label_1', 'history_segment__label_2',\n",
       "       'history_segment__label_3', 'history_segment__label_4',\n",
       "       'history_segment__label_5', 'history_segment__label_6',\n",
       "       'history_segment__label_7', 'treatment'],\n",
       "      dtype='object')"
      ]
     },
     "execution_count": null,
     "metadata": {},
     "output_type": "execute_result"
    }
   ],
   "source": [
    "data_womens.columns"
   ]
  },
  {
   "cell_type": "code",
   "execution_count": null,
   "metadata": {
    "ExecuteTime": {
     "end_time": "2021-03-28T17:43:20.780349Z",
     "start_time": "2021-03-28T17:43:20.777616Z"
    }
   },
   "outputs": [],
   "source": [
    "column_set_n1 = [\n",
    "    'recency',\n",
    "    'history',\n",
    "    'mens',\n",
    "    'womens',\n",
    "    'zip_code_num',\n",
    "    'channel_num'\n",
    "]"
   ]
  },
  {
   "cell_type": "code",
   "execution_count": null,
   "metadata": {},
   "outputs": [],
   "source": []
  },
  {
   "cell_type": "markdown",
   "metadata": {},
   "source": [
    "## Main"
   ]
  },
  {
   "cell_type": "markdown",
   "metadata": {},
   "source": [
    "### basic EDA"
   ]
  },
  {
   "cell_type": "markdown",
   "metadata": {},
   "source": [
    "#### stats"
   ]
  },
  {
   "cell_type": "code",
   "execution_count": null,
   "metadata": {
    "ExecuteTime": {
     "end_time": "2021-04-02T03:32:33.071833Z",
     "start_time": "2021-04-02T03:32:33.051702Z"
    }
   },
   "outputs": [],
   "source": [
    "stats = data_womens.loc[fit_index].pivot_table(\n",
    "    values={\n",
    "        'visit': 'mean',\n",
    "        'conversion': 'mean',\n",
    "        'spend': 'mean',\n",
    "    },\n",
    "    columns=['treatment']\n",
    ")\n",
    "stats['uplift'] = stats.loc[:, 1] - stats.loc[:, 0]\n",
    "stats['uplift_perc'] = stats.loc[:, 1] / stats.loc[:, 0]\n"
   ]
  },
  {
   "cell_type": "code",
   "execution_count": null,
   "metadata": {
    "ExecuteTime": {
     "end_time": "2021-04-02T03:33:50.600829Z",
     "start_time": "2021-04-02T03:33:50.596428Z"
    }
   },
   "outputs": [],
   "source": [
    "stats.reset_index(inplace=True)\n",
    "stats.columns = ['variable', 'mean_control', 'mean_treated', 'ate', 'relative_change']"
   ]
  },
  {
   "cell_type": "code",
   "execution_count": null,
   "metadata": {
    "ExecuteTime": {
     "end_time": "2021-04-02T03:33:55.257511Z",
     "start_time": "2021-04-02T03:33:55.248858Z"
    }
   },
   "outputs": [
    {
     "data": {
      "text/html": [
       "<div>\n",
       "<style scoped>\n",
       "    .dataframe tbody tr th:only-of-type {\n",
       "        vertical-align: middle;\n",
       "    }\n",
       "\n",
       "    .dataframe tbody tr th {\n",
       "        vertical-align: top;\n",
       "    }\n",
       "\n",
       "    .dataframe thead th {\n",
       "        text-align: right;\n",
       "    }\n",
       "</style>\n",
       "<table border=\"1\" class=\"dataframe\">\n",
       "  <thead>\n",
       "    <tr style=\"text-align: right;\">\n",
       "      <th></th>\n",
       "      <th>variable</th>\n",
       "      <th>mean_control</th>\n",
       "      <th>mean_treated</th>\n",
       "      <th>ate</th>\n",
       "      <th>relative_change</th>\n",
       "    </tr>\n",
       "  </thead>\n",
       "  <tbody>\n",
       "    <tr>\n",
       "      <th>0</th>\n",
       "      <td>conversion</td>\n",
       "      <td>0.004983</td>\n",
       "      <td>0.008498</td>\n",
       "      <td>0.003515</td>\n",
       "      <td>1.705437</td>\n",
       "    </tr>\n",
       "    <tr>\n",
       "      <th>1</th>\n",
       "      <td>spend</td>\n",
       "      <td>0.583971</td>\n",
       "      <td>1.131093</td>\n",
       "      <td>0.547121</td>\n",
       "      <td>1.936898</td>\n",
       "    </tr>\n",
       "    <tr>\n",
       "      <th>2</th>\n",
       "      <td>visit</td>\n",
       "      <td>0.101720</td>\n",
       "      <td>0.148193</td>\n",
       "      <td>0.046473</td>\n",
       "      <td>1.456867</td>\n",
       "    </tr>\n",
       "  </tbody>\n",
       "</table>\n",
       "</div>"
      ],
      "text/plain": [
       "     variable  mean_control  mean_treated       ate  relative_change\n",
       "0  conversion      0.004983      0.008498  0.003515         1.705437\n",
       "1       spend      0.583971      1.131093  0.547121         1.936898\n",
       "2       visit      0.101720      0.148193  0.046473         1.456867"
      ]
     },
     "execution_count": null,
     "metadata": {},
     "output_type": "execute_result"
    }
   ],
   "source": [
    "stats"
   ]
  },
  {
   "cell_type": "code",
   "execution_count": null,
   "metadata": {},
   "outputs": [],
   "source": []
  },
  {
   "cell_type": "markdown",
   "metadata": {},
   "source": [
    "#### confidence intervals"
   ]
  },
  {
   "cell_type": "code",
   "execution_count": null,
   "metadata": {
    "ExecuteTime": {
     "end_time": "2021-03-28T12:42:37.034711Z",
     "start_time": "2021-03-28T12:42:37.029776Z"
    }
   },
   "outputs": [],
   "source": [
    "def ate_bootstrapped(\n",
    "    data: pd.DataFrame,\n",
    "    col_value: str,\n",
    "    treated_index: pd.Index,\n",
    "    control_index: pd.Index,\n",
    "    n_boot_iterations: int = 100\n",
    ") -> Tuple[List[float], List[float]]:\n",
    "    ates = list()\n",
    "    pates = list()\n",
    "    for _ in range(n_boot_iterations):\n",
    "        sampled_index = np.concatenate([\n",
    "            np.random.choice(treated_index, len(treated_index)),\n",
    "            np.random.choice(control_index, len(control_index)),\n",
    "        ])\n",
    "        tmp = data.loc[sampled_index].groupby(by=['treatment'])[col_value].mean()\n",
    "        ates.append(tmp.loc[1] - tmp.loc[0])\n",
    "        pates.append(tmp.loc[1] / tmp.loc[0])\n",
    "        \n",
    "    return ates, pates"
   ]
  },
  {
   "cell_type": "markdown",
   "metadata": {},
   "source": [
    "##### visit"
   ]
  },
  {
   "cell_type": "code",
   "execution_count": null,
   "metadata": {
    "ExecuteTime": {
     "end_time": "2021-03-28T12:43:41.358556Z",
     "start_time": "2021-03-28T12:43:37.431613Z"
    }
   },
   "outputs": [],
   "source": [
    "visit_ates, visit_pates = ate_bootstrapped(\n",
    "    data_womens,\n",
    "    col_value='visit',\n",
    "    treated_index=treated_fit_index,\n",
    "    control_index=control_fit_index,\n",
    "    n_boot_iterations=1000\n",
    ")"
   ]
  },
  {
   "cell_type": "code",
   "execution_count": null,
   "metadata": {},
   "outputs": [
    {
     "name": "stdout",
     "output_type": "stream",
     "text": [
      "0.03898246810314799 0.053984411319957126\n"
     ]
    }
   ],
   "source": [
    "print(np.percentile(visit_ates, q=5), np.percentile(visit_ates, q=95))"
   ]
  },
  {
   "cell_type": "code",
   "execution_count": null,
   "metadata": {},
   "outputs": [
    {
     "name": "stdout",
     "output_type": "stream",
     "text": [
      "(1.3771967146049022, 1.5460692676493868)\n"
     ]
    }
   ],
   "source": [
    "print(np.percentile(visit_pates, q=5), np.percentile(visit_pates, q=95))"
   ]
  },
  {
   "cell_type": "code",
   "execution_count": null,
   "metadata": {
    "ExecuteTime": {
     "end_time": "2021-03-28T12:43:41.521736Z",
     "start_time": "2021-03-28T12:43:41.360456Z"
    }
   },
   "outputs": [
    {
     "data": {
      "image/png": "[encoded data removed]",
      "text/plain": [
       "<Figure size 432x288 with 1 Axes>"
      ]
     },
     "metadata": {},
     "output_type": "display_data"
    }
   ],
   "source": [
    "plt.hist(visit_ates, bins=50)\n",
    "plt.show()"
   ]
  },
  {
   "cell_type": "code",
   "execution_count": null,
   "metadata": {
    "ExecuteTime": {
     "end_time": "2021-03-28T12:43:41.706996Z",
     "start_time": "2021-03-28T12:43:41.525198Z"
    }
   },
   "outputs": [
    {
     "data": {
      "image/png": "[encoded data removed]",
      "text/plain": [
       "<Figure size 432x288 with 1 Axes>"
      ]
     },
     "metadata": {},
     "output_type": "display_data"
    }
   ],
   "source": [
    "plt.hist(visit_pates, bins=50)\n",
    "plt.show()"
   ]
  },
  {
   "cell_type": "code",
   "execution_count": null,
   "metadata": {
    "ExecuteTime": {
     "end_time": "2021-04-02T02:06:05.340355Z",
     "start_time": "2021-04-02T02:06:05.335935Z"
    }
   },
   "outputs": [],
   "source": [
    "with open('hw1_visit_ate_confidence_interval.pkl', 'wb') as ofile:\n",
    "    pickle.dump(\n",
    "        (stats.loc['visit', 'uplift'], (np.percentile(visit_ates, q=5), np.percentile(visit_ates, q=95))),\n",
    "        ofile\n",
    "    )"
   ]
  },
  {
   "cell_type": "code",
   "execution_count": null,
   "metadata": {
    "ExecuteTime": {
     "end_time": "2021-04-02T03:08:17.905672Z",
     "start_time": "2021-04-02T03:08:17.900208Z"
    }
   },
   "outputs": [],
   "source": [
    "with open('hw1_visit_rel_chg_confidence_interval.pkl', 'wb') as ofile:\n",
    "    pickle.dump(\n",
    "        (\n",
    "            stats.loc['visit', 'uplift_perc'],\n",
    "            (np.percentile(visit_pates, q=5), np.percentile(visit_pates, q=95))\n",
    "        ),\n",
    "        ofile\n",
    "    )"
   ]
  },
  {
   "cell_type": "markdown",
   "metadata": {},
   "source": [
    "##### conversion"
   ]
  },
  {
   "cell_type": "code",
   "execution_count": null,
   "metadata": {
    "ExecuteTime": {
     "end_time": "2021-03-28T12:43:11.745576Z",
     "start_time": "2021-03-28T12:43:08.012191Z"
    }
   },
   "outputs": [],
   "source": [
    "conversion_ates, conversion_pates = ate_bootstrapped(\n",
    "    data_womens,\n",
    "    col_value='conversion',\n",
    "    treated_index=treated_fit_index,\n",
    "    control_index=control_fit_index,\n",
    "    n_boot_iterations=1000\n",
    ")"
   ]
  },
  {
   "cell_type": "code",
   "execution_count": null,
   "metadata": {},
   "outputs": [
    {
     "name": "stdout",
     "output_type": "stream",
     "text": [
      "0.0017234618171087064 0.005197769397266037\n"
     ]
    }
   ],
   "source": [
    "print(np.percentile(conversion_ates, q=5), np.percentile(conversion_ates, q=95))"
   ]
  },
  {
   "cell_type": "code",
   "execution_count": null,
   "metadata": {},
   "outputs": [
    {
     "name": "stdout",
     "output_type": "stream",
     "text": [
      "(1.2813125744826603, 2.353759420201732)\n"
     ]
    }
   ],
   "source": [
    "print(np.percentile(conversion_pates, q=5), np.percentile(conversion_pates, q=95))"
   ]
  },
  {
   "cell_type": "code",
   "execution_count": null,
   "metadata": {
    "ExecuteTime": {
     "end_time": "2021-03-28T12:43:18.470426Z",
     "start_time": "2021-03-28T12:43:18.288818Z"
    }
   },
   "outputs": [
    {
     "data": {
      "image/png": "[encoded data removed]",
      "text/plain": [
       "<Figure size 432x288 with 1 Axes>"
      ]
     },
     "metadata": {},
     "output_type": "display_data"
    }
   ],
   "source": [
    "plt.hist(conversion_ates, bins=50)\n",
    "plt.show()"
   ]
  },
  {
   "cell_type": "code",
   "execution_count": null,
   "metadata": {
    "ExecuteTime": {
     "end_time": "2021-03-28T12:43:23.877146Z",
     "start_time": "2021-03-28T12:43:23.701164Z"
    }
   },
   "outputs": [
    {
     "data": {
      "image/png": "[encoded data removed]",
      "text/plain": [
       "<Figure size 432x288 with 1 Axes>"
      ]
     },
     "metadata": {},
     "output_type": "display_data"
    }
   ],
   "source": [
    "plt.hist(conversion_pates, bins=50)\n",
    "plt.show()"
   ]
  },
  {
   "cell_type": "code",
   "execution_count": null,
   "metadata": {
    "ExecuteTime": {
     "end_time": "2021-04-02T02:06:40.604096Z",
     "start_time": "2021-04-02T02:06:40.595136Z"
    }
   },
   "outputs": [],
   "source": [
    "with open('hw1_conversion_ate_confidence_interval.pkl', 'wb') as ofile:\n",
    "    pickle.dump(\n",
    "        (stats.loc['conversion', 'uplift'], (np.percentile(conversion_ates, q=5), np.percentile(conversion_ates, q=95))),\n",
    "        ofile\n",
    "    )"
   ]
  },
  {
   "cell_type": "code",
   "execution_count": null,
   "metadata": {
    "ExecuteTime": {
     "end_time": "2021-04-02T03:07:10.887653Z",
     "start_time": "2021-04-02T03:07:10.882178Z"
    }
   },
   "outputs": [],
   "source": [
    "with open('hw1_conversion_rel_chg_confidence_interval.pkl', 'wb') as ofile:\n",
    "    pickle.dump(\n",
    "        (\n",
    "            stats.loc['conversion', 'uplift_perc'],\n",
    "            (np.percentile(conversion_pates, q=5), np.percentile(conversion_pates, q=95))\n",
    "        ),\n",
    "        ofile\n",
    "    )"
   ]
  },
  {
   "cell_type": "markdown",
   "metadata": {},
   "source": [
    "##### spend"
   ]
  },
  {
   "cell_type": "code",
   "execution_count": null,
   "metadata": {
    "ExecuteTime": {
     "end_time": "2021-03-28T19:28:12.712350Z",
     "start_time": "2021-03-28T19:28:08.427305Z"
    }
   },
   "outputs": [],
   "source": [
    "spend_ates, spend_pates = ate_bootstrapped(\n",
    "    data_womens,\n",
    "    col_value='spend',\n",
    "    treated_index=treated_fit_index,\n",
    "    control_index=control_fit_index,\n",
    "    n_boot_iterations=1000\n",
    ")"
   ]
  },
  {
   "cell_type": "code",
   "execution_count": null,
   "metadata": {},
   "outputs": [
    {
     "name": "stdout",
     "output_type": "stream",
     "text": [
      "(0.22051922227293505, 0.8718509619864722)\n"
     ]
    }
   ],
   "source": [
    "print(np.percentile(spend_ates, q=5), np.percentile(spend_ates, q=95))"
   ]
  },
  {
   "cell_type": "code",
   "execution_count": null,
   "metadata": {},
   "outputs": [
    {
     "name": "stdout",
     "output_type": "stream",
     "text": [
      "(1.3169732288257918, 2.9058181377381183)\n"
     ]
    }
   ],
   "source": [
    "print(np.percentile(spend_pates, q=5), np.percentile(spend_pates, q=95))"
   ]
  },
  {
   "cell_type": "code",
   "execution_count": null,
   "metadata": {
    "ExecuteTime": {
     "end_time": "2021-03-28T19:28:24.127001Z",
     "start_time": "2021-03-28T19:28:23.961965Z"
    }
   },
   "outputs": [
    {
     "data": {
      "image/png": "[encoded data removed]",
      "text/plain": [
       "<Figure size 432x288 with 1 Axes>"
      ]
     },
     "metadata": {},
     "output_type": "display_data"
    }
   ],
   "source": [
    "plt.hist(spend_ates, bins=50)\n",
    "plt.show()"
   ]
  },
  {
   "cell_type": "code",
   "execution_count": null,
   "metadata": {
    "ExecuteTime": {
     "end_time": "2021-03-28T19:28:27.515510Z",
     "start_time": "2021-03-28T19:28:27.341195Z"
    }
   },
   "outputs": [
    {
     "data": {
      "image/png": "[encoded data removed]",
      "text/plain": [
       "<Figure size 432x288 with 1 Axes>"
      ]
     },
     "metadata": {},
     "output_type": "display_data"
    }
   ],
   "source": [
    "plt.hist(spend_pates, bins=50)\n",
    "plt.show()"
   ]
  },
  {
   "cell_type": "code",
   "execution_count": null,
   "metadata": {
    "ExecuteTime": {
     "end_time": "2021-04-02T02:07:44.564177Z",
     "start_time": "2021-04-02T02:07:44.555204Z"
    }
   },
   "outputs": [],
   "source": [
    "with open('hw1_spend_ate_confidence_interval.pkl', 'wb') as ofile:\n",
    "    pickle.dump(\n",
    "        (stats.loc['spend', 'uplift'], (np.percentile(spend_ates, q=5), np.percentile(spend_ates, q=95))),\n",
    "        ofile\n",
    "    )"
   ]
  },
  {
   "cell_type": "code",
   "execution_count": null,
   "metadata": {
    "ExecuteTime": {
     "end_time": "2021-04-02T03:08:17.905672Z",
     "start_time": "2021-04-02T03:08:17.900208Z"
    }
   },
   "outputs": [],
   "source": [
    "with open('hw1_spend_rel_chg_confidence_interval.pkl', 'wb') as ofile:\n",
    "    pickle.dump(\n",
    "        (\n",
    "            stats.loc['spend', 'uplift_perc'],\n",
    "            (np.percentile(spend_pates, q=5), np.percentile(spend_pates, q=95))\n",
    "        ),\n",
    "        ofile\n",
    "    )"
   ]
  },
  {
   "cell_type": "code",
   "execution_count": null,
   "metadata": {},
   "outputs": [],
   "source": []
  }
 ],
 "metadata": {
  "kernelspec": {
   "display_name": "Python 3 (ipykernel)",
   "language": "python",
   "name": "python3"
  },
  "language_info": {
   "codemirror_mode": {
    "name": "ipython",
    "version": 3
   },
   "file_extension": ".py",
   "mimetype": "text/x-python",
   "name": "python",
   "nbconvert_exporter": "python",
   "pygments_lexer": "ipython3",
   "version": "3.9.7"
  },
  "toc": {
   "base_numbering": 1,
   "nav_menu": {},
   "number_sections": true,
   "sideBar": true,
   "skip_h1_title": false,
   "title_cell": "Table of Contents",
   "title_sidebar": "Contents",
   "toc_cell": false,
   "toc_position": {},
   "toc_section_display": true,
   "toc_window_display": false
  }
 },
 "nbformat": 4,
 "nbformat_minor": 4
}
