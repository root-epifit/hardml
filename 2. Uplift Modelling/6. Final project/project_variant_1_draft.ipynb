{
 "cells": [
  {
   "cell_type": "code",
   "execution_count": 1,
   "id": "6977a6ab-f437-4803-bab1-cce9b55bae5c",
   "metadata": {
    "tags": []
   },
   "outputs": [],
   "source": [
    "#!pip install pylift"
   ]
  },
  {
   "cell_type": "code",
   "execution_count": 2,
   "id": "70020b62-c3f1-430e-9023-e07e9c533bfa",
   "metadata": {
    "tags": []
   },
   "outputs": [
    {
     "name": "stderr",
     "output_type": "stream",
     "text": [
      "IProgress not found. Please update jupyter and ipywidgets. See https://ipywidgets.readthedocs.io/en/stable/user_install.html\n",
      "Failed to import duecredit due to No module named 'duecredit'\n"
     ]
    }
   ],
   "source": [
    "import numpy as np\n",
    "import pandas as pd\n",
    "import dask.dataframe as dd\n",
    "import datetime\n",
    "import matplotlib.pyplot as plt\n",
    "import functools\n",
    "import scipy as sp\n",
    "\n",
    "from typing import List, Union, Optional, Tuple\n",
    "from sklearn.model_selection import train_test_split\n",
    "from sklearn.metrics import roc_auc_score\n",
    "\n",
    "import seaborn as sns\n",
    "import matplotlib.pyplot as plt\n",
    "\n",
    "import pylift\n",
    "import pylift_utils\n",
    "\n",
    "#import catboost as cb\n",
    "#import lightgbm as lgb\n",
    "\n",
    "import causalml\n",
    "import causalml.metrics as cmetrics\n",
    "import causalml.inference.tree as ctree\n",
    "import causalml.inference.meta.xlearner as xlearner\n",
    "import causalml.inference.meta.rlearner as rlearner\n",
    "import causalml.inference.meta.tlearner as tlearner\n",
    "\n",
    "import warnings\n",
    "warnings.filterwarnings(\"ignore\")"
   ]
  },
  {
   "cell_type": "markdown",
   "id": "14c3debf-b526-4d2a-8ac6-622fb8ed6a7a",
   "metadata": {},
   "source": [
    "## Libs"
   ]
  },
  {
   "cell_type": "code",
   "execution_count": 3,
   "id": "a19527f1-8339-47bb-af6d-87000be03983",
   "metadata": {
    "jupyter": {
     "source_hidden": true
    },
    "tags": []
   },
   "outputs": [],
   "source": [
    "def compute_receipts_features(\n",
    "                                receipts: pd.DataFrame,\n",
    "                                date_to: int,\n",
    "                                num_days: int,\n",
    "                             ) -> pd.DataFrame:\n",
    "    #date_to = datetime.datetime.combine(date_to, datetime.datetime.min.time())\n",
    "    date_from = date_to - num_days\n",
    "    date_mask = (receipts['date'] >= date_from) & (receipts['date'] < date_to)\n",
    "    \n",
    "    features = (\n",
    "        receipts\n",
    "        .loc[date_mask]\n",
    "       # .assign(points_spent=lambda d: d['regular_points_spent'] + d['express_points_spent'])\n",
    "       # .assign(points_spent_flag=lambda d: (d['points_spent'] < 0).astype(int))\n",
    "       # .assign(express_points_spent_flag=lambda d: (d['express_points_spent'] < 0).astype(int))\n",
    "        .groupby(by=['customer_id'])\n",
    "        .agg({\n",
    "            \"date\": [\"count\", \"min\", \"max\"],\n",
    "            \"purchase_amt\": [\"sum\", \"max\", \"min\", \"mean\", \"median\"],\n",
    "            \"purchase_sum\": [\"sum\", \"max\", \"min\", \"mean\", \"median\"],\n",
    "            \"discount\": [\"sum\"]  #  \"max\", \"min\"\n",
    "        })\n",
    "        .assign(\n",
    "            mean_time_interval=lambda d: (\n",
    "                (d['date']['max'] - d['date']['min'])\n",
    "                / (d['date']['count'] - 1)\n",
    "            )#.apply(lambda delta: delta.total_seconds() / (24 * 3600))\n",
    "        )\n",
    "        .assign(\n",
    "            time_since_last=lambda d: (\n",
    "                date_to - d['date']['max']\n",
    "            )#.apply(lambda delta: delta.total_seconds() / (24 * 3600))\n",
    "        )\n",
    "    )\n",
    "\n",
    "    column_names = [\n",
    "        f'rec__{col}__{agg}__{num_days}d' if agg else f'rec__{col}__{num_days}d'\n",
    "        for col, agg in features.columns\n",
    "    ]\n",
    "    features.columns = column_names\n",
    "    features.reset_index(inplace=True)\n",
    "\n",
    "    return features\n",
    "\n",
    "def proportion_diff_interval(success: pd.Series, nobs: pd.Series, conf_level: float = 0.05):\n",
    "    assert len(success) == 2 and len(nobs) == 2\n",
    "    p = np.array(success) / np.array(nobs)\n",
    "    z = sp.stats.norm.ppf(1.0 - conf_level)\n",
    "    diff = p[1] - p[0]\n",
    "    std_dev = np.sqrt(p[0] * (1.0 - p[0]) / nobs[0] + p[1] * (1.0 - p[1]) / nobs[1])\n",
    "    pvalue = 2 * sp.stats.norm.cdf(-np.abs(diff) / std_dev)\n",
    "    return diff, std_dev, pvalue, (diff - z * std_dev, diff + z * std_dev)\n",
    "\n",
    "\n",
    "def response_uplift(\n",
    "    data: pd.DataFrame,\n",
    "    col_feature: str,\n",
    "    col_target: str,\n",
    "    col_treatment: str = 'treatment',\n",
    "    conf_level: float = 0.05,\n",
    "    verbose: bool = True,\n",
    "    figsize: Tuple[int, int] = (10, 7),\n",
    "    plot_type: str = 'default'\n",
    ") -> Tuple[pd.DataFrame, pd.DataFrame, pd.DataFrame]:\n",
    "    tmp = data.copy()\n",
    "    tmp['tmp_response'] = list(map(int, tmp[col_target] > 0))\n",
    "    \n",
    "    response_pivot = tmp.pivot_table(\n",
    "        values='tmp_response', index=[col_feature], columns=[col_treatment],\n",
    "        aggfunc='sum'\n",
    "    )\n",
    "    \n",
    "    clients_pivot = tmp.pivot_table(\n",
    "        values='tmp_response', index=[col_feature], columns=[col_treatment],\n",
    "        aggfunc='count'\n",
    "    )\n",
    "    \n",
    "    means = list()\n",
    "    stds = list()\n",
    "    pvalues = list()\n",
    "    chi2_pvalues = list()\n",
    "    \n",
    "    for segment in response_pivot.index:\n",
    "        m, std, pvalue, _ = proportion_diff_interval(response_pivot.loc[segment, :], clients_pivot.loc[segment, :], conf_level=conf_level)\n",
    "        means.append(m)\n",
    "        stds.append(std)\n",
    "        pvalues.append(pvalue)\n",
    "        \n",
    "        try:\n",
    "            chi2_pvalue = chi2_contingency([response_pivot.loc[segment, :], clients_pivot.loc[segment, :]])[1]\n",
    "        except:\n",
    "            chi2_pvalue = -1.0\n",
    "        \n",
    "        chi2_pvalues.append(chi2_pvalue)\n",
    "        \n",
    "    report = pd.DataFrame(\n",
    "        data={\n",
    "            'diff': means, \n",
    "            'std': stds, \n",
    "            'p-value': pvalues,\n",
    "            'chi2_p-value': chi2_pvalues,\n",
    "            'count_0': clients_pivot.loc[:, 0],\n",
    "            'count_1': clients_pivot.loc[:, 1],\n",
    "            'response_0': response_pivot.loc[:, 0],\n",
    "            'response_1': response_pivot.loc[:, 1]\n",
    "        }, \n",
    "        index=list(response_pivot.index)\n",
    "    )\n",
    "    \n",
    "    if verbose:\n",
    "        plt.figure(figsize=figsize)\n",
    "        if plot_type == 'default':\n",
    "            plt.errorbar(\n",
    "                x=response_pivot.index,\n",
    "                y=means,\n",
    "                yerr=np.array(stds) * sp.stats.norm.ppf(1.0 - conf_level),\n",
    "                fmt='ok'\n",
    "            )\n",
    "        elif plot_type == 'bin':\n",
    "            plt.errorbar(\n",
    "                x=range(len(response_pivot.index)),\n",
    "                y=means,\n",
    "                yerr=np.array(stds) * sp.stats.norm.ppf(1.0 - conf_level),\n",
    "                fmt='ok'\n",
    "            )\n",
    "            plt.xticks(\n",
    "                range(len(response_pivot.index)),\n",
    "                response_pivot.index,\n",
    "                rotation=20\n",
    "            )\n",
    "        plt.show()\n",
    "\n",
    "    return report, response_pivot, clients_pivot\n"
   ]
  },
  {
   "cell_type": "markdown",
   "id": "54727aa8-7ab6-480e-a2e2-5b59a4951564",
   "metadata": {
    "tags": []
   },
   "source": [
    "## Load data"
   ]
  },
  {
   "cell_type": "markdown",
   "id": "2be9c570-3880-460f-949a-a87de22d7f4b",
   "metadata": {},
   "source": [
    "### receipts\n",
    "\n",
    "- customer_id - ID покупателя\n",
    "- date - день покупки\n",
    "- purchase_amt - количество купленного фисштеха (в граммах)\n",
    "- purchase_sum - стоимость покупки (в оренах)\n",
    "\n",
    "Стоит отметить, что покупатель не приобретает фисштех больше одного раза в день"
   ]
  },
  {
   "cell_type": "code",
   "execution_count": 4,
   "id": "12c2b15a-d183-427b-86df-6c4706964857",
   "metadata": {
    "tags": []
   },
   "outputs": [
    {
     "data": {
      "text/html": [
       "<div>\n",
       "<style scoped>\n",
       "    .dataframe tbody tr th:only-of-type {\n",
       "        vertical-align: middle;\n",
       "    }\n",
       "\n",
       "    .dataframe tbody tr th {\n",
       "        vertical-align: top;\n",
       "    }\n",
       "\n",
       "    .dataframe thead th {\n",
       "        text-align: right;\n",
       "    }\n",
       "</style>\n",
       "<table border=\"1\" class=\"dataframe\">\n",
       "  <thead>\n",
       "    <tr style=\"text-align: right;\">\n",
       "      <th></th>\n",
       "      <th>customer_id</th>\n",
       "      <th>date</th>\n",
       "      <th>purchase_amt</th>\n",
       "      <th>discount</th>\n",
       "      <th>purchase_sum</th>\n",
       "    </tr>\n",
       "  </thead>\n",
       "  <tbody>\n",
       "    <tr>\n",
       "      <th>26</th>\n",
       "      <td>26</td>\n",
       "      <td>0</td>\n",
       "      <td>12.125273</td>\n",
       "      <td>0</td>\n",
       "      <td>970.021866</td>\n",
       "    </tr>\n",
       "    <tr>\n",
       "      <th>53</th>\n",
       "      <td>53</td>\n",
       "      <td>0</td>\n",
       "      <td>34.357035</td>\n",
       "      <td>0</td>\n",
       "      <td>2748.562788</td>\n",
       "    </tr>\n",
       "    <tr>\n",
       "      <th>56</th>\n",
       "      <td>56</td>\n",
       "      <td>0</td>\n",
       "      <td>8.695825</td>\n",
       "      <td>0</td>\n",
       "      <td>695.666022</td>\n",
       "    </tr>\n",
       "    <tr>\n",
       "      <th>58</th>\n",
       "      <td>58</td>\n",
       "      <td>0</td>\n",
       "      <td>28.299046</td>\n",
       "      <td>0</td>\n",
       "      <td>2263.923641</td>\n",
       "    </tr>\n",
       "    <tr>\n",
       "      <th>64</th>\n",
       "      <td>64</td>\n",
       "      <td>0</td>\n",
       "      <td>32.547511</td>\n",
       "      <td>0</td>\n",
       "      <td>2603.800857</td>\n",
       "    </tr>\n",
       "  </tbody>\n",
       "</table>\n",
       "</div>"
      ],
      "text/plain": [
       "    customer_id  date  purchase_amt  discount  purchase_sum\n",
       "26           26     0     12.125273         0    970.021866\n",
       "53           53     0     34.357035         0   2748.562788\n",
       "56           56     0      8.695825         0    695.666022\n",
       "58           58     0     28.299046         0   2263.923641\n",
       "64           64     0     32.547511         0   2603.800857"
      ]
     },
     "execution_count": 4,
     "metadata": {},
     "output_type": "execute_result"
    }
   ],
   "source": [
    "receipts = pd.read_parquet('./final/data/receipts.parquet')\n",
    "receipts.head()"
   ]
  },
  {
   "cell_type": "markdown",
   "id": "1eb1e5a5-c5a3-4427-8527-6d4a07610ddb",
   "metadata": {},
   "source": [
    "### campaigns\n",
    "\n",
    "- customer_id - ID покупателя\n",
    "- date - первый день действия скидки\n",
    "- n_offer_days - длительность (в днях) действия скидки\n",
    "- target_group_flag - флаг целевой (1) / контрольной (0) группы"
   ]
  },
  {
   "cell_type": "code",
   "execution_count": 5,
   "id": "f07e78e0-f3b1-4e27-9461-0b8e493b38c3",
   "metadata": {
    "tags": []
   },
   "outputs": [
    {
     "data": {
      "text/html": [
       "<div>\n",
       "<style scoped>\n",
       "    .dataframe tbody tr th:only-of-type {\n",
       "        vertical-align: middle;\n",
       "    }\n",
       "\n",
       "    .dataframe tbody tr th {\n",
       "        vertical-align: top;\n",
       "    }\n",
       "\n",
       "    .dataframe thead th {\n",
       "        text-align: right;\n",
       "    }\n",
       "</style>\n",
       "<table border=\"1\" class=\"dataframe\">\n",
       "  <thead>\n",
       "    <tr style=\"text-align: right;\">\n",
       "      <th></th>\n",
       "      <th>customer_id</th>\n",
       "      <th>n_offer_days</th>\n",
       "      <th>date</th>\n",
       "      <th>target_group_flag</th>\n",
       "    </tr>\n",
       "  </thead>\n",
       "  <tbody>\n",
       "    <tr>\n",
       "      <th>0</th>\n",
       "      <td>0</td>\n",
       "      <td>7</td>\n",
       "      <td>102</td>\n",
       "      <td>1</td>\n",
       "    </tr>\n",
       "    <tr>\n",
       "      <th>1</th>\n",
       "      <td>1</td>\n",
       "      <td>7</td>\n",
       "      <td>102</td>\n",
       "      <td>1</td>\n",
       "    </tr>\n",
       "    <tr>\n",
       "      <th>2</th>\n",
       "      <td>2</td>\n",
       "      <td>7</td>\n",
       "      <td>102</td>\n",
       "      <td>1</td>\n",
       "    </tr>\n",
       "    <tr>\n",
       "      <th>3</th>\n",
       "      <td>3</td>\n",
       "      <td>7</td>\n",
       "      <td>102</td>\n",
       "      <td>1</td>\n",
       "    </tr>\n",
       "    <tr>\n",
       "      <th>4</th>\n",
       "      <td>4</td>\n",
       "      <td>7</td>\n",
       "      <td>102</td>\n",
       "      <td>1</td>\n",
       "    </tr>\n",
       "  </tbody>\n",
       "</table>\n",
       "</div>"
      ],
      "text/plain": [
       "   customer_id  n_offer_days  date  target_group_flag\n",
       "0            0             7   102                  1\n",
       "1            1             7   102                  1\n",
       "2            2             7   102                  1\n",
       "3            3             7   102                  1\n",
       "4            4             7   102                  1"
      ]
     },
     "execution_count": 5,
     "metadata": {},
     "output_type": "execute_result"
    }
   ],
   "source": [
    "campaigns = pd.read_csv('./final/data/campaigns.csv').drop(columns=['Unnamed: 0'])\n",
    "campaigns.head()"
   ]
  },
  {
   "cell_type": "markdown",
   "id": "1927ca0a-4169-4c75-89c1-51facb5f0672",
   "metadata": {},
   "source": [
    "### customers\n",
    "\n",
    "- customer_id - ID покупателя\n",
    "- age - возраст покупателя\n",
    "- location - место проживания покупателя"
   ]
  },
  {
   "cell_type": "code",
   "execution_count": 6,
   "id": "abe80676-9b6f-4aa1-906a-f3db36b34a9b",
   "metadata": {
    "tags": []
   },
   "outputs": [
    {
     "data": {
      "text/html": [
       "<div>\n",
       "<style scoped>\n",
       "    .dataframe tbody tr th:only-of-type {\n",
       "        vertical-align: middle;\n",
       "    }\n",
       "\n",
       "    .dataframe tbody tr th {\n",
       "        vertical-align: top;\n",
       "    }\n",
       "\n",
       "    .dataframe thead th {\n",
       "        text-align: right;\n",
       "    }\n",
       "</style>\n",
       "<table border=\"1\" class=\"dataframe\">\n",
       "  <thead>\n",
       "    <tr style=\"text-align: right;\">\n",
       "      <th></th>\n",
       "      <th>customer_id</th>\n",
       "      <th>age</th>\n",
       "      <th>location</th>\n",
       "    </tr>\n",
       "  </thead>\n",
       "  <tbody>\n",
       "    <tr>\n",
       "      <th>0</th>\n",
       "      <td>0</td>\n",
       "      <td>56</td>\n",
       "      <td>Oxenfurt</td>\n",
       "    </tr>\n",
       "    <tr>\n",
       "      <th>1</th>\n",
       "      <td>1</td>\n",
       "      <td>53</td>\n",
       "      <td>Hindarsfjall</td>\n",
       "    </tr>\n",
       "    <tr>\n",
       "      <th>2</th>\n",
       "      <td>2</td>\n",
       "      <td>41</td>\n",
       "      <td>Hindarsfjall</td>\n",
       "    </tr>\n",
       "    <tr>\n",
       "      <th>3</th>\n",
       "      <td>3</td>\n",
       "      <td>60</td>\n",
       "      <td>Kaer_Trolde</td>\n",
       "    </tr>\n",
       "    <tr>\n",
       "      <th>4</th>\n",
       "      <td>4</td>\n",
       "      <td>22</td>\n",
       "      <td>Spikeroog</td>\n",
       "    </tr>\n",
       "  </tbody>\n",
       "</table>\n",
       "</div>"
      ],
      "text/plain": [
       "   customer_id  age      location\n",
       "0            0   56      Oxenfurt\n",
       "1            1   53  Hindarsfjall\n",
       "2            2   41  Hindarsfjall\n",
       "3            3   60   Kaer_Trolde\n",
       "4            4   22     Spikeroog"
      ]
     },
     "execution_count": 6,
     "metadata": {},
     "output_type": "execute_result"
    }
   ],
   "source": [
    "customers = pd.read_csv('./final/data/customers.csv').drop(columns=['Unnamed: 0'])\n",
    "customers.head()"
   ]
  },
  {
   "cell_type": "markdown",
   "id": "9e9a07d2-7e5c-4e46-9471-127b347acf17",
   "metadata": {},
   "source": [
    "### shapes: customers, campaigns, receipts "
   ]
  },
  {
   "cell_type": "code",
   "execution_count": 7,
   "id": "2b879e6b-3bc7-4430-97df-2b560e8fdc41",
   "metadata": {},
   "outputs": [
    {
     "data": {
      "text/plain": [
       "((2000000, 3), (500000, 4), (31741769, 5))"
      ]
     },
     "execution_count": 7,
     "metadata": {},
     "output_type": "execute_result"
    }
   ],
   "source": [
    "customers.shape, campaigns.shape, receipts.shape"
   ]
  },
  {
   "cell_type": "markdown",
   "id": "1ec2facd-9a5c-4823-95e4-2ae94430bd27",
   "metadata": {},
   "source": [
    "Прибыль = (\n",
    "                (\n",
    "                    (Выручка_в_ЦГ - Себестоимость_в_ЦГ) / Размер_ЦГ -\n",
    "                    (Выручка_в_КГ - Себестоимость_в_КГ) / Размер_КГ\n",
    "                ) * Размер_ЦГ\n",
    "                    - Затраты_на_скидки - Затраты_на_ворон\n",
    "            ) * ((Размер_ЦГ + Размер_КГ) / Размер_ЦГ)"
   ]
  },
  {
   "cell_type": "markdown",
   "id": "0dc4e08c-229d-4f6e-a6ca-bf343261339e",
   "metadata": {},
   "source": [
    "## Cook train data "
   ]
  },
  {
   "cell_type": "markdown",
   "id": "54cddf0b-bdcc-4894-ac5a-aac3b58f6aca",
   "metadata": {},
   "source": [
    "### data = customer + receipts_features + campaigns"
   ]
  },
  {
   "cell_type": "code",
   "execution_count": 37,
   "id": "a1de5889-726c-43bc-b979-e18ad1cb46e7",
   "metadata": {
    "tags": []
   },
   "outputs": [
    {
     "name": "stdout",
     "output_type": "stream",
     "text": [
      "Merging: customers -> receipts features\n",
      "num_days=10: _part.shape=(1044205, 17)\n",
      "num_days=100: _part.shape=(1946485, 17)\n",
      "Merging: -> campaigns\n",
      "data.shape=(2000000, 36)\n"
     ]
    },
    {
     "data": {
      "text/html": [
       "<div>\n",
       "<style scoped>\n",
       "    .dataframe tbody tr th:only-of-type {\n",
       "        vertical-align: middle;\n",
       "    }\n",
       "\n",
       "    .dataframe tbody tr th {\n",
       "        vertical-align: top;\n",
       "    }\n",
       "\n",
       "    .dataframe thead th {\n",
       "        text-align: right;\n",
       "    }\n",
       "</style>\n",
       "<table border=\"1\" class=\"dataframe\">\n",
       "  <thead>\n",
       "    <tr style=\"text-align: right;\">\n",
       "      <th></th>\n",
       "      <th>customer_id</th>\n",
       "      <th>age</th>\n",
       "      <th>location</th>\n",
       "      <th>rec__date__count__10d</th>\n",
       "      <th>rec__date__min__10d</th>\n",
       "      <th>rec__date__max__10d</th>\n",
       "      <th>rec__purchase_amt__sum__10d</th>\n",
       "      <th>rec__purchase_amt__max__10d</th>\n",
       "      <th>rec__purchase_amt__min__10d</th>\n",
       "      <th>rec__purchase_amt__mean__10d</th>\n",
       "      <th>...</th>\n",
       "      <th>rec__purchase_amt__median__100d</th>\n",
       "      <th>rec__purchase_sum__sum__100d</th>\n",
       "      <th>rec__purchase_sum__max__100d</th>\n",
       "      <th>rec__purchase_sum__min__100d</th>\n",
       "      <th>rec__purchase_sum__mean__100d</th>\n",
       "      <th>rec__purchase_sum__median__100d</th>\n",
       "      <th>rec__discount__sum__100d</th>\n",
       "      <th>rec__mean_time_interval__100d</th>\n",
       "      <th>rec__time_since_last__100d</th>\n",
       "      <th>target_group_flag</th>\n",
       "    </tr>\n",
       "  </thead>\n",
       "  <tbody>\n",
       "    <tr>\n",
       "      <th>0</th>\n",
       "      <td>0</td>\n",
       "      <td>56</td>\n",
       "      <td>Oxenfurt</td>\n",
       "      <td>1.0</td>\n",
       "      <td>93.0</td>\n",
       "      <td>93.0</td>\n",
       "      <td>12.028087</td>\n",
       "      <td>12.028087</td>\n",
       "      <td>12.028087</td>\n",
       "      <td>12.028087</td>\n",
       "      <td>...</td>\n",
       "      <td>11.397987</td>\n",
       "      <td>8963.796788</td>\n",
       "      <td>1104.252876</td>\n",
       "      <td>389.772041</td>\n",
       "      <td>814.890617</td>\n",
       "      <td>911.838955</td>\n",
       "      <td>0.0</td>\n",
       "      <td>9.000000</td>\n",
       "      <td>9.0</td>\n",
       "      <td>1.0</td>\n",
       "    </tr>\n",
       "    <tr>\n",
       "      <th>1</th>\n",
       "      <td>1</td>\n",
       "      <td>53</td>\n",
       "      <td>Hindarsfjall</td>\n",
       "      <td>0.0</td>\n",
       "      <td>0.0</td>\n",
       "      <td>0.0</td>\n",
       "      <td>0.000000</td>\n",
       "      <td>0.000000</td>\n",
       "      <td>0.000000</td>\n",
       "      <td>0.000000</td>\n",
       "      <td>...</td>\n",
       "      <td>12.411541</td>\n",
       "      <td>5652.043648</td>\n",
       "      <td>1141.662891</td>\n",
       "      <td>610.655207</td>\n",
       "      <td>942.007275</td>\n",
       "      <td>992.923293</td>\n",
       "      <td>0.0</td>\n",
       "      <td>13.200000</td>\n",
       "      <td>20.0</td>\n",
       "      <td>1.0</td>\n",
       "    </tr>\n",
       "    <tr>\n",
       "      <th>2</th>\n",
       "      <td>2</td>\n",
       "      <td>41</td>\n",
       "      <td>Hindarsfjall</td>\n",
       "      <td>2.0</td>\n",
       "      <td>97.0</td>\n",
       "      <td>100.0</td>\n",
       "      <td>39.133650</td>\n",
       "      <td>34.363092</td>\n",
       "      <td>4.770558</td>\n",
       "      <td>19.566825</td>\n",
       "      <td>...</td>\n",
       "      <td>26.918460</td>\n",
       "      <td>16108.374860</td>\n",
       "      <td>2966.189969</td>\n",
       "      <td>381.644612</td>\n",
       "      <td>2013.546857</td>\n",
       "      <td>2153.476803</td>\n",
       "      <td>0.0</td>\n",
       "      <td>12.857143</td>\n",
       "      <td>2.0</td>\n",
       "      <td>1.0</td>\n",
       "    </tr>\n",
       "    <tr>\n",
       "      <th>3</th>\n",
       "      <td>3</td>\n",
       "      <td>60</td>\n",
       "      <td>Kaer_Trolde</td>\n",
       "      <td>0.0</td>\n",
       "      <td>0.0</td>\n",
       "      <td>0.0</td>\n",
       "      <td>0.000000</td>\n",
       "      <td>0.000000</td>\n",
       "      <td>0.000000</td>\n",
       "      <td>0.000000</td>\n",
       "      <td>...</td>\n",
       "      <td>32.523289</td>\n",
       "      <td>16666.748849</td>\n",
       "      <td>3391.417982</td>\n",
       "      <td>209.890698</td>\n",
       "      <td>2083.343606</td>\n",
       "      <td>2601.863154</td>\n",
       "      <td>0.0</td>\n",
       "      <td>10.285714</td>\n",
       "      <td>24.0</td>\n",
       "      <td>1.0</td>\n",
       "    </tr>\n",
       "    <tr>\n",
       "      <th>4</th>\n",
       "      <td>4</td>\n",
       "      <td>22</td>\n",
       "      <td>Spikeroog</td>\n",
       "      <td>0.0</td>\n",
       "      <td>0.0</td>\n",
       "      <td>0.0</td>\n",
       "      <td>0.000000</td>\n",
       "      <td>0.000000</td>\n",
       "      <td>0.000000</td>\n",
       "      <td>0.000000</td>\n",
       "      <td>...</td>\n",
       "      <td>20.580492</td>\n",
       "      <td>3292.878795</td>\n",
       "      <td>1780.260418</td>\n",
       "      <td>1512.618377</td>\n",
       "      <td>1646.439397</td>\n",
       "      <td>1646.439397</td>\n",
       "      <td>0.0</td>\n",
       "      <td>20.000000</td>\n",
       "      <td>16.0</td>\n",
       "      <td>1.0</td>\n",
       "    </tr>\n",
       "  </tbody>\n",
       "</table>\n",
       "<p>5 rows × 36 columns</p>\n",
       "</div>"
      ],
      "text/plain": [
       "   customer_id  age      location  rec__date__count__10d  rec__date__min__10d  \\\n",
       "0            0   56      Oxenfurt                    1.0                 93.0   \n",
       "1            1   53  Hindarsfjall                    0.0                  0.0   \n",
       "2            2   41  Hindarsfjall                    2.0                 97.0   \n",
       "3            3   60   Kaer_Trolde                    0.0                  0.0   \n",
       "4            4   22     Spikeroog                    0.0                  0.0   \n",
       "\n",
       "   rec__date__max__10d  rec__purchase_amt__sum__10d  \\\n",
       "0                 93.0                    12.028087   \n",
       "1                  0.0                     0.000000   \n",
       "2                100.0                    39.133650   \n",
       "3                  0.0                     0.000000   \n",
       "4                  0.0                     0.000000   \n",
       "\n",
       "   rec__purchase_amt__max__10d  rec__purchase_amt__min__10d  \\\n",
       "0                    12.028087                    12.028087   \n",
       "1                     0.000000                     0.000000   \n",
       "2                    34.363092                     4.770558   \n",
       "3                     0.000000                     0.000000   \n",
       "4                     0.000000                     0.000000   \n",
       "\n",
       "   rec__purchase_amt__mean__10d  ...  rec__purchase_amt__median__100d  \\\n",
       "0                     12.028087  ...                        11.397987   \n",
       "1                      0.000000  ...                        12.411541   \n",
       "2                     19.566825  ...                        26.918460   \n",
       "3                      0.000000  ...                        32.523289   \n",
       "4                      0.000000  ...                        20.580492   \n",
       "\n",
       "   rec__purchase_sum__sum__100d  rec__purchase_sum__max__100d  \\\n",
       "0                   8963.796788                   1104.252876   \n",
       "1                   5652.043648                   1141.662891   \n",
       "2                  16108.374860                   2966.189969   \n",
       "3                  16666.748849                   3391.417982   \n",
       "4                   3292.878795                   1780.260418   \n",
       "\n",
       "   rec__purchase_sum__min__100d  rec__purchase_sum__mean__100d  \\\n",
       "0                    389.772041                     814.890617   \n",
       "1                    610.655207                     942.007275   \n",
       "2                    381.644612                    2013.546857   \n",
       "3                    209.890698                    2083.343606   \n",
       "4                   1512.618377                    1646.439397   \n",
       "\n",
       "   rec__purchase_sum__median__100d  rec__discount__sum__100d  \\\n",
       "0                       911.838955                       0.0   \n",
       "1                       992.923293                       0.0   \n",
       "2                      2153.476803                       0.0   \n",
       "3                      2601.863154                       0.0   \n",
       "4                      1646.439397                       0.0   \n",
       "\n",
       "   rec__mean_time_interval__100d  rec__time_since_last__100d  \\\n",
       "0                       9.000000                         9.0   \n",
       "1                      13.200000                        20.0   \n",
       "2                      12.857143                         2.0   \n",
       "3                      10.285714                        24.0   \n",
       "4                      20.000000                        16.0   \n",
       "\n",
       "   target_group_flag  \n",
       "0                1.0  \n",
       "1                1.0  \n",
       "2                1.0  \n",
       "3                1.0  \n",
       "4                1.0  \n",
       "\n",
       "[5 rows x 36 columns]"
      ]
     },
     "execution_count": 37,
     "metadata": {},
     "output_type": "execute_result"
    }
   ],
   "source": [
    "# Интервалы для расчета фич\n",
    "num_days_list = [10, 100]\n",
    "\n",
    "data = customers.copy()\n",
    "\n",
    "print(\"Merging: customers -> receipts features\")\n",
    "for num_days in num_days_list:\n",
    "    _part = compute_receipts_features(receipts, 102, num_days=num_days)\n",
    "    print(f\"{num_days=}: _part.shape={_part.shape}\")\n",
    "    data = data.merge(_part, on='customer_id', how='left')\n",
    "    del _part\n",
    "\n",
    "print(\"Merging: -> campaigns\") \n",
    "data = data.merge(campaigns[['customer_id', 'target_group_flag']], on='customer_id', how='left').fillna(0)\n",
    "\n",
    "print(f\"data.shape={data.shape}\")\n",
    "data.head()"
   ]
  },
  {
   "cell_type": "code",
   "execution_count": 9,
   "id": "4e780f18-ccad-4df8-9719-0ccc734f8feb",
   "metadata": {
    "tags": []
   },
   "outputs": [
    {
     "data": {
      "text/plain": [
       "Index(['customer_id', 'age', 'location', 'rec__date__count__10d',\n",
       "       'rec__date__min__10d', 'rec__date__max__10d',\n",
       "       'rec__purchase_amt__sum__10d', 'rec__purchase_amt__max__10d',\n",
       "       'rec__purchase_amt__min__10d', 'rec__purchase_amt__mean__10d',\n",
       "       'rec__purchase_amt__median__10d', 'rec__purchase_sum__sum__10d',\n",
       "       'rec__purchase_sum__max__10d', 'rec__purchase_sum__min__10d',\n",
       "       'rec__purchase_sum__mean__10d', 'rec__purchase_sum__median__10d',\n",
       "       'rec__discount__sum__10d', 'rec__mean_time_interval__10d',\n",
       "       'rec__time_since_last__10d', 'rec__date__count__100d',\n",
       "       'rec__date__min__100d', 'rec__date__max__100d',\n",
       "       'rec__purchase_amt__sum__100d', 'rec__purchase_amt__max__100d',\n",
       "       'rec__purchase_amt__min__100d', 'rec__purchase_amt__mean__100d',\n",
       "       'rec__purchase_amt__median__100d', 'rec__purchase_sum__sum__100d',\n",
       "       'rec__purchase_sum__max__100d', 'rec__purchase_sum__min__100d',\n",
       "       'rec__purchase_sum__mean__100d', 'rec__purchase_sum__median__100d',\n",
       "       'rec__discount__sum__100d', 'rec__mean_time_interval__100d',\n",
       "       'rec__time_since_last__100d', 'target_group_flag'],\n",
       "      dtype='object')"
      ]
     },
     "execution_count": 9,
     "metadata": {},
     "output_type": "execute_result"
    }
   ],
   "source": [
    "data.columns"
   ]
  },
  {
   "cell_type": "markdown",
   "id": "b839966a-f857-4da3-9b65-071d47fff813",
   "metadata": {
    "tags": []
   },
   "source": [
    "### data = data + profit from client\n",
    "\n",
    "- Цена 1 г фисштеха равна 80 оренам. Себестоимость равна 52 оренам\n",
    "- Отправка одного сообщения вороном стоит 1 орен\n",
    "- У \"Хитрого лиса\" есть конкурент 😉 - сеть таверн \"Семь котов\", в которых тоже продают фисштех"
   ]
  },
  {
   "cell_type": "code",
   "execution_count": 38,
   "id": "f099fbc3-5a78-4dda-9f8c-01e4e3ddc648",
   "metadata": {
    "tags": []
   },
   "outputs": [
    {
     "data": {
      "text/html": [
       "<div>\n",
       "<style scoped>\n",
       "    .dataframe tbody tr th:only-of-type {\n",
       "        vertical-align: middle;\n",
       "    }\n",
       "\n",
       "    .dataframe tbody tr th {\n",
       "        vertical-align: top;\n",
       "    }\n",
       "\n",
       "    .dataframe thead th {\n",
       "        text-align: right;\n",
       "    }\n",
       "</style>\n",
       "<table border=\"1\" class=\"dataframe\">\n",
       "  <thead>\n",
       "    <tr style=\"text-align: right;\">\n",
       "      <th></th>\n",
       "      <th>customer_id</th>\n",
       "      <th>rec__purchase_sum__sum__30d</th>\n",
       "      <th>rec__discount__sum__30d</th>\n",
       "      <th>target_group_flag</th>\n",
       "      <th>target_profit</th>\n",
       "    </tr>\n",
       "  </thead>\n",
       "  <tbody>\n",
       "    <tr>\n",
       "      <th>0</th>\n",
       "      <td>0</td>\n",
       "      <td>2538.766684</td>\n",
       "      <td>40.0</td>\n",
       "      <td>1.0</td>\n",
       "      <td>847.568339</td>\n",
       "    </tr>\n",
       "    <tr>\n",
       "      <th>1</th>\n",
       "      <td>1</td>\n",
       "      <td>2520.087704</td>\n",
       "      <td>0.0</td>\n",
       "      <td>1.0</td>\n",
       "      <td>881.030697</td>\n",
       "    </tr>\n",
       "    <tr>\n",
       "      <th>2</th>\n",
       "      <td>2</td>\n",
       "      <td>4199.119407</td>\n",
       "      <td>0.0</td>\n",
       "      <td>1.0</td>\n",
       "      <td>1468.691792</td>\n",
       "    </tr>\n",
       "    <tr>\n",
       "      <th>3</th>\n",
       "      <td>3</td>\n",
       "      <td>7573.037092</td>\n",
       "      <td>40.0</td>\n",
       "      <td>1.0</td>\n",
       "      <td>2609.562982</td>\n",
       "    </tr>\n",
       "    <tr>\n",
       "      <th>4</th>\n",
       "      <td>4</td>\n",
       "      <td>1033.298545</td>\n",
       "      <td>0.0</td>\n",
       "      <td>1.0</td>\n",
       "      <td>360.654491</td>\n",
       "    </tr>\n",
       "  </tbody>\n",
       "</table>\n",
       "</div>"
      ],
      "text/plain": [
       "   customer_id  rec__purchase_sum__sum__30d  rec__discount__sum__30d  \\\n",
       "0            0                  2538.766684                     40.0   \n",
       "1            1                  2520.087704                      0.0   \n",
       "2            2                  4199.119407                      0.0   \n",
       "3            3                  7573.037092                     40.0   \n",
       "4            4                  1033.298545                      0.0   \n",
       "\n",
       "   target_group_flag  target_profit  \n",
       "0                1.0     847.568339  \n",
       "1                1.0     881.030697  \n",
       "2                1.0    1468.691792  \n",
       "3                1.0    2609.562982  \n",
       "4                1.0     360.654491  "
      ]
     },
     "execution_count": 38,
     "metadata": {},
     "output_type": "execute_result"
    }
   ],
   "source": [
    "MARGIN_RATE = (100 - 5200/80)/100\n",
    "COMMUNICATION_COST = 1\n",
    "num_days = 30\n",
    "\n",
    "_columns = [\n",
    "    'customer_id',\n",
    "    'rec__purchase_sum__sum__30d',\n",
    "#    'rec__purchase_amt__sum__30d',\n",
    "    'rec__discount__sum__30d'\n",
    "]\n",
    "\n",
    "_part = compute_receipts_features(receipts, 102 + num_days, num_days=num_days)  # Интервал 30 дней отсчитываем от начала кампании\n",
    "_part = _part[_columns].merge(campaigns[['customer_id', 'target_group_flag']], on='customer_id', how='left').fillna(0) \n",
    "\n",
    "_part = _part.assign(target_profit=lambda d: (\n",
    "                          d['rec__purchase_sum__sum__30d'] * MARGIN_RATE \n",
    "                        - d['rec__discount__sum__30d']\n",
    "                        - (d['target_group_flag']).astype(int) * COMMUNICATION_COST\n",
    "                    ))\n",
    "\n",
    "data = data.merge(_part[_columns + ['target_profit']], on='customer_id', how='left').fillna(0)\n",
    "del _part\n",
    "\n",
    "data[_columns + ['target_group_flag','target_profit']].head()"
   ]
  },
  {
   "cell_type": "code",
   "execution_count": 39,
   "id": "c8850b62-dfb0-4a3e-8a7d-8bdfdce352af",
   "metadata": {
    "tags": []
   },
   "outputs": [
    {
     "data": {
      "text/plain": [
       "count    2.000000e+06\n",
       "mean     8.767312e+02\n",
       "std      6.972007e+02\n",
       "min     -1.140104e+01\n",
       "25%      3.210385e+02\n",
       "50%      7.932915e+02\n",
       "75%      1.325049e+03\n",
       "max      3.979691e+03\n",
       "Name: target_profit, dtype: float64"
      ]
     },
     "execution_count": 39,
     "metadata": {},
     "output_type": "execute_result"
    }
   ],
   "source": [
    "data['target_profit'].describe()"
   ]
  },
  {
   "cell_type": "markdown",
   "id": "2bc4803b-1061-491c-9385-7bbfb72b7322",
   "metadata": {},
   "source": [
    "## MODEL"
   ]
  },
  {
   "cell_type": "code",
   "execution_count": 49,
   "id": "71ac98c0-6270-42ff-85b0-28fff7ce7daa",
   "metadata": {
    "tags": []
   },
   "outputs": [],
   "source": [
    "col_target = 'target_profit'\n",
    "col_treatment = 'target_group_flag'\n",
    "col_features = [\n",
    "       # 'customer_id', \n",
    "       'age',\n",
    "       #'location', \n",
    "       'rec__date__count__10d',\n",
    "       'rec__date__min__10d', 'rec__date__max__10d',\n",
    "       'rec__purchase_amt__sum__10d', 'rec__purchase_amt__max__10d',\n",
    "       'rec__purchase_amt__min__10d', 'rec__purchase_amt__mean__10d',\n",
    "       'rec__purchase_amt__median__10d',\n",
    "       'rec__purchase_sum__sum__10d',\n",
    "       'rec__purchase_sum__max__10d', 'rec__purchase_sum__min__10d',\n",
    "       'rec__purchase_sum__mean__10d', 'rec__purchase_sum__median__10d',\n",
    "#       'rec__discount__sum__10d', \n",
    "       'rec__mean_time_interval__10d',\n",
    "       'rec__time_since_last__10d', \n",
    "    \n",
    "       'rec__date__count__100d',\n",
    "       'rec__date__min__100d', 'rec__date__max__100d',\n",
    "       'rec__purchase_amt__sum__100d', 'rec__purchase_amt__max__100d',\n",
    "       'rec__purchase_amt__min__100d', 'rec__purchase_amt__mean__100d',\n",
    "       'rec__purchase_amt__median__100d', \n",
    "        'rec__purchase_sum__sum__100d',\n",
    "       'rec__purchase_sum__max__100d', 'rec__purchase_sum__min__100d',\n",
    "       'rec__purchase_sum__mean__100d', 'rec__purchase_sum__median__100d',\n",
    "#      'rec__discount__sum__100d', \n",
    "       'rec__mean_time_interval__100d',\n",
    "       'rec__time_since_last__100d', \n",
    "    \n",
    "       #'rec__purchase_sum__sum__30d', 'rec__purchase_amt__sum__30d',\n",
    "       #'rec__discount__sum__30d',\n",
    "    \n",
    "       #'target_profit', 'target_group_flag'\n",
    "]\n"
   ]
  },
  {
   "cell_type": "code",
   "execution_count": 41,
   "id": "f4278b8f-a4e4-4402-9926-737b4d92b3b7",
   "metadata": {
    "tags": []
   },
   "outputs": [],
   "source": [
    "fit_index, val_index = train_test_split(data.index, test_size=0.5, random_state=165)"
   ]
  },
  {
   "cell_type": "code",
   "execution_count": 42,
   "id": "2f2b7a01-2173-40ad-a00e-2170fa812292",
   "metadata": {
    "tags": []
   },
   "outputs": [
    {
     "data": {
      "text/plain": [
       "(2000000,)"
      ]
     },
     "execution_count": 42,
     "metadata": {},
     "output_type": "execute_result"
    }
   ],
   "source": [
    "#fit_index.shape, val_index.shape, \n",
    "data.index.shape"
   ]
  },
  {
   "cell_type": "code",
   "execution_count": 15,
   "id": "d3b3df79-dd70-4ab3-8f12-6761b5f68f10",
   "metadata": {
    "tags": []
   },
   "outputs": [],
   "source": [
    "import causalml.inference.meta.rlearner as rlearner\n",
    "import lightgbm as lgb"
   ]
  },
  {
   "cell_type": "code",
   "execution_count": 50,
   "id": "676717c9-9141-45ff-a9bd-66a8b97f9060",
   "metadata": {
    "tags": []
   },
   "outputs": [],
   "source": [
    "model_rl = rlearner.BaseRRegressor(\n",
    "    learner=lgb.LGBMRegressor(),\n",
    "    control_name=0,\n",
    "    n_fold=4,\n",
    "    random_state=165\n",
    ")"
   ]
  },
  {
   "cell_type": "code",
   "execution_count": null,
   "id": "328b0923-6610-4034-9bf0-86d72fbe6716",
   "metadata": {
    "tags": []
   },
   "outputs": [],
   "source": [
    "_p_score_const = data.loc[fit_index, col_treatment].value_counts(normalize=True).loc[1]\n",
    "_p_scores = pd.Series(data=_p_score_const, index=fit_index)\n",
    "\n",
    "model_rl.fit(\n",
    "    X=data.loc[fit_index, col_features].values,\n",
    "    treatment=data.loc[fit_index, col_treatment].values,\n",
    "    y=data.loc[fit_index, col_target].values,\n",
    "    p=_p_scores\n",
    ")"
   ]
  },
  {
   "cell_type": "code",
   "execution_count": null,
   "id": "2b004d2a-a556-42de-ba7a-1c96df375841",
   "metadata": {
    "tags": []
   },
   "outputs": [],
   "source": [
    "_eval_data = data.loc[val_index, col_features + [col_treatment, col_target]]\n",
    "_eval_data['score'] = model_rl.predict(_eval_data[col_features])\n",
    "_eval_data = _eval_data[['score', col_treatment, col_target]]"
   ]
  },
  {
   "cell_type": "code",
   "execution_count": null,
   "id": "4935d69f-ada3-4404-923f-7aad3bd28761",
   "metadata": {
    "tags": []
   },
   "outputs": [],
   "source": [
    "_eval_data['score'].describe()"
   ]
  },
  {
   "cell_type": "code",
   "execution_count": null,
   "id": "f3d6c719-db2f-4e92-966e-ac1acf5b0d72",
   "metadata": {
    "tags": []
   },
   "outputs": [],
   "source": [
    "cmetrics.plot_gain(\n",
    "    _eval_data,\n",
    "    treatment_col=col_treatment,\n",
    "    outcome_col=col_target,\n",
    ")"
   ]
  },
  {
   "cell_type": "code",
   "execution_count": null,
   "id": "bc791eaf-7c11-4acb-97f2-f71641201a65",
   "metadata": {},
   "outputs": [],
   "source": []
  },
  {
   "cell_type": "markdown",
   "id": "f9fe926f-3591-4a28-a959-41864fbac3d5",
   "metadata": {
    "tags": [],
    "toc-hr-collapsed": true
   },
   "source": [
    "# ДАЛЬШЕ НЕ ТРОГАЛ :)"
   ]
  },
  {
   "cell_type": "markdown",
   "id": "ae4f2276-0f39-4849-a881-d5592ab7d263",
   "metadata": {},
   "source": [
    "## DATA FOR PREDICTION"
   ]
  },
  {
   "cell_type": "code",
   "execution_count": null,
   "id": "14bd5f1b-6122-4028-ade1-560600bf37ec",
   "metadata": {},
   "outputs": [],
   "source": [
    "receipts_1 = compute_receipts_features(receipts, 250, num_days=10)\n",
    "receipts_2 = compute_receipts_features(receipts, 250, num_days=15)\n",
    "receipts_3 = compute_receipts_features(receipts, 250, num_days=50)\n",
    "receipts_4 = compute_receipts_features(receipts, 250, num_days=100)"
   ]
  },
  {
   "cell_type": "code",
   "execution_count": null,
   "id": "0108e863-1e51-4ead-8553-fc528b3ab53a",
   "metadata": {},
   "outputs": [],
   "source": [
    "receipts_1.to_csv('data/receipts_1.csv', index=False)\n",
    "receipts_2.to_csv('data/receipts_2.csv', index=False)\n",
    "receipts_3.to_csv('data/receipts_3.csv', index=False)\n",
    "receipts_4.to_csv('data/receipts_4.csv', index=False)"
   ]
  },
  {
   "cell_type": "code",
   "execution_count": null,
   "id": "a933887d-8726-417a-9cec-6b2040e877e6",
   "metadata": {
    "tags": []
   },
   "outputs": [],
   "source": [
    "#customers = customers.drop(columns = ['Unnamed: 0'])\n",
    "\n",
    "data_for_pred = customers.copy()\n",
    "for part in [receipts_1, receipts_2, receipts_3, receipts_4]:\n",
    "    data_for_pred = data_for_pred.merge(part, on='customer_id', how='left') \n",
    "    \n",
    "data_for_pred = data_for_pred.merge(campaigns[['customer_id', 'target_group_flag']], on='customer_id', how='left').fillna(0) \n",
    "data_for_pred"
   ]
  },
  {
   "cell_type": "code",
   "execution_count": null,
   "id": "c31fa070-5f0f-4ffa-b717-a4d3315ccfbb",
   "metadata": {
    "tags": []
   },
   "outputs": [],
   "source": [
    "# возраст меняем на вот этот признак - качество немного увеличивается\n",
    "\n",
    "data_for_pred['age_more_50'] = data_for_pred['age'].apply(lambda x: 1 if x>50 else 0)"
   ]
  },
  {
   "cell_type": "code",
   "execution_count": null,
   "id": "320c6ad9-135f-4c25-bb5d-2d99cc81b7cf",
   "metadata": {},
   "outputs": [],
   "source": [
    "data_for_pred.to_csv('data/data_for_pred.csv', index=False)"
   ]
  },
  {
   "cell_type": "code",
   "execution_count": null,
   "id": "4bddcf17-ddd7-488b-9abe-7ae6430d8b9d",
   "metadata": {},
   "outputs": [],
   "source": [
    "data_for_pred = pd.read_csv('data/data_for_pred.csv')\n",
    "data_for_pred.shape"
   ]
  },
  {
   "cell_type": "code",
   "execution_count": null,
   "id": "53976701-be7a-447e-a028-b005cb8b6f72",
   "metadata": {
    "tags": []
   },
   "outputs": [],
   "source": [
    "data_for_pred = data_part.merge(data_for_pred[list(set(data_for_pred.columns) - set(['age', 'location']))], \n",
    "                                               on='customer_id', how='left')"
   ]
  },
  {
   "cell_type": "code",
   "execution_count": null,
   "id": "cdc19283-84e6-4dd9-a2c9-9075f6bc669e",
   "metadata": {},
   "outputs": [],
   "source": [
    "data_for_pred.to_csv('data/data_for_pred.csv', index = False)"
   ]
  },
  {
   "cell_type": "code",
   "execution_count": null,
   "id": "8303ce29-7d8d-4167-870d-5d5a21d7a4f1",
   "metadata": {},
   "outputs": [],
   "source": [
    "data_for_pred = pd.read_csv('data/data_for_pred.csv')\n",
    "data_for_pred"
   ]
  },
  {
   "cell_type": "code",
   "execution_count": null,
   "id": "4596d175-3026-4820-95b0-b6aa99c460fe",
   "metadata": {},
   "outputs": [],
   "source": [
    "data_for_pred = data_for_pred.merge(receipts_camp, on='customer_id', how='left').fillna(0)\n",
    "data_for_pred"
   ]
  },
  {
   "cell_type": "code",
   "execution_count": null,
   "id": "567e53f5-ab11-4589-aac3-8194dedf7c39",
   "metadata": {},
   "outputs": [],
   "source": [
    "data_for_pred.to_csv('data/data_for_pred.csv', index = False)"
   ]
  },
  {
   "cell_type": "code",
   "execution_count": null,
   "id": "3c48ae6d-a0a3-4df5-807d-7a6e59d573bc",
   "metadata": {},
   "outputs": [],
   "source": [
    "data_for_pred = pd.read_csv('data/data_for_pred.csv')\n",
    "data_for_pred.shape"
   ]
  },
  {
   "cell_type": "code",
   "execution_count": null,
   "id": "e72df506-d279-4f60-a727-188bd9114e68",
   "metadata": {},
   "outputs": [],
   "source": []
  },
  {
   "cell_type": "code",
   "execution_count": null,
   "id": "15c796e0-d9f4-4f18-9f72-bc591309c0a3",
   "metadata": {},
   "outputs": [],
   "source": []
  },
  {
   "cell_type": "markdown",
   "id": "db2e0e5a-f660-474b-b890-55236ec47d2c",
   "metadata": {
    "tags": []
   },
   "source": [
    "## MODEL"
   ]
  },
  {
   "cell_type": "code",
   "execution_count": null,
   "id": "a759af55-56ce-4f7c-a004-da5e0c23e70c",
   "metadata": {
    "tags": []
   },
   "outputs": [],
   "source": [
    "col_target = 'target_profit'\n",
    "col_treatment = 'target_group_flag'"
   ]
  },
  {
   "cell_type": "code",
   "execution_count": null,
   "id": "69346748-7f60-4f74-bab2-167fbf16e4da",
   "metadata": {
    "tags": []
   },
   "outputs": [],
   "source": [
    "cols_features = [\n",
    "       'location',\n",
    "       'rec__date__count__10d',\n",
    "       # 'rec__date__min__10d', 'rec__date__max__10d',\n",
    "       'rec__purchase_amt__sum__10d', 'rec__purchase_amt__max__10d',\n",
    "       'rec__purchase_amt__min__10d', 'rec__purchase_amt__mean__10d',\n",
    "       'rec__purchase_amt__median__10d', 'rec__purchase_sum__sum__10d',\n",
    "       'rec__purchase_sum__max__10d', 'rec__purchase_sum__min__10d',\n",
    "       'rec__purchase_sum__mean__10d', 'rec__purchase_sum__median__10d',\n",
    "       # 'rec__discount__sum__10d', \n",
    "       'rec__mean_time_interval__10d',\n",
    "       'rec__time_since_last__10d', \n",
    "    \n",
    "#       'rec__date__count__15d',\n",
    "       # 'rec__date__min__15d', 'rec__date__max__15d',\n",
    "#       'rec__purchase_amt__sum__15d', 'rec__purchase_amt__max__15d',\n",
    "#       'rec__purchase_amt__min__15d', 'rec__purchase_amt__mean__15d',\n",
    "#       'rec__purchase_amt__median__15d', 'rec__purchase_sum__sum__15d',\n",
    "#       'rec__purchase_sum__max__15d', 'rec__purchase_sum__min__15d',\n",
    "#       'rec__purchase_sum__mean__15d', 'rec__purchase_sum__median__15d',\n",
    "       # 'rec__discount__sum__15d', \n",
    "#       'rec__mean_time_interval__15d',\n",
    "#       'rec__time_since_last__15d', \n",
    "    \n",
    "#       'rec__date__count__50d',\n",
    "       # 'rec__date__min__50d', 'rec__date__max__50d',\n",
    "#       'rec__purchase_amt__sum__50d', 'rec__purchase_amt__max__50d',\n",
    "#       'rec__purchase_amt__min__50d', 'rec__purchase_amt__mean__50d',\n",
    "#       'rec__purchase_amt__median__50d', 'rec__purchase_sum__sum__50d',\n",
    "#       'rec__purchase_sum__max__50d', 'rec__purchase_sum__min__50d',\n",
    "#       'rec__purchase_sum__mean__50d', 'rec__purchase_sum__median__50d',\n",
    "       # 'rec__discount__sum__50d', \n",
    "#       'rec__mean_time_interval__50d',\n",
    "#       'rec__time_since_last__50d', \n",
    "    \n",
    "       'rec__date__count__100d',\n",
    "       # 'rec__date__min__100d', 'rec__date__max__100d',\n",
    "       'rec__purchase_amt__sum__100d', 'rec__purchase_amt__max__100d',\n",
    "       'rec__purchase_amt__min__100d', 'rec__purchase_amt__mean__100d',\n",
    "       'rec__purchase_amt__median__100d', 'rec__purchase_sum__sum__100d',\n",
    "       'rec__purchase_sum__max__100d', 'rec__purchase_sum__min__100d',\n",
    "       'rec__purchase_sum__mean__100d', 'rec__purchase_sum__median__100d',\n",
    "       # 'rec__discount__sum__100d', \n",
    "       'rec__mean_time_interval__100d',\n",
    "       'rec__time_since_last__100d',\n",
    "    \n",
    "    \n",
    " #      'rec__date__count__7d',\n",
    "       # 'rec__date__min__100d', 'rec__date__max__100d',\n",
    " #      'rec__purchase_amt__sum__7d', 'rec__purchase_amt__max__7d',\n",
    " #      'rec__purchase_amt__min__7d', 'rec__purchase_amt__mean__7d',\n",
    " #      'rec__purchase_amt__median__7d', 'rec__purchase_sum__sum__7d',\n",
    " #      'rec__purchase_sum__max__7d', 'rec__purchase_sum__min__7d',\n",
    " #      'rec__purchase_sum__mean__7d', 'rec__purchase_sum__median__7d',\n",
    "       # 'rec__discount__sum__100d', \n",
    " #      'rec__mean_time_interval__7d',\n",
    " #      'rec__time_since_last__7d',\n",
    "    \n",
    "    \n",
    "#       'age_more_50'\n",
    "    \n",
    "]\n",
    "\n",
    "# 'age', "
   ]
  },
  {
   "cell_type": "markdown",
   "id": "a833d61b-1701-4975-8e36-10dbd02590eb",
   "metadata": {
    "jp-MarkdownHeadingCollapsed": true,
    "tags": []
   },
   "source": [
    "## T-learner - можно не смотреть!"
   ]
  },
  {
   "cell_type": "code",
   "execution_count": null,
   "id": "64e6836e-da8f-43ff-9eb3-857842f447e3",
   "metadata": {},
   "outputs": [],
   "source": [
    "import causalml.inference.meta.tlearner as tlearner"
   ]
  },
  {
   "cell_type": "code",
   "execution_count": null,
   "id": "bb2869c5-4f8b-4320-a348-8a0df2b8d0bd",
   "metadata": {},
   "outputs": [],
   "source": [
    "from xgboost import XGBRegressor"
   ]
  },
  {
   "cell_type": "code",
   "execution_count": null,
   "id": "097bd1e9-6748-4952-8526-0332aafe8b7a",
   "metadata": {},
   "outputs": [],
   "source": [
    "model_n11 = tlearner.BaseTRegressor(\n",
    "    learner=lgb.LGBMRegressor(),    # XGBRegressor()\n",
    "    control_name=0\n",
    ")"
   ]
  },
  {
   "cell_type": "code",
   "execution_count": null,
   "id": "07089c50-462a-4683-96c3-78bad375fb20",
   "metadata": {},
   "outputs": [],
   "source": [
    "model_n11.fit(\n",
    "    X=data.loc[fit_index, cols_features].values,\n",
    "    treatment=data.loc[fit_index, col_treatment].values,\n",
    "    y=data.loc[fit_index, col_target].values,\n",
    ")"
   ]
  },
  {
   "cell_type": "code",
   "execution_count": null,
   "id": "33170a26-0302-4d9b-8183-e6b9d61de126",
   "metadata": {},
   "outputs": [],
   "source": [
    "_eval_data = data.loc[val_index, cols_features + [col_treatment, col_target]]\n",
    "_eval_data['score'] = model_n11.predict(_eval_data[cols_features])\n",
    "_eval_data = _eval_data[['score', col_treatment, col_target]]"
   ]
  },
  {
   "cell_type": "code",
   "execution_count": null,
   "id": "ee8b448c-396d-46a5-b1d1-a14ae49b99f3",
   "metadata": {},
   "outputs": [],
   "source": [
    "plt.figure(figsize=(10, 6))\n",
    "plt.hist(_eval_data['score'].head(1000), bins=100)\n",
    "plt.show()"
   ]
  },
  {
   "cell_type": "code",
   "execution_count": null,
   "id": "18cf200a-55d5-4565-a0ad-96b123b175c1",
   "metadata": {},
   "outputs": [],
   "source": [
    "cmetrics.plot_gain(\n",
    "    _eval_data,\n",
    "    treatment_col=col_treatment,\n",
    "    outcome_col=col_target,\n",
    ")"
   ]
  },
  {
   "cell_type": "code",
   "execution_count": null,
   "id": "dc876726-8525-465c-b685-8cd2dc871cce",
   "metadata": {},
   "outputs": [],
   "source": [
    "cmetrics.auuc_score(\n",
    "    _eval_data,\n",
    "    treatment_col=col_treatment,\n",
    "    outcome_col=col_target,\n",
    ")"
   ]
  },
  {
   "cell_type": "code",
   "execution_count": null,
   "id": "1da3e91b-817c-449b-96b7-5c45cd9d44fc",
   "metadata": {},
   "outputs": [],
   "source": [
    "cmetrics.qini_score(\n",
    "    _eval_data,\n",
    "    treatment_col=col_treatment,\n",
    "    outcome_col=col_target,\n",
    ")"
   ]
  },
  {
   "cell_type": "code",
   "execution_count": null,
   "id": "dd15d0a6-12fa-4d76-b786-5d0ca0122629",
   "metadata": {},
   "outputs": [],
   "source": [
    "_all_data = data.loc[:, cols_features + [col_treatment, col_target]]\n",
    "_all_data['score'] = model_n11.predict(_all_data[cols_features])\n",
    "_all_data = _all_data[['score', col_treatment, col_target]]"
   ]
  },
  {
   "cell_type": "code",
   "execution_count": null,
   "id": "2f0999ff-eba4-4437-8a88-5175551c04e8",
   "metadata": {},
   "outputs": [],
   "source": [
    "cmetrics.plot_gain(\n",
    "    _all_data,\n",
    "    treatment_col=col_treatment,\n",
    "    outcome_col=col_target,\n",
    ")"
   ]
  },
  {
   "cell_type": "code",
   "execution_count": null,
   "id": "e48cdb3e-cff1-4dab-85cb-a608bbd30bb3",
   "metadata": {},
   "outputs": [],
   "source": [
    "cmetrics.qini_score(\n",
    "    _all_data,\n",
    "    treatment_col=col_treatment,\n",
    "    outcome_col=col_target,\n",
    ")"
   ]
  },
  {
   "cell_type": "code",
   "execution_count": null,
   "id": "4f0008c9-9735-4553-b525-e72f7aa5d56a",
   "metadata": {},
   "outputs": [],
   "source": []
  },
  {
   "cell_type": "code",
   "execution_count": null,
   "id": "7028580f-dad9-4294-9d71-dfe9dbc2916a",
   "metadata": {},
   "outputs": [],
   "source": []
  },
  {
   "cell_type": "code",
   "execution_count": null,
   "id": "a1a9bacb-3aa2-42af-acc3-dc8ff19b69d2",
   "metadata": {},
   "outputs": [],
   "source": []
  },
  {
   "cell_type": "code",
   "execution_count": null,
   "id": "b0a0c5d9-5b17-47f7-9ed6-cf2a74e8a05e",
   "metadata": {},
   "outputs": [],
   "source": []
  },
  {
   "cell_type": "code",
   "execution_count": null,
   "id": "94285ddc-9e2c-4782-9909-f815b6e2dbf3",
   "metadata": {},
   "outputs": [],
   "source": []
  },
  {
   "cell_type": "code",
   "execution_count": null,
   "id": "95ffff91-05b6-40e6-88cc-1dcd762a5f64",
   "metadata": {},
   "outputs": [],
   "source": []
  },
  {
   "cell_type": "markdown",
   "id": "8e16475c-f5e4-4f68-acc8-cf36dccecf9d",
   "metadata": {},
   "source": [
    "#### дальше все расчеты - на таргете в 7 дней (с разными фичами) - качество хуже"
   ]
  },
  {
   "cell_type": "code",
   "execution_count": null,
   "id": "f3dbf9dc-c98c-4d09-b3ef-1cc7ce249790",
   "metadata": {},
   "outputs": [],
   "source": [
    "model_n11.fit(\n",
    "    X=data.loc[:, cols_features].values,\n",
    "    treatment=data.loc[:, col_treatment].values,\n",
    "    y=data.loc[:, col_target].values,\n",
    ")"
   ]
  },
  {
   "cell_type": "code",
   "execution_count": null,
   "id": "ed0ff391-4da5-4dc4-adf1-8602a9f69134",
   "metadata": {},
   "outputs": [],
   "source": [
    "_train_data = data.loc[:, cols_features + [col_treatment, col_target]]\n",
    "_train_data['score'] = model_n11.predict(_train_data[cols_features])\n",
    "_train_data = _train_data[['score', col_treatment, col_target]]\n",
    "\n",
    "cmetrics.plot_gain(\n",
    "    _train_data,\n",
    "    treatment_col=col_treatment,\n",
    "    outcome_col=col_target,\n",
    ")"
   ]
  },
  {
   "cell_type": "code",
   "execution_count": null,
   "id": "93efb70c-7326-4af6-a6c3-887d122ba053",
   "metadata": {},
   "outputs": [],
   "source": [
    "s = _train_data.sort_values(by = ['score'], ascending=False).reset_index().rename(columns={'index': 'customer_id'}).iloc[:1000000]\n",
    "s"
   ]
  },
  {
   "cell_type": "code",
   "execution_count": null,
   "id": "428f013c-79f3-4abd-bcc4-690f6bf6def2",
   "metadata": {},
   "outputs": [],
   "source": [
    "s = _train_data.sort_values(by = ['score'], ascending=False).reset_index().rename(columns={'index': 'customer_id'}).iloc[:1000000]\n",
    "s['customer_id'].to_csv('data_3.csv', index=False)"
   ]
  },
  {
   "cell_type": "code",
   "execution_count": null,
   "id": "eac6a4c2-2f43-49c6-9133-66ceb532d117",
   "metadata": {},
   "outputs": [],
   "source": []
  },
  {
   "cell_type": "code",
   "execution_count": null,
   "id": "bc63ec48-cc72-4332-b093-02e5bf8844d4",
   "metadata": {},
   "outputs": [],
   "source": [
    "_train_data = data.loc[:, cols_features + [col_treatment, col_target]]\n",
    "_train_data['score'] = model_n11.predict(_train_data[cols_features])\n",
    "_train_data = _train_data[['score', col_treatment, col_target]]\n",
    "\n",
    "cmetrics.plot_gain(\n",
    "    _train_data,\n",
    "    treatment_col=col_treatment,\n",
    "    outcome_col=col_target,\n",
    ")"
   ]
  },
  {
   "cell_type": "code",
   "execution_count": null,
   "id": "0eea8370-c6d7-44f9-bc5d-44a8b6a20e5e",
   "metadata": {},
   "outputs": [],
   "source": [
    "0.12 * 1000000"
   ]
  },
  {
   "cell_type": "code",
   "execution_count": null,
   "id": "31ada054-7567-43e8-a4b2-4e0d8f2570d8",
   "metadata": {},
   "outputs": [],
   "source": [
    "cmetrics.auuc_score(\n",
    "    _train_data,\n",
    "    treatment_col=col_treatment,\n",
    "    outcome_col=col_target,\n",
    ")"
   ]
  },
  {
   "cell_type": "code",
   "execution_count": null,
   "id": "b5aa1ad2-17dd-463c-b59d-050ebcfd40ce",
   "metadata": {},
   "outputs": [],
   "source": [
    "cmetrics.qini_score(\n",
    "    _train_data,\n",
    "    treatment_col=col_treatment,\n",
    "    outcome_col=col_target,\n",
    ")"
   ]
  },
  {
   "cell_type": "code",
   "execution_count": null,
   "id": "baed74c1-dfa3-4db1-b4cc-b89e824f22d7",
   "metadata": {},
   "outputs": [],
   "source": [
    "_train_data"
   ]
  },
  {
   "cell_type": "code",
   "execution_count": null,
   "id": "d6b930ed-df4b-4bfb-bc55-fef26fd7e7c7",
   "metadata": {},
   "outputs": [],
   "source": [
    "s = _train_data.sort_values(by = ['score'], ascending=False).reset_index().rename(columns={'index': 'customer_id'}).iloc[:120000]\n",
    "s"
   ]
  },
  {
   "cell_type": "code",
   "execution_count": null,
   "id": "321cfcf7-cee5-4739-9aa8-80df7da8a48d",
   "metadata": {},
   "outputs": [],
   "source": [
    "s['customer_id'].to_csv('data_3.csv', index=False)"
   ]
  },
  {
   "cell_type": "code",
   "execution_count": null,
   "id": "ce7c0cd1-8d34-4f3b-9855-bf6bfa4ee0dc",
   "metadata": {},
   "outputs": [],
   "source": [
    "_train_data[_train_data.score > 0].target_profit.hist()"
   ]
  },
  {
   "cell_type": "code",
   "execution_count": null,
   "id": "45a9188c-9f30-4725-96b0-72e14e7ccd2c",
   "metadata": {},
   "outputs": [],
   "source": [
    "_train_data[_train_data.score < 0].target_profit.hist()"
   ]
  },
  {
   "cell_type": "code",
   "execution_count": null,
   "id": "5df93526-c0d0-4c1b-aa16-c1c5932e49ac",
   "metadata": {},
   "outputs": [],
   "source": [
    "_train_data.score.hist(bins=30)"
   ]
  },
  {
   "cell_type": "code",
   "execution_count": null,
   "id": "f03b2279-c5c8-4508-8bd0-ec28137adf60",
   "metadata": {},
   "outputs": [],
   "source": [
    "_train_data[_train_data.score > 0].score.hist()"
   ]
  },
  {
   "cell_type": "code",
   "execution_count": null,
   "id": "7d82b2a3-33d7-4c99-bc90-0ddf5cfa643c",
   "metadata": {},
   "outputs": [],
   "source": [
    "_train_data[_train_data.score < 0].score.hist()"
   ]
  },
  {
   "cell_type": "code",
   "execution_count": null,
   "id": "541661d5-9c6f-424a-b342-2e82aedd1ea1",
   "metadata": {},
   "outputs": [],
   "source": [
    "_train_data[(_train_data.score > 0)&(_train_data.target_profit > 0)]"
   ]
  },
  {
   "cell_type": "code",
   "execution_count": null,
   "id": "d66f412a-ad8b-4780-82ed-b1692e5a2555",
   "metadata": {},
   "outputs": [],
   "source": []
  },
  {
   "cell_type": "code",
   "execution_count": null,
   "id": "3edadc64-cd8f-4491-b31e-4cfb2f760947",
   "metadata": {},
   "outputs": [],
   "source": []
  },
  {
   "cell_type": "code",
   "execution_count": null,
   "id": "fa1c7068-e3cc-41dd-a8ae-3135ac9ded3a",
   "metadata": {},
   "outputs": [],
   "source": []
  },
  {
   "cell_type": "code",
   "execution_count": null,
   "id": "1d561c72-52a9-4cbc-8cc3-9fb07f9a62eb",
   "metadata": {},
   "outputs": [],
   "source": []
  },
  {
   "cell_type": "code",
   "execution_count": null,
   "id": "c0d63a0a-d50d-48af-863b-2f62148b2ae5",
   "metadata": {},
   "outputs": [],
   "source": []
  },
  {
   "cell_type": "code",
   "execution_count": null,
   "id": "9049e5a8-e570-48fd-82de-ec8655072490",
   "metadata": {},
   "outputs": [],
   "source": []
  },
  {
   "cell_type": "code",
   "execution_count": null,
   "id": "59756a4d-6d12-4251-9b31-b6fd2ec852aa",
   "metadata": {},
   "outputs": [],
   "source": []
  },
  {
   "cell_type": "code",
   "execution_count": null,
   "id": "8f65548b-8381-4bb2-8d85-7d3b9add5699",
   "metadata": {},
   "outputs": [],
   "source": []
  },
  {
   "cell_type": "code",
   "execution_count": null,
   "id": "31798c40-27e0-4950-80ef-8a2c5d214985",
   "metadata": {},
   "outputs": [],
   "source": []
  },
  {
   "cell_type": "code",
   "execution_count": null,
   "id": "3ac4ca2d-311b-49a5-b397-652f163b297a",
   "metadata": {},
   "outputs": [],
   "source": [
    "_train_data = data.loc[fit_index, cols_features + [col_treatment, col_target]]\n",
    "_train_data['score'] = model_n11.predict(_train_data[cols_features])\n",
    "_train_data = _train_data[['score', col_treatment, col_target]]\n",
    "\n",
    "cmetrics.plot_gain(\n",
    "    _train_data,\n",
    "    treatment_col=col_treatment,\n",
    "    outcome_col=col_target,\n",
    ")"
   ]
  },
  {
   "cell_type": "code",
   "execution_count": null,
   "id": "8f77b740-b411-47b7-b82f-688e9069a758",
   "metadata": {},
   "outputs": [],
   "source": [
    "_train_data.shape"
   ]
  },
  {
   "cell_type": "code",
   "execution_count": null,
   "id": "fcf4769c-37c2-46eb-8f33-bd31d0eedf8d",
   "metadata": {},
   "outputs": [],
   "source": [
    "_train_data"
   ]
  },
  {
   "cell_type": "code",
   "execution_count": null,
   "id": "a59dc851-8822-4056-9707-1de36dbcd118",
   "metadata": {},
   "outputs": [],
   "source": [
    "_train_data.iloc[610000:900000]"
   ]
  },
  {
   "cell_type": "code",
   "execution_count": null,
   "id": "76105b07-4364-4d6e-aa04-bf13e93f75dc",
   "metadata": {},
   "outputs": [],
   "source": [
    "_train_data[_train_data.score > -0.9].target_profit.hist()#.target_profit.sum()"
   ]
  },
  {
   "cell_type": "code",
   "execution_count": null,
   "id": "0609c798-7028-44f4-951b-b5be5069cce3",
   "metadata": {},
   "outputs": [],
   "source": [
    "_train_data[_train_data.score <= -0.9].target_profit.hist()"
   ]
  },
  {
   "cell_type": "code",
   "execution_count": null,
   "id": "1c713bd6-6814-4e5e-9dae-4ce14e5dd82b",
   "metadata": {},
   "outputs": [],
   "source": [
    "_train_data[_train_data.target_profit >= -5].score.hist()"
   ]
  },
  {
   "cell_type": "code",
   "execution_count": null,
   "id": "87352b18-9dc1-4b94-b46f-eefcb7d118ef",
   "metadata": {},
   "outputs": [],
   "source": [
    "_train_data[_train_data.target_profit < -5].score.hist()"
   ]
  },
  {
   "cell_type": "code",
   "execution_count": null,
   "id": "12d8ea77-aa5d-4fd6-b603-ca13449f20b5",
   "metadata": {},
   "outputs": [],
   "source": [
    "_train_data.target_group_flag.value_counts()"
   ]
  },
  {
   "cell_type": "code",
   "execution_count": null,
   "id": "443aa968-cfb3-4e54-9da0-2b55410118ee",
   "metadata": {},
   "outputs": [],
   "source": [
    "df = _train_data[_train_data.score > 0].reset_index()\n",
    "df['customer_id'] = df['index']\n",
    "df['customer_id']"
   ]
  },
  {
   "cell_type": "code",
   "execution_count": null,
   "id": "df712529-5af5-4322-90b8-e02652f21a60",
   "metadata": {},
   "outputs": [],
   "source": [
    "df['customer_id'].to_csv('project_3.csv', index = False)"
   ]
  },
  {
   "cell_type": "code",
   "execution_count": null,
   "id": "ce6f18e5-808a-4706-9cd2-637f3fcae74c",
   "metadata": {},
   "outputs": [],
   "source": []
  },
  {
   "cell_type": "markdown",
   "id": "2fa5b2cc-50cb-45eb-98e0-172fe3483859",
   "metadata": {
    "jp-MarkdownHeadingCollapsed": true,
    "tags": []
   },
   "source": [
    "## Xlearner - можно не смотреть!"
   ]
  },
  {
   "cell_type": "code",
   "execution_count": null,
   "id": "439e5f6d-14b3-4451-99c6-d1b680450488",
   "metadata": {},
   "outputs": [],
   "source": [
    "import causalml.inference.meta.xlearner as xlearner"
   ]
  },
  {
   "cell_type": "code",
   "execution_count": null,
   "id": "82cf25b1-3c2b-4a22-90ff-b448bcd3a8c4",
   "metadata": {},
   "outputs": [],
   "source": [
    "model_n4 = xlearner.BaseXRegressor(\n",
    "    learner=lgb.LGBMRegressor(),\n",
    "    control_name=0\n",
    ")"
   ]
  },
  {
   "cell_type": "code",
   "execution_count": null,
   "id": "08cb67f1-357e-49f6-a5c2-eb15990a1f41",
   "metadata": {},
   "outputs": [],
   "source": [
    "data.loc[fit_index, col_treatment].value_counts(normalize=True)#.loc[1]"
   ]
  },
  {
   "cell_type": "code",
   "execution_count": null,
   "id": "d3283698-2bc4-429c-9b2f-cf9f7952ca77",
   "metadata": {},
   "outputs": [],
   "source": [
    "_p_score_const = data.loc[fit_index, col_treatment].value_counts(normalize=True).loc[1]\n",
    "_p_scores = pd.Series(data=_p_score_const, index=fit_index)\n",
    "_p_scores"
   ]
  },
  {
   "cell_type": "code",
   "execution_count": null,
   "id": "b6678895-b0ba-4692-a7fc-c850f1788112",
   "metadata": {},
   "outputs": [],
   "source": [
    "model_n4.fit(\n",
    "    X=data.loc[fit_index, cols_features].values,\n",
    "    treatment=data.loc[fit_index, col_treatment].values, # .apply(lambda t: 'treatment' if t == 1 else 'control').values,\n",
    "    y=data.loc[fit_index, col_target].values,\n",
    "    p=_p_scores\n",
    ")"
   ]
  },
  {
   "cell_type": "code",
   "execution_count": null,
   "id": "13a90be4-79d4-4ed0-8026-4572a637e06c",
   "metadata": {},
   "outputs": [],
   "source": [
    "_p_scores = pd.Series(data=_p_score_const, index=val_index)\n",
    "\n",
    "_eval_data = data.loc[val_index, cols_features + [col_treatment, col_target]]\n",
    "_eval_data['score'] = model_n4.predict(_eval_data[cols_features], p=_p_scores)\n",
    "_eval_data = _eval_data[['score', col_treatment, col_target]]"
   ]
  },
  {
   "cell_type": "code",
   "execution_count": null,
   "id": "5af89bc4-621c-4907-a328-15cbec7f69bc",
   "metadata": {},
   "outputs": [],
   "source": [
    "plt.figure(figsize=(10, 6))\n",
    "plt.hist(_eval_data['score'].head(1000), bins=100)\n",
    "plt.show()"
   ]
  },
  {
   "cell_type": "code",
   "execution_count": null,
   "id": "ce4ef799-6f63-4044-9e93-ae7cb839061a",
   "metadata": {},
   "outputs": [],
   "source": [
    "cmetrics.plot_gain(\n",
    "    _eval_data,\n",
    "    treatment_col=col_treatment,\n",
    "    outcome_col=col_target,\n",
    ")"
   ]
  },
  {
   "cell_type": "code",
   "execution_count": null,
   "id": "05def63f-9775-4466-92a4-02d6ac583e20",
   "metadata": {},
   "outputs": [],
   "source": [
    "cmetrics.auuc_score(\n",
    "    _eval_data,\n",
    "    treatment_col=col_treatment,\n",
    "    outcome_col=col_target\n",
    ")"
   ]
  },
  {
   "cell_type": "code",
   "execution_count": null,
   "id": "6a2f27c8-ebb5-4ed8-af7c-1c984e9abe07",
   "metadata": {},
   "outputs": [],
   "source": [
    "cmetrics.qini_score(\n",
    "    _eval_data,\n",
    "    treatment_col=col_treatment,\n",
    "    outcome_col=col_target,\n",
    ")"
   ]
  },
  {
   "cell_type": "code",
   "execution_count": null,
   "id": "98904092-f804-4520-a066-da134d77309e",
   "metadata": {},
   "outputs": [],
   "source": []
  },
  {
   "cell_type": "markdown",
   "id": "8c8eb108-37dc-4169-8a5f-250064663825",
   "metadata": {
    "tags": []
   },
   "source": [
    "## Rlearner"
   ]
  },
  {
   "cell_type": "code",
   "execution_count": null,
   "id": "c65bc593-8c8f-49b7-99f5-2e4c3afdd04e",
   "metadata": {
    "tags": []
   },
   "outputs": [],
   "source": [
    "fit_index, val_index = train_test_split(data.index, test_size=0.2, random_state=165, stratifydata.target_group_flag) #0.5"
   ]
  },
  {
   "cell_type": "code",
   "execution_count": null,
   "id": "8dde7d9a-fefc-4d01-a234-3144384199e7",
   "metadata": {
    "tags": []
   },
   "outputs": [],
   "source": [
    "###############\n",
    "fit_index, val_index = train_test_split(data.index, test_size=0.5, random_state=165)"
   ]
  },
  {
   "cell_type": "code",
   "execution_count": null,
   "id": "3df30642-9336-4e76-bbb2-5b503cecc000",
   "metadata": {
    "tags": []
   },
   "outputs": [],
   "source": [
    "#fit_index.shape, val_index.shape, \n",
    "data.index.shape"
   ]
  },
  {
   "cell_type": "code",
   "execution_count": null,
   "id": "cf2013ad-e3e8-4fac-89b1-7ba370a2433d",
   "metadata": {
    "tags": []
   },
   "outputs": [],
   "source": [
    "data.columns"
   ]
  },
  {
   "cell_type": "code",
   "execution_count": null,
   "id": "c87e5471-2445-4d6a-a94a-fdd902313319",
   "metadata": {},
   "outputs": [],
   "source": [
    "fit_index, val_index = train_test_split(data_train.index, test_size=0.5, random_state=165)"
   ]
  },
  {
   "cell_type": "code",
   "execution_count": null,
   "id": "a9560a82-cf4d-4644-b978-73d4c2dbe521",
   "metadata": {
    "tags": []
   },
   "outputs": [],
   "source": [
    "import causalml.inference.meta.rlearner as rlearner\n",
    "import lightgbm as lgb"
   ]
  },
  {
   "cell_type": "code",
   "execution_count": null,
   "id": "2376697e-e166-440f-b227-f9db5dca4b69",
   "metadata": {
    "tags": []
   },
   "outputs": [],
   "source": [
    "model_rl = rlearner.BaseRRegressor(\n",
    "    learner=lgb.LGBMRegressor(),\n",
    "    control_name=0,\n",
    "    n_fold=4,\n",
    "    random_state=165\n",
    ")"
   ]
  },
  {
   "cell_type": "code",
   "execution_count": null,
   "id": "a2f56b9f-3f24-437f-aa1f-8f3191d6ca63",
   "metadata": {
    "tags": []
   },
   "outputs": [],
   "source": [
    "_p_score_const = data.loc[fit_index, col_treatment].value_counts(normalize=True).loc[1]\n",
    "_p_scores = pd.Series(data=_p_score_const, index=fit_index)\n",
    "\n",
    "model_rl.fit(\n",
    "    X=data.loc[fit_index, cols_features].values,\n",
    "    treatment=data.loc[fit_index, col_treatment].values,\n",
    "    y=data.loc[fit_index, col_target].values,\n",
    "    p=_p_scores\n",
    ")"
   ]
  },
  {
   "cell_type": "code",
   "execution_count": null,
   "id": "be89fe5a-b63b-49e2-9979-431a57b07be2",
   "metadata": {},
   "outputs": [],
   "source": []
  },
  {
   "cell_type": "code",
   "execution_count": null,
   "id": "e7a22914-8a73-4057-8d1c-90ce4452099b",
   "metadata": {},
   "outputs": [],
   "source": []
  },
  {
   "cell_type": "code",
   "execution_count": null,
   "id": "0e83c90a-50e9-46d4-997c-611518b3f696",
   "metadata": {
    "tags": []
   },
   "outputs": [],
   "source": [
    "_eval_data = data.loc[val_index, cols_features + [col_treatment, col_target]]\n",
    "_eval_data['score'] = model_rl.predict(_eval_data[cols_features])\n",
    "_eval_data = _eval_data[['score', col_treatment, col_target]]\n",
    "\n",
    "_eval_data"
   ]
  },
  {
   "cell_type": "code",
   "execution_count": null,
   "id": "641d7443-ee43-444f-a847-0a432bc43569",
   "metadata": {
    "tags": []
   },
   "outputs": [],
   "source": [
    "cmetrics.plot_gain(\n",
    "    _eval_data,\n",
    "    treatment_col=col_treatment,\n",
    "    outcome_col=col_target,\n",
    ")"
   ]
  },
  {
   "cell_type": "code",
   "execution_count": null,
   "id": "a1fd16da-aea8-44df-9b30-7802b36d021a",
   "metadata": {},
   "outputs": [],
   "source": [
    "cmetrics.qini_score(\n",
    "    _eval_data,\n",
    "    treatment_col=col_treatment,\n",
    "    outcome_col=col_target,\n",
    ")"
   ]
  },
  {
   "cell_type": "code",
   "execution_count": null,
   "id": "7c085db2-8300-4b31-8cbb-929071085919",
   "metadata": {
    "tags": []
   },
   "outputs": [],
   "source": [
    "_eval_data"
   ]
  },
  {
   "cell_type": "code",
   "execution_count": null,
   "id": "f83269ab-9207-454b-bfaa-32c1ab54636c",
   "metadata": {
    "tags": []
   },
   "outputs": [],
   "source": [
    "_eval_data['score'].describe()"
   ]
  },
  {
   "cell_type": "code",
   "execution_count": null,
   "id": "7586624e-7481-40e2-935d-45ef98db4d1f",
   "metadata": {},
   "outputs": [],
   "source": [
    "count    1000000.000000\n",
    "mean          -2.600219\n",
    "std           30.532790\n",
    "min         -819.318235\n",
    "25%          -16.991519\n",
    "50%           -3.586985\n",
    "75%           10.014556\n",
    "max         1046.801232"
   ]
  },
  {
   "cell_type": "code",
   "execution_count": null,
   "id": "535d446f-f85b-44bc-af4e-7a597604ba0c",
   "metadata": {},
   "outputs": [],
   "source": [
    "del data"
   ]
  },
  {
   "cell_type": "code",
   "execution_count": null,
   "id": "48eac138-3ce1-4cf7-a8c8-b8bd6c4c76e7",
   "metadata": {},
   "outputs": [],
   "source": [
    "_all_data = data_for_pred.loc[:, cols_features]\n",
    "_all_data['score'] = model_rl.predict(_all_data[cols_features])\n",
    "_all_data = _all_data[['score']]\n",
    "\n",
    "_all_data"
   ]
  },
  {
   "cell_type": "code",
   "execution_count": null,
   "id": "049c6ba6-b204-4a4f-aaaf-18513174dc7e",
   "metadata": {},
   "outputs": [],
   "source": [
    "s = _all_data.sort_values(by = ['score'], ascending=False).reset_index().rename(columns={'index': 'customer_id'}).iloc[:135000]\n",
    "s['customer_id'].to_csv('result.csv', index=False)"
   ]
  },
  {
   "cell_type": "code",
   "execution_count": null,
   "id": "a52c0d7a-5f0a-4ff7-b580-64009288cc5d",
   "metadata": {},
   "outputs": [],
   "source": [
    "s"
   ]
  },
  {
   "cell_type": "code",
   "execution_count": null,
   "id": "0ba62f12-db0f-4d2a-a5be-28ec292e56a5",
   "metadata": {},
   "outputs": [],
   "source": [
    "s[s.score > 0]['customer_id'].to_csv('result.csv', index=False)"
   ]
  },
  {
   "cell_type": "code",
   "execution_count": null,
   "id": "5822d707-141e-4fe3-952b-a76a97d9ac60",
   "metadata": {},
   "outputs": [],
   "source": []
  },
  {
   "cell_type": "code",
   "execution_count": null,
   "id": "e5a541f6-b39d-4ec0-a02c-0d77a6dcb2f2",
   "metadata": {},
   "outputs": [],
   "source": []
  },
  {
   "cell_type": "code",
   "execution_count": null,
   "id": "20d4e22f-12ef-4869-8746-78ae2b2e8aa0",
   "metadata": {},
   "outputs": [],
   "source": []
  },
  {
   "cell_type": "code",
   "execution_count": null,
   "id": "52a8a4ab-ed66-4381-a7dc-d959d8a7b0d0",
   "metadata": {},
   "outputs": [],
   "source": []
  },
  {
   "cell_type": "markdown",
   "id": "b5f516d3-5c4e-4143-bc0c-442dfeb45372",
   "metadata": {},
   "source": [
    "# Дальше можно не смотреть!"
   ]
  },
  {
   "cell_type": "code",
   "execution_count": null,
   "id": "2dbddfce-d981-4b2f-b93d-851aac414d57",
   "metadata": {},
   "outputs": [],
   "source": [
    "cmetrics.plot_gain(\n",
    "    _all_data,\n",
    "    treatment_col=col_treatment,\n",
    "    outcome_col=col_target,\n",
    ")"
   ]
  },
  {
   "cell_type": "code",
   "execution_count": null,
   "id": "a230174a-be7a-4857-b493-ab575d27464d",
   "metadata": {},
   "outputs": [],
   "source": [
    "cmetrics.qini_score(\n",
    "    _all_data,\n",
    "    treatment_col=col_treatment,\n",
    "    outcome_col=col_target,\n",
    ")"
   ]
  },
  {
   "cell_type": "code",
   "execution_count": null,
   "id": "1c5ba5d7-6960-4bac-ac65-21b902d67e31",
   "metadata": {},
   "outputs": [],
   "source": [
    "700000"
   ]
  },
  {
   "cell_type": "code",
   "execution_count": null,
   "id": "61b14408-bea9-4886-a761-343ae301f107",
   "metadata": {},
   "outputs": [],
   "source": [
    "s = _all_data.sort_values(by = ['score'], ascending=False).reset_index().rename(columns={'index': 'customer_id'}).iloc[:450000]\n",
    "s['customer_id'].to_csv('data.csv', index=False)"
   ]
  },
  {
   "cell_type": "code",
   "execution_count": null,
   "id": "e5e7d569-3ec5-40fd-bb54-67b4eff1fa40",
   "metadata": {},
   "outputs": [],
   "source": [
    "cols_features"
   ]
  },
  {
   "cell_type": "code",
   "execution_count": null,
   "id": "b9e54860-7a31-4b62-9050-6a9efef1c451",
   "metadata": {},
   "outputs": [],
   "source": []
  },
  {
   "cell_type": "code",
   "execution_count": null,
   "id": "bf5cdafa-f006-481a-86e5-582236d9b18c",
   "metadata": {},
   "outputs": [],
   "source": []
  },
  {
   "cell_type": "code",
   "execution_count": null,
   "id": "3ada0dbf-3857-45f2-adee-721a7ca7828f",
   "metadata": {},
   "outputs": [],
   "source": []
  },
  {
   "cell_type": "code",
   "execution_count": null,
   "id": "8c71ddb5-8cd1-493c-84f0-4b94327c04fe",
   "metadata": {},
   "outputs": [],
   "source": []
  },
  {
   "cell_type": "code",
   "execution_count": null,
   "id": "3c306456-bb0b-4aa6-b02d-2e8a60a8ca23",
   "metadata": {},
   "outputs": [],
   "source": []
  },
  {
   "cell_type": "code",
   "execution_count": null,
   "id": "8b1a3c14-403d-42bd-9730-43c17c3e1a8d",
   "metadata": {},
   "outputs": [],
   "source": [
    "_eval_data = data.loc[val_index, cols_features + [col_treatment, col_target]]\n",
    "_eval_data['score'] = model_rl.predict(_eval_data[cols_features])\n",
    "_eval_data = _eval_data[['score', col_treatment, col_target]]"
   ]
  },
  {
   "cell_type": "code",
   "execution_count": null,
   "id": "94271b09-5b87-45ba-8c4b-b744e9f30a18",
   "metadata": {},
   "outputs": [],
   "source": [
    "plt.figure(figsize=(10, 6))\n",
    "plt.hist(_eval_data['score'].head(1000), bins=100)\n",
    "plt.show()"
   ]
  },
  {
   "cell_type": "code",
   "execution_count": null,
   "id": "c008e63c-288d-49f5-9649-7bbbf0e3f1a7",
   "metadata": {},
   "outputs": [],
   "source": [
    "#  это с добавлением признаков за 30 дней после начала акции - качество хуже\n",
    "\n",
    "cmetrics.plot_gain(\n",
    "    _eval_data,\n",
    "    treatment_col=col_treatment,\n",
    "    outcome_col=col_target,\n",
    ")"
   ]
  },
  {
   "cell_type": "code",
   "execution_count": null,
   "id": "da134d16-c3dd-41b8-8ed2-15d77de32f56",
   "metadata": {},
   "outputs": [],
   "source": []
  },
  {
   "cell_type": "code",
   "execution_count": null,
   "id": "2ef42748-5786-453a-abe5-3cd6c6908820",
   "metadata": {},
   "outputs": [],
   "source": []
  },
  {
   "cell_type": "code",
   "execution_count": null,
   "id": "3210b14b-75ea-4dfc-82f6-1a3b8553a841",
   "metadata": {},
   "outputs": [],
   "source": [
    "cmetrics.plot_gain(\n",
    "    _eval_data,\n",
    "    treatment_col=col_treatment,\n",
    "    outcome_col=col_target,\n",
    ")"
   ]
  },
  {
   "cell_type": "code",
   "execution_count": null,
   "id": "abef5676-8a87-4cdb-a1e6-b92ac44b512b",
   "metadata": {},
   "outputs": [],
   "source": [
    "cmetrics.plot_gain(\n",
    "    _eval_data,\n",
    "    treatment_col=col_treatment,\n",
    "    outcome_col=col_target,\n",
    ")"
   ]
  },
  {
   "cell_type": "code",
   "execution_count": null,
   "id": "9742609d-ee98-4f6f-9f89-f9a31f5ec939",
   "metadata": {},
   "outputs": [],
   "source": [
    "cmetrics.auuc_score(\n",
    "    _eval_data,\n",
    "    treatment_col=col_treatment,\n",
    "    outcome_col=col_target,\n",
    ")"
   ]
  },
  {
   "cell_type": "code",
   "execution_count": null,
   "id": "708cea03-4896-496b-8212-c3944ea2c9f4",
   "metadata": {},
   "outputs": [],
   "source": [
    "cmetrics.qini_score(\n",
    "    _eval_data,\n",
    "    treatment_col=col_treatment,\n",
    "    outcome_col=col_target,\n",
    ")"
   ]
  },
  {
   "cell_type": "code",
   "execution_count": null,
   "id": "651e18ac-281d-4bda-b954-f1b6f3c7e852",
   "metadata": {},
   "outputs": [],
   "source": []
  },
  {
   "cell_type": "code",
   "execution_count": null,
   "id": "09037d2f-e4ee-4759-b1d9-210c742aa45a",
   "metadata": {},
   "outputs": [],
   "source": []
  },
  {
   "cell_type": "code",
   "execution_count": null,
   "id": "6ecc6bb1-dc58-4a7c-b015-765e266f71e9",
   "metadata": {},
   "outputs": [],
   "source": [
    "_all_data = data.loc[:, cols_features + [col_treatment, col_target]]\n",
    "_all_data['score'] = model_rl.predict(_all_data[cols_features])\n",
    "_all_data = _all_data[['score', col_treatment, col_target]]"
   ]
  },
  {
   "cell_type": "code",
   "execution_count": null,
   "id": "f56415e5-b313-4946-8e9e-4ca5da490f1a",
   "metadata": {},
   "outputs": [],
   "source": [
    "cmetrics.plot_gain(\n",
    "    _all_data,\n",
    "    treatment_col=col_treatment,\n",
    "    outcome_col=col_target,\n",
    ")"
   ]
  },
  {
   "cell_type": "code",
   "execution_count": null,
   "id": "5e438667-a166-4a01-b8f2-22a687bff8d4",
   "metadata": {},
   "outputs": [],
   "source": [
    "s = _all_data.sort_values(by = ['score'], ascending=False).reset_index().rename(columns={'index': 'customer_id'}).iloc[:700000]\n",
    "s['customer_id'].to_csv('data.csv', index=False)"
   ]
  },
  {
   "cell_type": "code",
   "execution_count": null,
   "id": "cffd2c99-0f65-42c6-940d-02441390174d",
   "metadata": {},
   "outputs": [],
   "source": [
    "0.7 * 1000000"
   ]
  },
  {
   "cell_type": "code",
   "execution_count": null,
   "id": "aa4a7d60-4cd8-4d5c-aac5-0c73c69eab9b",
   "metadata": {},
   "outputs": [],
   "source": []
  },
  {
   "cell_type": "code",
   "execution_count": null,
   "id": "5b11e702-9fce-4ac7-afa3-aa85aa36645e",
   "metadata": {},
   "outputs": [],
   "source": []
  },
  {
   "cell_type": "code",
   "execution_count": null,
   "id": "4fa2d93e-06a7-4606-a31e-8317f616dd17",
   "metadata": {},
   "outputs": [],
   "source": []
  },
  {
   "cell_type": "markdown",
   "id": "441b9b45-14f0-43b2-bd17-c5a16a9bb455",
   "metadata": {
    "tags": []
   },
   "source": [
    "## TransformedOutcome"
   ]
  },
  {
   "cell_type": "code",
   "execution_count": null,
   "id": "a219d780-b713-4618-8488-c6fcd5904e10",
   "metadata": {},
   "outputs": [],
   "source": [
    "data['rec__discount__sum__7d'].unique()"
   ]
  },
  {
   "cell_type": "code",
   "execution_count": null,
   "id": "44c73d0c-4610-466f-a185-529951aadbd5",
   "metadata": {},
   "outputs": [],
   "source": [
    " # не помогает\n",
    "\n",
    "data['if_use_discount'] = data['rec__discount__sum__7d'].apply(lambda x: 1 if x>0 else 0) "
   ]
  },
  {
   "cell_type": "code",
   "execution_count": null,
   "id": "560ac080-815c-47e0-9ef3-2c36d1862f1a",
   "metadata": {},
   "outputs": [],
   "source": [
    "data['if_use_discount'].unique()"
   ]
  },
  {
   "cell_type": "code",
   "execution_count": null,
   "id": "97dd46a0-eaec-4e89-b30c-bcacc895cd29",
   "metadata": {},
   "outputs": [],
   "source": [
    "_ = response_uplift(\n",
    "    data=data,            # .loc[fit_index]\n",
    "    col_feature='rec__date__count__7d',\n",
    "    col_target=col_target,\n",
    "    col_treatment=col_treatment\n",
    ")"
   ]
  },
  {
   "cell_type": "code",
   "execution_count": null,
   "id": "2c3c1fc9-2924-4459-ab8e-73554d74bc86",
   "metadata": {},
   "outputs": [],
   "source": [
    "cols_features = [\n",
    "       'location', 'rec__date__count__30d',\n",
    "       # 'rec__date__min__60d', 'rec__date__max__60d',\n",
    "       'rec__purchase_amt__sum__30d', 'rec__purchase_amt__max__30d',\n",
    "       'rec__purchase_amt__min__30d', 'rec__purchase_amt__mean__30d',\n",
    "       'rec__purchase_amt__median__30d', 'rec__purchase_sum__sum__30d',\n",
    "       'rec__purchase_sum__max__30d', 'rec__purchase_sum__min__30d',\n",
    "       'rec__purchase_sum__mean__30d', 'rec__purchase_sum__median__30d',\n",
    "       #'rec__discount__sum__60d', \n",
    "       'rec__mean_time_interval__30d',\n",
    "       'rec__time_since_last__30d', \n",
    "    \n",
    "       'rec__date__count__15d',\n",
    "       # 'rec__date__min__15d', 'rec__date__max__15d',\n",
    "       'rec__purchase_amt__sum__15d', 'rec__purchase_amt__max__15d',\n",
    "       'rec__purchase_amt__min__15d', 'rec__purchase_amt__mean__15d',\n",
    "       'rec__purchase_amt__median__15d', 'rec__purchase_sum__sum__15d',\n",
    "       'rec__purchase_sum__max__15d', 'rec__purchase_sum__min__15d',\n",
    "       'rec__purchase_sum__mean__15d', 'rec__purchase_sum__median__15d',\n",
    "       #'rec__discount__sum__15d', \n",
    "       'rec__mean_time_interval__15d',\n",
    "       'rec__time_since_last__15d', \n",
    "    \n",
    "       # 'rec__date__count__7d',\n",
    "       # 'rec__date__min__7d', 'rec__date__max__7d',\n",
    "       'rec__purchase_amt__sum__7d', 'rec__purchase_amt__max__7d',\n",
    "       'rec__purchase_amt__min__7d', 'rec__purchase_amt__mean__7d',\n",
    "       'rec__purchase_amt__median__7d', 'rec__purchase_sum__sum__7d',\n",
    "       'rec__purchase_sum__max__7d', 'rec__purchase_sum__min__7d',\n",
    "       'rec__purchase_sum__mean__7d', 'rec__purchase_sum__median__7d',\n",
    "       # 'rec__discount__sum__7d', \n",
    "       # 'rec__mean_time_interval__7d',\n",
    "       # 'rec__time_since_last__7d'\n",
    "    \n",
    "       'age_more_50',\n",
    "       'if_use_discount'\n",
    "]\n",
    "\n",
    "# 'age', "
   ]
  },
  {
   "cell_type": "code",
   "execution_count": null,
   "id": "761e7750-8e4a-48f8-8f13-19bac52b2de3",
   "metadata": {},
   "outputs": [],
   "source": [
    "model_n3 = pylift.TransformedOutcome(\n",
    "    data.loc[fit_index, cols_features + [col_treatment, col_target]],\n",
    "    col_treatment=col_treatment, col_outcome=col_target,\n",
    "    test_size=2\n",
    ")"
   ]
  },
  {
   "cell_type": "code",
   "execution_count": null,
   "id": "013bf386-6686-4a4d-b28b-1b787dc9df68",
   "metadata": {},
   "outputs": [],
   "source": [
    "model_n3.fit()"
   ]
  },
  {
   "cell_type": "code",
   "execution_count": null,
   "id": "ba652a4e-404a-4e7e-8ccc-0de2f1aaee9b",
   "metadata": {
    "tags": []
   },
   "outputs": [],
   "source": [
    "# когда таргет за 30 дней - модель не работает\n",
    "\n",
    "model_n3.NIV(n_bins=10)"
   ]
  },
  {
   "cell_type": "code",
   "execution_count": null,
   "id": "4466cac8-3dac-4e79-a153-c370cb87ccca",
   "metadata": {},
   "outputs": [],
   "source": []
  },
  {
   "cell_type": "code",
   "execution_count": null,
   "id": "4467028c-56ac-48ba-bba8-4cbdcd558e09",
   "metadata": {},
   "outputs": [],
   "source": [
    "# все, что ниже - это с таргетом за 7 дней. С таким таргетом лучше качество показывала именно эта модель (но грейдер ничего не примимает)"
   ]
  },
  {
   "cell_type": "code",
   "execution_count": null,
   "id": "c94e5af0-3a08-4435-82e4-223ea7055081",
   "metadata": {
    "tags": []
   },
   "outputs": [],
   "source": [
    "model_n3.NIV(n_bins=10)"
   ]
  },
  {
   "cell_type": "code",
   "execution_count": null,
   "id": "f8faed31-f648-4a2e-9190-e98079b98617",
   "metadata": {},
   "outputs": [],
   "source": []
  },
  {
   "cell_type": "code",
   "execution_count": null,
   "id": "6f65b281-90e0-4ec7-bf6a-d3eb369dbb20",
   "metadata": {},
   "outputs": [],
   "source": [
    "model_n3 = pylift.TransformedOutcome(\n",
    "    data.loc[:, cols_features + [col_treatment, col_target]],\n",
    "    col_treatment=col_treatment, col_outcome=col_target,\n",
    "    test_size=2\n",
    ")\n",
    "\n",
    "model_n3.fit()"
   ]
  },
  {
   "cell_type": "code",
   "execution_count": null,
   "id": "face7d86-4a42-4076-aa67-32557524be6e",
   "metadata": {
    "tags": []
   },
   "outputs": [],
   "source": [
    "model_n3.NIV(n_bins=10)"
   ]
  },
  {
   "cell_type": "code",
   "execution_count": null,
   "id": "fc01c153-981d-4ba6-b5f1-339c7a126187",
   "metadata": {},
   "outputs": [],
   "source": [
    "model_n3 = pylift.TransformedOutcome(\n",
    "    data.loc[:, cols_features + [col_treatment, col_target]],\n",
    "    col_treatment=col_treatment, col_outcome=col_target,\n",
    "    test_size=2\n",
    ")"
   ]
  },
  {
   "cell_type": "code",
   "execution_count": null,
   "id": "f0724603-4fa2-452a-9a83-3505a67613c2",
   "metadata": {},
   "outputs": [],
   "source": [
    "model_n3.fit()"
   ]
  },
  {
   "cell_type": "code",
   "execution_count": null,
   "id": "7c7f7007-2bfe-43d3-b703-af850284e246",
   "metadata": {
    "tags": []
   },
   "outputs": [],
   "source": [
    "model_n3.NIV(n_bins=10)"
   ]
  },
  {
   "cell_type": "code",
   "execution_count": null,
   "id": "d61005a5-4ec2-4291-995c-8c08448cbc14",
   "metadata": {},
   "outputs": [],
   "source": [
    "data"
   ]
  },
  {
   "cell_type": "code",
   "execution_count": null,
   "id": "fc3ba7a7-092d-43b6-b186-a4ed2f2173ea",
   "metadata": {},
   "outputs": [],
   "source": []
  },
  {
   "cell_type": "code",
   "execution_count": null,
   "id": "6c6c19ba-2444-4bf8-b2ad-e92c90951ad9",
   "metadata": {},
   "outputs": [],
   "source": []
  },
  {
   "cell_type": "code",
   "execution_count": null,
   "id": "5fce9ea4-0332-4c07-8d9f-21db689639c9",
   "metadata": {},
   "outputs": [],
   "source": []
  },
  {
   "cell_type": "code",
   "execution_count": null,
   "id": "8f27d944-021a-4b0b-bc8a-f8a2ffc8ef7a",
   "metadata": {},
   "outputs": [],
   "source": [
    "_train_data = data.loc[:, cols_features + [col_treatment, col_target]]\n",
    "_train_data['score'] = model_n3.model.predict(_train_data[cols_features])\n",
    "_train_data = _train_data[['score', col_treatment, col_target]]"
   ]
  },
  {
   "cell_type": "code",
   "execution_count": null,
   "id": "0dccd201-32cc-4fdb-8123-0e390bd07382",
   "metadata": {},
   "outputs": [],
   "source": [
    "cmetrics.plot_gain(\n",
    "    _train_data,\n",
    "    treatment_col=col_treatment,\n",
    "    outcome_col=col_target,\n",
    ")"
   ]
  },
  {
   "cell_type": "code",
   "execution_count": null,
   "id": "5896f841-c002-40de-92b2-ea00662c6ea3",
   "metadata": {},
   "outputs": [],
   "source": [
    "s = _train_data.sort_values(by = ['score'], ascending=False).reset_index().rename(columns={'index': 'customer_id'}).iloc[:880000]\n",
    "s['customer_id'].to_csv('data_3.csv', index=False)"
   ]
  },
  {
   "cell_type": "code",
   "execution_count": null,
   "id": "11042277-5761-4ae3-aa27-0a1fb0e73830",
   "metadata": {},
   "outputs": [],
   "source": [
    "s['customer_id']"
   ]
  },
  {
   "cell_type": "code",
   "execution_count": null,
   "id": "c8bdf6f7-25d8-4727-a403-0b3c70354452",
   "metadata": {},
   "outputs": [],
   "source": []
  },
  {
   "cell_type": "code",
   "execution_count": null,
   "id": "a01dbbba-d125-46c0-a9fc-5ba851782012",
   "metadata": {},
   "outputs": [],
   "source": []
  },
  {
   "cell_type": "code",
   "execution_count": null,
   "id": "6db195d9-9678-45df-8043-0ccfe8567b9a",
   "metadata": {},
   "outputs": [],
   "source": [
    "_train_data = data.loc[fit_index, cols_features + [col_treatment, col_target]]\n",
    "_train_data['score'] = model_n3.model.predict(_train_data[cols_features])\n",
    "_train_data = _train_data[['score', col_treatment, col_target]]"
   ]
  },
  {
   "cell_type": "code",
   "execution_count": null,
   "id": "68c2db28-7efa-4c73-a3ed-a8d748f03bb5",
   "metadata": {},
   "outputs": [],
   "source": [
    "_eval_data = data.loc[val_index, cols_features + [col_treatment, col_target]]\n",
    "_eval_data['score'] = model_n3.model.predict(_eval_data[cols_features])\n",
    "_eval_data = _eval_data[['score', col_treatment, col_target]]"
   ]
  },
  {
   "cell_type": "code",
   "execution_count": null,
   "id": "a40f1ffa-75ff-4de7-b964-a531f289ede3",
   "metadata": {},
   "outputs": [],
   "source": [
    "data.loc[val_index, cols_features + [col_treatment, col_target]].target_group_flag.value_counts()"
   ]
  },
  {
   "cell_type": "code",
   "execution_count": null,
   "id": "ed0ed1b6-2b3c-4227-b41b-5a6e826a8732",
   "metadata": {},
   "outputs": [],
   "source": []
  },
  {
   "cell_type": "code",
   "execution_count": null,
   "id": "76cc6dfd-bbc8-4f42-8406-bdb14cb36b9b",
   "metadata": {},
   "outputs": [],
   "source": []
  },
  {
   "cell_type": "code",
   "execution_count": null,
   "id": "85bdfe04-fa85-48b6-92cc-adaf777a79a9",
   "metadata": {},
   "outputs": [],
   "source": [
    "plt.figure(figsize=(10, 6))\n",
    "plt.hist(_eval_data['score'].head(1000), bins=100)\n",
    "plt.show()"
   ]
  },
  {
   "cell_type": "code",
   "execution_count": null,
   "id": "90ffc70b-98fe-4c5b-81cd-17e1516ca967",
   "metadata": {},
   "outputs": [],
   "source": [
    "40000000/300000"
   ]
  },
  {
   "cell_type": "code",
   "execution_count": null,
   "id": "469c7b08-7c03-4abe-afe2-38668fb05b07",
   "metadata": {},
   "outputs": [],
   "source": [
    "cmetrics.plot_gain(\n",
    "    _eval_data,\n",
    "    treatment_col=col_treatment,\n",
    "    outcome_col=col_target,\n",
    ")"
   ]
  },
  {
   "cell_type": "code",
   "execution_count": null,
   "id": "b0349892-4725-4334-8f52-697ea73077fa",
   "metadata": {},
   "outputs": [],
   "source": [
    "_eval_data[_eval_data.score >= 0]"
   ]
  },
  {
   "cell_type": "code",
   "execution_count": null,
   "id": "d95b0644-573e-4047-92ed-007dbdf8b7fb",
   "metadata": {},
   "outputs": [],
   "source": [
    "_eval_data[_eval_data.score >= 0].sort_values(by=['score'], ascending = False)"
   ]
  },
  {
   "cell_type": "code",
   "execution_count": null,
   "id": "7b60ae06-4d00-4dcb-8e6e-0ea3d78ec7a1",
   "metadata": {},
   "outputs": [],
   "source": [
    "_eval_data[_eval_data.score >= 0].target_group_flag.value_counts()"
   ]
  },
  {
   "cell_type": "code",
   "execution_count": null,
   "id": "50c5bbab-5bd7-4960-bc57-dce73066cde0",
   "metadata": {},
   "outputs": [],
   "source": [
    "_eval_data[_eval_data.score >= 0].target_profit.hist(bins=30)"
   ]
  },
  {
   "cell_type": "code",
   "execution_count": null,
   "id": "fec71a75-a61a-448a-889f-129628738f12",
   "metadata": {},
   "outputs": [],
   "source": []
  },
  {
   "cell_type": "code",
   "execution_count": null,
   "id": "60158f0e-f27d-436c-ac17-7551f737967a",
   "metadata": {},
   "outputs": [],
   "source": [
    "_eval_data[_eval_data.score < 0].target_group_flag.value_counts()"
   ]
  },
  {
   "cell_type": "code",
   "execution_count": null,
   "id": "3ec705d6-adcc-41d2-a1cb-d25a3b8f6aa5",
   "metadata": {},
   "outputs": [],
   "source": []
  },
  {
   "cell_type": "code",
   "execution_count": null,
   "id": "99d84d93-c80d-4cfe-a6a5-67a8b27a5ead",
   "metadata": {},
   "outputs": [],
   "source": []
  },
  {
   "cell_type": "code",
   "execution_count": null,
   "id": "57cf6b6d-4880-4a1a-9521-a17cbefd35a2",
   "metadata": {},
   "outputs": [],
   "source": []
  },
  {
   "cell_type": "code",
   "execution_count": null,
   "id": "cf997388-4428-4b09-9f8d-4dc4a0d8a126",
   "metadata": {},
   "outputs": [],
   "source": [
    "cmetrics.plot_gain(\n",
    "    _train_data,\n",
    "    treatment_col=col_treatment,\n",
    "    outcome_col=col_target,\n",
    ")"
   ]
  },
  {
   "cell_type": "code",
   "execution_count": null,
   "id": "bac6669f-b280-44f6-9bcd-39706c205020",
   "metadata": {},
   "outputs": [],
   "source": []
  },
  {
   "cell_type": "code",
   "execution_count": null,
   "id": "5b66ddf9-622d-46d4-ad46-1e63a2484e06",
   "metadata": {},
   "outputs": [],
   "source": []
  },
  {
   "cell_type": "code",
   "execution_count": null,
   "id": "85608605-074f-4a3f-9114-dcb8efaaabb2",
   "metadata": {},
   "outputs": [],
   "source": [
    "cmetrics.plot_gain(\n",
    "    _train_data,\n",
    "    treatment_col=col_treatment,\n",
    "    outcome_col=col_target,\n",
    ")"
   ]
  },
  {
   "cell_type": "code",
   "execution_count": null,
   "id": "b344d5a8-9fb6-4945-a916-149d4bd95f2d",
   "metadata": {},
   "outputs": [],
   "source": [
    "_train_data = data.loc[:, cols_features + [col_treatment, col_target]]\n",
    "_train_data['score'] = model_n3.model.predict(_train_data[cols_features])\n",
    "_train_data = _train_data[['score', col_treatment, col_target]]"
   ]
  },
  {
   "cell_type": "code",
   "execution_count": null,
   "id": "94be575c-e1ea-4d99-962e-9bb2015a0373",
   "metadata": {},
   "outputs": [],
   "source": [
    "s = _train_data.sort_values(by = ['score'], ascending=False).reset_index().rename(columns={'index': 'customer_id'}).iloc[:580000]\n",
    "s['customer_id'].to_csv('data_3.csv', index=False)"
   ]
  },
  {
   "cell_type": "code",
   "execution_count": null,
   "id": "2e135330-dd72-4d84-9bf7-e933e93989df",
   "metadata": {},
   "outputs": [],
   "source": [
    "s"
   ]
  },
  {
   "cell_type": "code",
   "execution_count": null,
   "id": "0b922780-5c8f-4d1f-8898-bcc100a3020e",
   "metadata": {},
   "outputs": [],
   "source": [
    "_train_data[_train_data.score>0].reset_index().rename(columns={'index': 'customer_id'})#['customer_id'].to_csv('data_3.csv', index=False)"
   ]
  },
  {
   "cell_type": "code",
   "execution_count": null,
   "id": "2ff97c34-4d59-4309-a5ac-743d071a423d",
   "metadata": {},
   "outputs": [],
   "source": [
    "_train_data[_train_data.score>0].target_profit.hist(bins=30)"
   ]
  },
  {
   "cell_type": "code",
   "execution_count": null,
   "id": "724c7776-ac74-4a51-865b-6f207918ff21",
   "metadata": {},
   "outputs": [],
   "source": [
    "_train_data[_train_data.score<=0].target_profit.hist(bins=30)"
   ]
  },
  {
   "cell_type": "code",
   "execution_count": null,
   "id": "00e0f001-1362-46ed-b0e4-4d016c4d5408",
   "metadata": {},
   "outputs": [],
   "source": []
  },
  {
   "cell_type": "code",
   "execution_count": null,
   "id": "9dfb02e0-0134-405b-b94a-6d35d6ca38c1",
   "metadata": {},
   "outputs": [],
   "source": []
  },
  {
   "cell_type": "code",
   "execution_count": null,
   "id": "12512085-50d3-4334-9c63-307aa4a1e0a1",
   "metadata": {},
   "outputs": [],
   "source": []
  },
  {
   "cell_type": "code",
   "execution_count": null,
   "id": "7b3d5e52-01a2-4bf5-93a9-018320cd0f77",
   "metadata": {},
   "outputs": [],
   "source": []
  },
  {
   "cell_type": "code",
   "execution_count": null,
   "id": "44747994-b7a1-4abf-88ae-20ae05da9dc0",
   "metadata": {},
   "outputs": [],
   "source": []
  },
  {
   "cell_type": "code",
   "execution_count": null,
   "id": "e7960e28-1868-4c78-a7ca-bede4c855216",
   "metadata": {},
   "outputs": [],
   "source": []
  },
  {
   "cell_type": "code",
   "execution_count": null,
   "id": "7b472646-0ba8-47d1-97ce-b3e70be04898",
   "metadata": {},
   "outputs": [],
   "source": [
    "_train_data.score.hist(bins=50)"
   ]
  },
  {
   "cell_type": "code",
   "execution_count": null,
   "id": "04776889-b761-4413-b668-eeb1b66125f6",
   "metadata": {},
   "outputs": [],
   "source": [
    "_train_data"
   ]
  },
  {
   "cell_type": "code",
   "execution_count": null,
   "id": "c2225157-53bb-446c-8693-44da527a299c",
   "metadata": {},
   "outputs": [],
   "source": [
    "cmetrics.auuc_score(\n",
    "    _train_data,\n",
    "    treatment_col=col_treatment,\n",
    "    outcome_col=col_target,\n",
    ")"
   ]
  },
  {
   "cell_type": "code",
   "execution_count": null,
   "id": "51bc086f-17b6-4359-98cd-d33c9e5c9ccc",
   "metadata": {},
   "outputs": [],
   "source": [
    "cmetrics.qini_score(\n",
    "    _train_data,\n",
    "    treatment_col=col_treatment,\n",
    "    outcome_col=col_target,\n",
    ")"
   ]
  },
  {
   "cell_type": "code",
   "execution_count": null,
   "id": "a78902a8-9593-4bcf-8247-3ab20e0d65a6",
   "metadata": {},
   "outputs": [],
   "source": []
  },
  {
   "cell_type": "code",
   "execution_count": null,
   "id": "912f4c85-d64d-47ec-8400-47a531611634",
   "metadata": {},
   "outputs": [],
   "source": []
  },
  {
   "cell_type": "code",
   "execution_count": null,
   "id": "77fa4cab-4fca-4d74-9a38-1757a0d5d236",
   "metadata": {},
   "outputs": [],
   "source": []
  },
  {
   "cell_type": "code",
   "execution_count": null,
   "id": "139daf48-b9e8-49c3-bd23-d0e548365b03",
   "metadata": {},
   "outputs": [],
   "source": []
  },
  {
   "cell_type": "code",
   "execution_count": null,
   "id": "ded602d4-3ab4-4d1a-ad53-019a14501889",
   "metadata": {},
   "outputs": [],
   "source": []
  },
  {
   "cell_type": "code",
   "execution_count": null,
   "id": "64f9720a-3f43-4d0b-a155-2ba00bb21c5b",
   "metadata": {},
   "outputs": [],
   "source": [
    "cmetrics.plot_gain(\n",
    "    _train_data,\n",
    "    treatment_col=col_treatment,\n",
    "    outcome_col=col_target,\n",
    ")"
   ]
  },
  {
   "cell_type": "code",
   "execution_count": null,
   "id": "6a75fdab-02d8-42cf-baed-b1be25ce5642",
   "metadata": {},
   "outputs": [],
   "source": [
    "0.8*1000000"
   ]
  },
  {
   "cell_type": "code",
   "execution_count": null,
   "id": "7fc33388-73f4-4641-b3e5-edbefd95390b",
   "metadata": {},
   "outputs": [],
   "source": []
  },
  {
   "cell_type": "code",
   "execution_count": null,
   "id": "28a7716d-32bb-4085-bce8-7727ce8158f8",
   "metadata": {},
   "outputs": [],
   "source": []
  },
  {
   "cell_type": "code",
   "execution_count": null,
   "id": "70176f82-5979-4eb4-8568-4556281421d4",
   "metadata": {},
   "outputs": [],
   "source": []
  },
  {
   "cell_type": "code",
   "execution_count": null,
   "id": "98b48721-dbc9-413d-ac92-6a9c13b93340",
   "metadata": {},
   "outputs": [],
   "source": []
  },
  {
   "cell_type": "code",
   "execution_count": null,
   "id": "e181ea58-6154-4915-bd64-d9664a4bc1fa",
   "metadata": {},
   "outputs": [],
   "source": [
    "cmetrics.auuc_score(\n",
    "    _eval_data,\n",
    "    treatment_col=col_treatment,\n",
    "    outcome_col=col_target,\n",
    ")"
   ]
  },
  {
   "cell_type": "code",
   "execution_count": null,
   "id": "b11bbec6-8050-4b14-a2dc-12f373a7171f",
   "metadata": {},
   "outputs": [],
   "source": [
    "cmetrics.auuc_score(\n",
    "    _train_data,\n",
    "    treatment_col=col_treatment,\n",
    "    outcome_col=col_target,\n",
    ")"
   ]
  },
  {
   "cell_type": "code",
   "execution_count": null,
   "id": "f66a1c78-4411-4dd5-9e72-baa4029cf76a",
   "metadata": {},
   "outputs": [],
   "source": [
    "_eval_data[_eval_data.score >= 0].target_profit.hist(bins = 30)"
   ]
  },
  {
   "cell_type": "code",
   "execution_count": null,
   "id": "50d1b4e0-928d-41f8-af52-0bd387bea178",
   "metadata": {},
   "outputs": [],
   "source": [
    "_eval_data[_eval_data.score < 0].target_profit.hist(bins = 30)"
   ]
  },
  {
   "cell_type": "code",
   "execution_count": null,
   "id": "a35539e2-f3ab-4fb5-a248-5b6ef4565691",
   "metadata": {},
   "outputs": [],
   "source": [
    "df = _eval_data[_eval_data.score >= 0].reset_index()\n",
    "df['customer_id'] = df['index']\n",
    "df['customer_id']"
   ]
  },
  {
   "cell_type": "code",
   "execution_count": null,
   "id": "e9eb1ffe-0222-4392-b2b4-a48c48a520c9",
   "metadata": {},
   "outputs": [],
   "source": []
  },
  {
   "cell_type": "code",
   "execution_count": null,
   "id": "4619878e-7bd1-4d5b-86c6-e8669bcaa024",
   "metadata": {},
   "outputs": [],
   "source": [
    "_train_data.sort_values(by = ['score'], ascending = False)"
   ]
  },
  {
   "cell_type": "code",
   "execution_count": null,
   "id": "8d568764-a3ad-4f6f-8c2e-f053b3319814",
   "metadata": {},
   "outputs": [],
   "source": [
    "df = _train_data.sort_values(by = ['score'], ascending = False).reset_index()\n",
    "df['customer_id'] = df['index']\n",
    "df['customer_id'].iloc[:800000]"
   ]
  },
  {
   "cell_type": "code",
   "execution_count": null,
   "id": "e800f716-05e1-4dea-8283-5aea8b36c2d1",
   "metadata": {},
   "outputs": [],
   "source": [
    "df['customer_id'].iloc[:800000].to_csv('project_3.csv', index = False)"
   ]
  },
  {
   "cell_type": "code",
   "execution_count": null,
   "id": "556c849b-cc22-4ceb-995a-faafbf5991f0",
   "metadata": {},
   "outputs": [],
   "source": [
    "84 * 0.7"
   ]
  },
  {
   "cell_type": "code",
   "execution_count": null,
   "id": "2be66bb4-1805-434f-9bf8-9f645c6a4961",
   "metadata": {},
   "outputs": [],
   "source": []
  },
  {
   "cell_type": "code",
   "execution_count": null,
   "id": "66bae421-bc08-4d1c-a706-541ca9e26b2a",
   "metadata": {},
   "outputs": [],
   "source": []
  },
  {
   "cell_type": "code",
   "execution_count": null,
   "id": "5b739fc2-e611-47ba-a199-a0507cd2930b",
   "metadata": {},
   "outputs": [],
   "source": []
  },
  {
   "cell_type": "code",
   "execution_count": null,
   "id": "6a773f1e-c88f-4cdb-ad29-c23eeacbbba1",
   "metadata": {},
   "outputs": [],
   "source": [
    "df = _train_data[_train_data.score >= 0].reset_index()\n",
    "df['customer_id'] = df['index']\n",
    "df['customer_id']"
   ]
  },
  {
   "cell_type": "code",
   "execution_count": null,
   "id": "43d57a5d-2a3a-4cf8-b93a-9f99785111e4",
   "metadata": {},
   "outputs": [],
   "source": [
    "df['customer_id'].to_csv('project_3.csv', index = False)"
   ]
  },
  {
   "cell_type": "code",
   "execution_count": null,
   "id": "009c5b3d-a333-445b-9717-4d8560d4e18c",
   "metadata": {},
   "outputs": [],
   "source": []
  },
  {
   "cell_type": "code",
   "execution_count": null,
   "id": "15f902dc-f2fa-4140-81ad-14ecc2b17766",
   "metadata": {},
   "outputs": [],
   "source": [
    "data"
   ]
  },
  {
   "cell_type": "code",
   "execution_count": null,
   "id": "c818e96b-008f-432a-9080-d7126ab380b3",
   "metadata": {},
   "outputs": [],
   "source": []
  },
  {
   "cell_type": "code",
   "execution_count": null,
   "id": "52b871cc-762f-4068-9793-93a7db2d8188",
   "metadata": {},
   "outputs": [],
   "source": []
  },
  {
   "cell_type": "code",
   "execution_count": null,
   "id": "326dc081-6a96-42a7-a09d-6c296bb68354",
   "metadata": {},
   "outputs": [],
   "source": []
  },
  {
   "cell_type": "code",
   "execution_count": null,
   "id": "0c40ade3-c3ed-4fab-956c-3a0226820557",
   "metadata": {},
   "outputs": [],
   "source": []
  },
  {
   "cell_type": "code",
   "execution_count": null,
   "id": "0ab5863a-1cab-4bfb-bbb3-c776827b123a",
   "metadata": {},
   "outputs": [],
   "source": []
  },
  {
   "cell_type": "markdown",
   "id": "425ce57f-1900-4bbd-9852-1ffa738025ec",
   "metadata": {},
   "source": [
    "## Tree KL"
   ]
  },
  {
   "cell_type": "code",
   "execution_count": null,
   "id": "e0f5a46c-1b13-4c84-b134-cc9a72241c7c",
   "metadata": {},
   "outputs": [],
   "source": [
    "_sample_treated_size = 100_000\n",
    "_sample_control_size = 100_000\n",
    "fit_sample_index = data.loc[fit_index, [col_treatment]].query(f'{col_treatment} == 1').sample(_sample_treated_size).index\n",
    "fit_sample_index = fit_sample_index.union(\n",
    "    data.loc[fit_index, [col_treatment]].query(f'{col_treatment} == 0').sample(_sample_control_size).index\n",
    ")"
   ]
  },
  {
   "cell_type": "code",
   "execution_count": null,
   "id": "a99701dc-e315-4cb9-a123-2f7491d1f728",
   "metadata": {},
   "outputs": [],
   "source": [
    "_sample_treated_size = 100_00\n",
    "_sample_control_size = 100_00\n",
    "val_sample_index = data.loc[val_index, [col_treatment]].query(f'{col_treatment} == 1').sample(_sample_treated_size).index\n",
    "val_sample_index = val_sample_index.union(\n",
    "    data.loc[val_index, [col_treatment]].query(f'{col_treatment} == 0').sample(_sample_control_size).index\n",
    ")"
   ]
  },
  {
   "cell_type": "code",
   "execution_count": null,
   "id": "9a5d2742-e159-4665-9a77-417089ba1c02",
   "metadata": {},
   "outputs": [],
   "source": [
    "val_index"
   ]
  },
  {
   "cell_type": "code",
   "execution_count": null,
   "id": "9be94f91-bf87-4779-85bc-a84e786f1eec",
   "metadata": {},
   "outputs": [],
   "source": []
  },
  {
   "cell_type": "code",
   "execution_count": null,
   "id": "e493b735-8d77-484e-9345-9494f484cc86",
   "metadata": {},
   "outputs": [],
   "source": [
    "import causalml.inference.tree as ctree"
   ]
  },
  {
   "cell_type": "code",
   "execution_count": null,
   "id": "d8fed609-1fa5-4c1a-842e-6036302ef491",
   "metadata": {},
   "outputs": [],
   "source": [
    "model_n9 = ctree.UpliftRandomForestClassifier(\n",
    "    control_name='control',\n",
    "    evaluationFunction='KL',\n",
    "    n_estimators=20,\n",
    "    max_depth=3,\n",
    "    min_samples_leaf=500\n",
    ")"
   ]
  },
  {
   "cell_type": "code",
   "execution_count": null,
   "id": "bd279907-04c5-49b2-9f55-8af8f219d9fb",
   "metadata": {},
   "outputs": [],
   "source": [
    "model_n9.fit(\n",
    "    X=data.loc[fit_sample_index, cols_features].values,\n",
    "    treatment=data.loc[fit_sample_index, col_treatment].apply(lambda t: 'treatment' if t == 1 else 'control').values,\n",
    "    y=data.loc[fit_sample_index, col_target].values\n",
    ")"
   ]
  },
  {
   "cell_type": "code",
   "execution_count": null,
   "id": "ecb4f49d-1f0b-4ad2-aca8-4ea59932b5e0",
   "metadata": {},
   "outputs": [],
   "source": [
    "_eval_data = data.loc[val_index, cols_features + [col_treatment, col_target]]\n",
    "_eval_data['score'] = model_n9.predict(_eval_data[cols_features].values)\n",
    "_eval_data = _eval_data[['score', col_treatment, col_target]]"
   ]
  },
  {
   "cell_type": "code",
   "execution_count": null,
   "id": "e012e954-cca8-4133-90ca-0d35be54c08d",
   "metadata": {},
   "outputs": [],
   "source": [
    "plt.figure(figsize=(10, 6))\n",
    "plt.hist(_eval_data['score'], bins=100)\n",
    "plt.show()"
   ]
  },
  {
   "cell_type": "code",
   "execution_count": null,
   "id": "9a18bae7-1530-4651-844b-859714e6230a",
   "metadata": {},
   "outputs": [],
   "source": [
    "# Это если таргет 30 дней \n",
    "\n",
    "cmetrics.plot_gain(\n",
    "    _eval_data,\n",
    "    treatment_col=col_treatment,\n",
    "    outcome_col=col_target,\n",
    ")"
   ]
  },
  {
   "cell_type": "code",
   "execution_count": null,
   "id": "50e451c8-d1fd-4312-9713-3ace9b9bd41d",
   "metadata": {},
   "outputs": [],
   "source": [
    "# это уже с таргетом за 7 дней\n",
    "\n",
    "cmetrics.plot_gain(\n",
    "    _eval_data,\n",
    "    treatment_col=col_treatment,\n",
    "    outcome_col=col_target,\n",
    ")"
   ]
  },
  {
   "cell_type": "code",
   "execution_count": null,
   "id": "736f872c-ce92-42af-97c2-552f787a747b",
   "metadata": {},
   "outputs": [],
   "source": [
    "cmetrics.auuc_score(\n",
    "    _eval_data,\n",
    "    treatment_col=col_treatment,\n",
    "    outcome_col=col_target,\n",
    ")"
   ]
  },
  {
   "cell_type": "code",
   "execution_count": null,
   "id": "5fc81857-a691-4352-a6d2-5e0e9869e22c",
   "metadata": {},
   "outputs": [],
   "source": [
    "cmetrics.qini_score(\n",
    "    _eval_data,\n",
    "    treatment_col=col_treatment,\n",
    "    outcome_col=col_target,\n",
    ")"
   ]
  },
  {
   "cell_type": "code",
   "execution_count": null,
   "id": "c486f0f5-ec6a-4131-b735-2e8e254636f1",
   "metadata": {},
   "outputs": [],
   "source": []
  },
  {
   "cell_type": "code",
   "execution_count": null,
   "id": "8544c41a-a631-4a10-810f-90546f726ac3",
   "metadata": {},
   "outputs": [],
   "source": []
  },
  {
   "cell_type": "code",
   "execution_count": null,
   "id": "d3aa2136-71a0-4f09-9c4c-6281e881c982",
   "metadata": {},
   "outputs": [],
   "source": [
    "model_n10 = ctree.UpliftRandomForestClassifier(\n",
    "    control_name='control',\n",
    "    evaluationFunction='KL',\n",
    "    n_estimators=30,\n",
    "    max_depth=6,\n",
    "    min_samples_leaf=500\n",
    ")"
   ]
  },
  {
   "cell_type": "code",
   "execution_count": null,
   "id": "3f0b6223-6b43-40cb-bc07-e4ff4bf306b0",
   "metadata": {},
   "outputs": [],
   "source": [
    "model_n10.fit(\n",
    "    X=data.loc[fit_sample_index, cols_features].values,\n",
    "    treatment=data.loc[fit_sample_index, col_treatment].apply(lambda t: 'treatment' if t == 1 else 'control').values,\n",
    "    y=data.loc[fit_sample_index, col_target].values\n",
    ")"
   ]
  },
  {
   "cell_type": "code",
   "execution_count": null,
   "id": "1655f9a0-8aa8-46a1-bf84-a7429c8bcd62",
   "metadata": {},
   "outputs": [],
   "source": [
    "_eval_data = data.loc[val_index, cols_features + [col_treatment, col_target]]\n",
    "_eval_data['score'] = model_n10.predict(_eval_data[cols_features].values)\n",
    "_eval_data = _eval_data[['score', col_treatment, col_target]]"
   ]
  },
  {
   "cell_type": "code",
   "execution_count": null,
   "id": "98f41d2c-bf59-4cd9-91f5-82b6e4db81b9",
   "metadata": {},
   "outputs": [],
   "source": [
    "cmetrics.plot_gain(\n",
    "    _eval_data,\n",
    "    treatment_col=col_treatment,\n",
    "    outcome_col=col_target,\n",
    ")"
   ]
  },
  {
   "cell_type": "code",
   "execution_count": null,
   "id": "98876b12-b9f3-4fef-9adb-fd5fc4b10230",
   "metadata": {},
   "outputs": [],
   "source": [
    "cmetrics.qini_score(\n",
    "    _eval_data,\n",
    "    treatment_col=col_treatment,\n",
    "    outcome_col=col_target,\n",
    ")"
   ]
  },
  {
   "cell_type": "code",
   "execution_count": null,
   "id": "f08a40b5-9317-48d3-8a52-ffea1cf640b6",
   "metadata": {},
   "outputs": [],
   "source": []
  },
  {
   "cell_type": "code",
   "execution_count": null,
   "id": "dc119c6c-df99-456a-8638-b6a3121bf6af",
   "metadata": {},
   "outputs": [],
   "source": []
  },
  {
   "cell_type": "code",
   "execution_count": null,
   "id": "08ac5b35-6c48-442f-bca0-b0a4591dd432",
   "metadata": {},
   "outputs": [],
   "source": []
  },
  {
   "cell_type": "code",
   "execution_count": null,
   "id": "2a031fba-ac5f-48ee-8080-8ec1ad3925d5",
   "metadata": {},
   "outputs": [],
   "source": [
    "model_n10 = ctree.UpliftRandomForestClassifier(\n",
    "    control_name='control',\n",
    "    evaluationFunction='DeltaDeltaP',\n",
    "    n_estimators=20,\n",
    "    max_depth=3,\n",
    "    min_samples_leaf=500\n",
    ")"
   ]
  },
  {
   "cell_type": "code",
   "execution_count": null,
   "id": "f5a95c73-7299-4143-86d3-e69467bb6ee3",
   "metadata": {},
   "outputs": [],
   "source": [
    "model_n10.fit(\n",
    "    X=data.loc[fit_sample_index, cols_features].values,\n",
    "    treatment=data.loc[fit_sample_index, col_treatment].apply(lambda t: 'treatment' if t == 1 else 'control').values,\n",
    "    y=data.loc[fit_sample_index, col_target].values\n",
    ")"
   ]
  },
  {
   "cell_type": "code",
   "execution_count": null,
   "id": "5c7183b0-b837-4ca6-925a-d7cfe810ca3d",
   "metadata": {},
   "outputs": [],
   "source": [
    "_eval_data = data.loc[val_index, cols_features + [col_treatment, col_target]]\n",
    "_eval_data['score'] = model_n10.predict(_eval_data[cols_features].values)\n",
    "_eval_data = _eval_data[['score', col_treatment, col_target]]"
   ]
  },
  {
   "cell_type": "code",
   "execution_count": null,
   "id": "96ad74d8-c063-4203-8d15-f2cacc5cef2e",
   "metadata": {},
   "outputs": [],
   "source": [
    "# Это если таргет 30 дней \n",
    "\n",
    "\n",
    "cmetrics.plot_gain(\n",
    "    _eval_data,\n",
    "    treatment_col=col_treatment,\n",
    "    outcome_col=col_target,\n",
    ")"
   ]
  },
  {
   "cell_type": "code",
   "execution_count": null,
   "id": "53f9605a-a803-43d3-99c6-511fb2611732",
   "metadata": {},
   "outputs": [],
   "source": [
    "_all_data = data.loc[:, cols_features + [col_treatment, col_target]]\n",
    "_all_data['score'] = model_n10.predict(_all_data[cols_features].values)\n",
    "_all_data = _all_data[['score', col_treatment, col_target]]"
   ]
  },
  {
   "cell_type": "code",
   "execution_count": null,
   "id": "4d2d09ec-ec48-4a6a-94fd-4ab25da9ee41",
   "metadata": {},
   "outputs": [],
   "source": [
    "cmetrics.plot_gain(\n",
    "    _all_data,\n",
    "    treatment_col=col_treatment,\n",
    "    outcome_col=col_target,\n",
    ")"
   ]
  },
  {
   "cell_type": "code",
   "execution_count": null,
   "id": "231ee728-272a-4cc6-b963-66c22e6098af",
   "metadata": {},
   "outputs": [],
   "source": [
    "cmetrics.qini_score(\n",
    "    _eval_data,\n",
    "    treatment_col=col_treatment,\n",
    "    outcome_col=col_target,\n",
    ")"
   ]
  },
  {
   "cell_type": "code",
   "execution_count": null,
   "id": "91bb8ed0-4698-4e3b-a6d8-36eb40d97b43",
   "metadata": {},
   "outputs": [],
   "source": [
    "s = _all_data.sort_values(by = ['score'], ascending=False).reset_index().rename(columns={'index': 'customer_id'}).iloc[:400000]\n",
    "s['customer_id'].to_csv('data.csv', index=False)"
   ]
  },
  {
   "cell_type": "code",
   "execution_count": null,
   "id": "c93e4dfb-e1fd-4017-9398-e0962dcc897f",
   "metadata": {},
   "outputs": [],
   "source": []
  },
  {
   "cell_type": "code",
   "execution_count": null,
   "id": "8e59dec9-ef44-4fff-8a3a-7576e45b24a1",
   "metadata": {},
   "outputs": [],
   "source": []
  },
  {
   "cell_type": "code",
   "execution_count": null,
   "id": "7d704f0e-6916-4a7f-a5ea-05fee0ed3e6c",
   "metadata": {},
   "outputs": [],
   "source": []
  },
  {
   "cell_type": "code",
   "execution_count": null,
   "id": "889b259a-aa0d-439a-a88f-09f75cd102f2",
   "metadata": {},
   "outputs": [],
   "source": []
  },
  {
   "cell_type": "code",
   "execution_count": null,
   "id": "65e7cdb9-fa42-4972-bb6e-a8d63420261d",
   "metadata": {},
   "outputs": [],
   "source": []
  },
  {
   "cell_type": "code",
   "execution_count": null,
   "id": "1eabdece-eab7-460b-a331-def4a5fae4cc",
   "metadata": {},
   "outputs": [],
   "source": []
  },
  {
   "cell_type": "code",
   "execution_count": null,
   "id": "0c1e253f-fc1a-43f3-a82e-247ecd5da059",
   "metadata": {},
   "outputs": [],
   "source": [
    "# таргет за 7 дней\n",
    "\n",
    "cmetrics.plot_gain(\n",
    "    _eval_data,\n",
    "    treatment_col=col_treatment,\n",
    "    outcome_col=col_target,\n",
    ")"
   ]
  },
  {
   "cell_type": "code",
   "execution_count": null,
   "id": "b4b7f0c7-2ae5-436b-82b1-48806840562c",
   "metadata": {},
   "outputs": [],
   "source": [
    "cmetrics.qini_score(\n",
    "    _eval_data,\n",
    "    treatment_col=col_treatment,\n",
    "    outcome_col=col_target,\n",
    ")"
   ]
  },
  {
   "cell_type": "code",
   "execution_count": null,
   "id": "6f55c4c4-03d0-4124-8954-953176fe16f0",
   "metadata": {},
   "outputs": [],
   "source": []
  },
  {
   "cell_type": "code",
   "execution_count": null,
   "id": "a88ae203-fa73-4cf7-abcd-4b87ac16f858",
   "metadata": {},
   "outputs": [],
   "source": []
  },
  {
   "cell_type": "markdown",
   "id": "e4f74b83-30c1-49fd-aa44-64ac80725ed5",
   "metadata": {},
   "source": [
    "# LESSON 3 - НЕ модельные подходы, но кураторы сказали, что должна быть именно модель (нехитрая)"
   ]
  },
  {
   "cell_type": "code",
   "execution_count": null,
   "id": "32bf9bdb-867c-489f-8bff-d0a313e67bb1",
   "metadata": {},
   "outputs": [],
   "source": [
    "model_n1 = rlearner.BaseRRegressor(\n",
    "    learner=lgb.LGBMRegressor(),\n",
    "    control_name=0,\n",
    "    n_fold=4,\n",
    "    random_state=165\n",
    ")"
   ]
  },
  {
   "cell_type": "code",
   "execution_count": null,
   "id": "32df9e5d-fb02-4b16-9699-fb81c6826261",
   "metadata": {},
   "outputs": [],
   "source": [
    "data.loc[fit_index, col_treatment].value_counts(normalize=True)#.loc[1]"
   ]
  },
  {
   "cell_type": "code",
   "execution_count": null,
   "id": "15ec8b34-68ed-4ce3-9059-cc774a3825f9",
   "metadata": {},
   "outputs": [],
   "source": [
    "# _p_score_const = data.loc[:, col_treatment].value_counts(normalize=True).loc[1]\n",
    "# _p_scores = pd.Series(data=_p_score_const, index=fit_index)\n",
    "# model_n1.fit(\n",
    "#     X=data.loc[fit_index, cols_features].values,\n",
    "#     treatment=data.loc[fit_index, col_treatment].values,\n",
    "#     y=data.loc[fit_index, col_target].values,\n",
    "#     p=_p_scores\n",
    "# )"
   ]
  },
  {
   "cell_type": "code",
   "execution_count": null,
   "id": "c48b3b3f-4e18-4e61-85b9-0998f775f6b0",
   "metadata": {},
   "outputs": [],
   "source": [
    "_eval_data = data.loc[:, cols_features + [col_treatment, col_target]]\n",
    "_eval_data['score'] = model_n1.predict(_eval_data[cols_features])\n",
    "_eval_data = _eval_data[['score', col_treatment, col_target]]\n",
    "_eval_data"
   ]
  },
  {
   "cell_type": "code",
   "execution_count": null,
   "id": "a2e642c2-f7e8-4762-bf13-81f34c8e8674",
   "metadata": {},
   "outputs": [],
   "source": [
    "_eval_data.score.value_counts()"
   ]
  },
  {
   "cell_type": "code",
   "execution_count": null,
   "id": "38431322-87b0-4cc0-acdf-fee35ffd8566",
   "metadata": {},
   "outputs": [],
   "source": [
    "_eval_data['customer_id'] = data['customer_id']"
   ]
  },
  {
   "cell_type": "code",
   "execution_count": null,
   "id": "8e7e9a9c-d400-49e7-8bd0-2d6529546468",
   "metadata": {},
   "outputs": [],
   "source": [
    "ev_sort = _eval_data.sort_values(by=['score'], ascending = False)\n",
    "ev_sort"
   ]
  },
  {
   "cell_type": "code",
   "execution_count": null,
   "id": "4543d990-a26b-4d83-8bad-95b227493c2b",
   "metadata": {},
   "outputs": [],
   "source": [
    "ev_sort[ev_sort.score > 0].customer_id.to_csv('project.csv', index = False)"
   ]
  },
  {
   "cell_type": "code",
   "execution_count": null,
   "id": "5c57cded-6690-4f17-8dd3-eca2fb33bd6c",
   "metadata": {},
   "outputs": [],
   "source": [
    "ev_sort[ev_sort.score > 0].score.sum()"
   ]
  },
  {
   "cell_type": "code",
   "execution_count": null,
   "id": "7ab89ad8-e3b1-4586-b5dd-36559776ea71",
   "metadata": {},
   "outputs": [],
   "source": []
  },
  {
   "cell_type": "code",
   "execution_count": null,
   "id": "47979898-1d06-40c0-bd8f-17a4c7b53eef",
   "metadata": {},
   "outputs": [],
   "source": []
  },
  {
   "cell_type": "code",
   "execution_count": null,
   "id": "ece11df0-08ab-4f6d-9ea8-137054a89257",
   "metadata": {},
   "outputs": [],
   "source": []
  },
  {
   "cell_type": "code",
   "execution_count": null,
   "id": "a89f88a6-0af9-4741-b806-2c5a5fb35183",
   "metadata": {},
   "outputs": [],
   "source": []
  },
  {
   "cell_type": "code",
   "execution_count": null,
   "id": "1233fcea-cdcc-4e35-a52b-ce322f574afd",
   "metadata": {},
   "outputs": [],
   "source": []
  },
  {
   "cell_type": "code",
   "execution_count": null,
   "id": "498d8a17-8de4-455f-816d-48acf6238450",
   "metadata": {},
   "outputs": [],
   "source": []
  },
  {
   "cell_type": "code",
   "execution_count": null,
   "id": "bcfa8ab2-80b5-4b59-ac88-419162cf334f",
   "metadata": {},
   "outputs": [],
   "source": []
  },
  {
   "cell_type": "code",
   "execution_count": null,
   "id": "c8becb2e-d900-4512-9050-33bbf6341b51",
   "metadata": {},
   "outputs": [],
   "source": [
    "_p_score_const = data.loc[fit_index, col_treatment].value_counts(normalize=True).loc[1]\n",
    "_p_scores = pd.Series(data=_p_score_const, index=fit_index)\n",
    "model_n1.fit(\n",
    "    X=data.loc[fit_index, cols_features].values,\n",
    "    treatment=data.loc[fit_index, col_treatment].values,\n",
    "    y=data.loc[fit_index, col_target].values,\n",
    "    p=_p_scores\n",
    ")"
   ]
  },
  {
   "cell_type": "code",
   "execution_count": null,
   "id": "0d27eb2d-602a-4e47-a05d-d06477cf1047",
   "metadata": {},
   "outputs": [],
   "source": []
  },
  {
   "cell_type": "code",
   "execution_count": null,
   "id": "beb64a9e-05c7-49d0-83fd-6c57edef9ba2",
   "metadata": {},
   "outputs": [],
   "source": []
  },
  {
   "cell_type": "code",
   "execution_count": null,
   "id": "055a0d22-070f-4e1a-aa5c-20893caa03cc",
   "metadata": {},
   "outputs": [],
   "source": [
    "_eval_data = data.loc[val_index, cols_features + [col_treatment, col_target]]\n",
    "_eval_data['score'] = model_n1.predict(_eval_data[cols_features])\n",
    "_eval_data = _eval_data[['score', col_treatment, col_target]]\n",
    "_eval_data"
   ]
  },
  {
   "cell_type": "code",
   "execution_count": null,
   "id": "4c3f8ab1-527b-4984-9281-894b64fd7390",
   "metadata": {},
   "outputs": [],
   "source": [
    "plt.figure(figsize=(10, 6))\n",
    "plt.hist(_eval_data['score'], bins=20)\n",
    "plt.show()"
   ]
  },
  {
   "cell_type": "code",
   "execution_count": null,
   "id": "26332657-7abe-4bcf-b62d-87be92afc170",
   "metadata": {},
   "outputs": [],
   "source": [
    "print(np.percentile(_eval_data['score'], 5), np.percentile(_eval_data['score'], 95))"
   ]
  },
  {
   "cell_type": "code",
   "execution_count": null,
   "id": "ce080481-428e-480b-8c61-bf3823bf8dad",
   "metadata": {},
   "outputs": [],
   "source": [
    "plt.figure(figsize=(10, 6))\n",
    "plt.hist(_eval_data['score'], range=(-2.0, 0.4), bins=16)\n",
    "plt.show()"
   ]
  },
  {
   "cell_type": "code",
   "execution_count": null,
   "id": "47efcb5f-f5c7-4803-a71d-03e5c3a5ba9b",
   "metadata": {},
   "outputs": [],
   "source": [
    "_eval_data['score'].describe()"
   ]
  },
  {
   "cell_type": "code",
   "execution_count": null,
   "id": "8d87250d-f75d-490b-9e25-0292c91b3f7f",
   "metadata": {},
   "outputs": [],
   "source": [
    "cmetrics.plot_gain(\n",
    "    _eval_data,\n",
    "    treatment_col=col_treatment,\n",
    "    outcome_col=col_target,\n",
    ")"
   ]
  },
  {
   "cell_type": "code",
   "execution_count": null,
   "id": "453110ba-a584-428e-b8d5-06d0a4ec7254",
   "metadata": {},
   "outputs": [],
   "source": []
  },
  {
   "cell_type": "code",
   "execution_count": null,
   "id": "a8485a78-f3e3-4553-8540-3358ad2853e6",
   "metadata": {},
   "outputs": [],
   "source": []
  },
  {
   "cell_type": "markdown",
   "id": "2ff47567-aa91-4f7f-9ff0-297dd74f24bb",
   "metadata": {},
   "source": [
    "### анализ составляющих"
   ]
  },
  {
   "cell_type": "code",
   "execution_count": null,
   "id": "216b24f1-5fa9-4301-b8d1-328f742e8fed",
   "metadata": {},
   "outputs": [],
   "source": [
    "_target_columns = [\n",
    "    'target_profit',\n",
    "    'rec__purchase_sum__sum__7d',\n",
    "    'rec__purchase_amt__sum__7d',\n",
    "    'rec__discount__sum__7d'\n",
    "]"
   ]
  },
  {
   "cell_type": "code",
   "execution_count": null,
   "id": "b51ae1f2-eaa3-464c-87dc-8fc12a8cf8cb",
   "metadata": {},
   "outputs": [],
   "source": [
    "_stats = data.loc[fit_index].groupby(by=['target_group_flag'])[_target_columns].mean()\n",
    "_stats"
   ]
  },
  {
   "cell_type": "code",
   "execution_count": null,
   "id": "0489c7f0-fda2-4f1d-bf3f-9974e2dc1de9",
   "metadata": {},
   "outputs": [],
   "source": [
    "print(\n",
    "    'Up[Y] =',\n",
    "    _stats.loc[1, 'target_profit'] - _stats.loc[0, 'target_profit']\n",
    ")"
   ]
  },
  {
   "cell_type": "code",
   "execution_count": null,
   "id": "a2fc1e57-a186-4eae-9cbc-be3137974490",
   "metadata": {},
   "outputs": [],
   "source": [
    "print(\n",
    "    'Up[Z] =',\n",
    "    MARGIN_RATE * (_stats.loc[1, 'rec__purchase_sum__sum__7d'] - _stats.loc[0, 'rec__purchase_sum__sum__7d'])\n",
    ")"
   ]
  },
  {
   "cell_type": "code",
   "execution_count": null,
   "id": "55522d76-4fa8-423a-9fd7-066eb1bf6848",
   "metadata": {},
   "outputs": [],
   "source": [
    "print(\n",
    "    'P(R = 1|T = 1)b =',\n",
    "    1  * (\n",
    "        _stats.loc[1, 'rec__discount__sum__7d'] - _stats.loc[0, 'rec__discount__sum__7d']\n",
    "    )\n",
    ")"
   ]
  },
  {
   "cell_type": "code",
   "execution_count": null,
   "id": "3ea73b5b-5a9f-433d-8018-76ab201d584c",
   "metadata": {},
   "outputs": [],
   "source": []
  },
  {
   "cell_type": "markdown",
   "id": "65d62849-34a2-430b-80c9-9a73b8ee0591",
   "metadata": {},
   "source": [
    "### build redemption probability model"
   ]
  },
  {
   "cell_type": "code",
   "execution_count": null,
   "id": "878c1bea-fa3f-419c-b3fc-745d3500d1cc",
   "metadata": {},
   "outputs": [],
   "source": [
    "treated_fit_index = data.loc[fit_index, ['target_group_flag']].query('target_group_flag == 1').index"
   ]
  },
  {
   "cell_type": "code",
   "execution_count": null,
   "id": "e217d531-7a57-41cb-a669-e9a5bc604909",
   "metadata": {},
   "outputs": [],
   "source": [
    "red_p_model = lgb.LGBMRegressor()"
   ]
  },
  {
   "cell_type": "code",
   "execution_count": null,
   "id": "ecf57d85-435e-480f-9668-d7d68bd0d346",
   "metadata": {},
   "outputs": [],
   "source": [
    "red_p_model.fit(\n",
    "    X=data.loc[treated_fit_index, cols_features],\n",
    "    y=(data.loc[treated_fit_index, 'rec__discount__sum__7d'] > 0).astype(int)\n",
    ")"
   ]
  },
  {
   "cell_type": "code",
   "execution_count": null,
   "id": "24c5df81-c2ef-43a5-b531-35872e2e940f",
   "metadata": {},
   "outputs": [],
   "source": [
    "data.loc[treated_fit_index, 'rec__discount__sum__7d'] > 0"
   ]
  },
  {
   "cell_type": "code",
   "execution_count": null,
   "id": "022a1a61-f360-44cd-91aa-527522bdecc3",
   "metadata": {},
   "outputs": [],
   "source": []
  },
  {
   "cell_type": "code",
   "execution_count": null,
   "id": "66529913-c1f3-46ae-b2f6-64aab5ad068d",
   "metadata": {},
   "outputs": [],
   "source": [
    "treated_val_index = data.loc[val_index, ['target_group_flag']].query('target_group_flag == 1').index"
   ]
  },
  {
   "cell_type": "code",
   "execution_count": null,
   "id": "0be26597-6cac-4f4d-bf81-ab17ee3c22c2",
   "metadata": {},
   "outputs": [],
   "source": [
    "red_p_predictions = red_p_model.predict(data.loc[treated_val_index, cols_features])"
   ]
  },
  {
   "cell_type": "code",
   "execution_count": null,
   "id": "901e4e01-dbc4-462a-a640-652d2a199a64",
   "metadata": {},
   "outputs": [],
   "source": [
    "pd.Series(red_p_predictions).describe()"
   ]
  },
  {
   "cell_type": "code",
   "execution_count": null,
   "id": "22926a95-6ddf-442e-adb1-56485ce734bb",
   "metadata": {},
   "outputs": [],
   "source": [
    "plt.figure(figsize=(10, 6))\n",
    "plt.hist(red_p_predictions, range=(0.0, 1.0), bins=20)\n",
    "plt.show()"
   ]
  },
  {
   "cell_type": "code",
   "execution_count": null,
   "id": "502fec30-5413-45b5-a1f6-c5f9275e2a5c",
   "metadata": {},
   "outputs": [],
   "source": [
    "roc_auc_score(\n",
    "    (data.loc[treated_val_index, 'rec__discount__sum__7d'] > 0).astype(int),\n",
    "    red_p_predictions\n",
    ")"
   ]
  },
  {
   "cell_type": "code",
   "execution_count": null,
   "id": "d25d537d-bcc1-4fe5-8f8e-905710eafc80",
   "metadata": {},
   "outputs": [],
   "source": []
  },
  {
   "cell_type": "code",
   "execution_count": null,
   "id": "1267a208-5f2f-43b1-a302-ca8abe900248",
   "metadata": {},
   "outputs": [],
   "source": []
  },
  {
   "cell_type": "markdown",
   "id": "2aff8b32-5da5-4e7c-bc24-1601202b750e",
   "metadata": {},
   "source": [
    "### redemption probabilty (scores) VS profit uplift scores"
   ]
  },
  {
   "cell_type": "code",
   "execution_count": null,
   "id": "30f207b4-663c-4320-a30f-a4075febaa98",
   "metadata": {
    "ExecuteTime": {
     "end_time": "2021-03-21T09:48:04.007761Z",
     "start_time": "2021-03-21T09:48:04.005901Z"
    }
   },
   "outputs": [],
   "source": [
    "# cols_features = cols_features_n1\n",
    "# col_target = 'target_profit'\n",
    "# col_treatment = 'treatment_flg'"
   ]
  },
  {
   "cell_type": "code",
   "execution_count": null,
   "id": "7c2ab6ea-57f1-418e-b5ed-86d64b715b77",
   "metadata": {},
   "outputs": [],
   "source": [
    "len(cols_features)"
   ]
  },
  {
   "cell_type": "code",
   "execution_count": null,
   "id": "1a469567-1c0d-4a9b-89c4-9cd29d0b94ee",
   "metadata": {
    "ExecuteTime": {
     "end_time": "2021-03-21T10:42:01.279510Z",
     "start_time": "2021-03-21T10:42:00.752742Z"
    }
   },
   "outputs": [],
   "source": [
    "_eval_data = data.loc[val_index, cols_features + [col_treatment, col_target]]                 # , 'rec__discount__sum__7d'\n",
    "_eval_data['redemption_probabilty_score'] = -red_p_model.predict(_eval_data[cols_features])\n",
    "\n",
    "_eval_data['profit_uplift_score'] = model_n1.predict(_eval_data[cols_features])\n",
    "_eval_data['rec__discount__sum__7d_flg'] = (_eval_data['rec__discount__sum__7d'] > 0).astype(int)\n",
    "_eval_data = _eval_data.drop(columns=cols_features)"
   ]
  },
  {
   "cell_type": "code",
   "execution_count": null,
   "id": "0ce65bb0-09fa-42ec-a97b-8ab53630e65c",
   "metadata": {},
   "outputs": [],
   "source": []
  },
  {
   "cell_type": "code",
   "execution_count": null,
   "id": "758ab6ca-911c-47f0-a65e-ccd2d05ba08d",
   "metadata": {},
   "outputs": [],
   "source": [
    "_eval_data = data.loc[:, cols_features + [col_treatment, col_target]]                 # , 'rec__discount__sum__7d'\n",
    "_eval_data['redemption_probabilty_score'] = -red_p_model.predict(_eval_data[cols_features])\n",
    "\n",
    "_eval_data['profit_uplift_score'] = model_n1.predict(_eval_data[cols_features])\n",
    "_eval_data['rec__discount__sum__7d_flg'] = (_eval_data['rec__discount__sum__7d'] > 0).astype(int)\n",
    "_eval_data = _eval_data.drop(columns=cols_features)"
   ]
  },
  {
   "cell_type": "code",
   "execution_count": null,
   "id": "ababbdbc-8241-4454-a479-9f414120bcf4",
   "metadata": {
    "ExecuteTime": {
     "end_time": "2021-03-21T10:51:42.503108Z",
     "start_time": "2021-03-21T10:51:42.478047Z"
    }
   },
   "outputs": [],
   "source": [
    "_eval_data['profit_uplift_score_bin'] = pd.qcut(_eval_data['profit_uplift_score'], q=8, duplicates='drop')\n",
    "_eval_data"
   ]
  },
  {
   "cell_type": "code",
   "execution_count": null,
   "id": "148277fc-0691-4267-8b96-69f966c46e35",
   "metadata": {},
   "outputs": [],
   "source": []
  },
  {
   "cell_type": "code",
   "execution_count": null,
   "id": "b89d02f1-a423-4375-b464-9259f22f2607",
   "metadata": {},
   "outputs": [],
   "source": [
    "# вероятность списать баллы в разрезе прогнозов uplift-модели для прибыли."
   ]
  },
  {
   "cell_type": "code",
   "execution_count": null,
   "id": "252de60e-d721-4735-910b-3412032c9989",
   "metadata": {},
   "outputs": [],
   "source": [
    "_pivot = _eval_data.loc[treated_val_index].groupby(by=['profit_uplift_score_bin']).agg(\n",
    "    {'rec__discount__sum__7d_flg': 'mean', 'profit_uplift_score_bin': 'count'}\n",
    ")\n",
    "_pivot"
   ]
  },
  {
   "cell_type": "code",
   "execution_count": null,
   "id": "944b2956-859d-4adb-ab1f-0b1599a0fe88",
   "metadata": {},
   "outputs": [],
   "source": [
    "# plt.plot(_pivot['rec__discount__sum__7d_flg'].reset_index())"
   ]
  },
  {
   "cell_type": "code",
   "execution_count": null,
   "id": "0531cda1-59c7-44d5-84fe-57b1353b26d6",
   "metadata": {},
   "outputs": [],
   "source": [
    "_pivot['rec__discount__sum__7d_flg']"
   ]
  },
  {
   "cell_type": "code",
   "execution_count": null,
   "id": "c37b77a3-d973-4aa3-93ca-9049139de4e7",
   "metadata": {},
   "outputs": [],
   "source": [
    "plt.figure(figsize=(10, 6))\n",
    "plt.plot(list(_pivot['rec__discount__sum__7d_flg']))\n",
    "plt.xticks(range(len(_pivot.index)), _pivot.index, rotation=20)\n",
    "plt.xlabel('profit uplift score')\n",
    "plt.ylabel('empirical P(R = 1|T = 1)')\n",
    "plt.show()"
   ]
  },
  {
   "cell_type": "code",
   "execution_count": null,
   "id": "e09038e6-3545-47dc-aefb-69f9c20918c8",
   "metadata": {},
   "outputs": [],
   "source": [
    "cmetrics.plot_gain(\n",
    "    _eval_data[[col_treatment, col_target, 'profit_uplift_score', 'redemption_probabilty_score']],\n",
    "    treatment_col=col_treatment,\n",
    "    outcome_col=col_target,\n",
    ")"
   ]
  },
  {
   "cell_type": "code",
   "execution_count": null,
   "id": "5ab09ea5-de3e-461d-be37-2ebcd5acf449",
   "metadata": {},
   "outputs": [],
   "source": [
    "0.15 * 10000000"
   ]
  },
  {
   "cell_type": "code",
   "execution_count": null,
   "id": "7a2df5c0-6d15-4d1a-97d9-f4d71ecf2928",
   "metadata": {},
   "outputs": [],
   "source": [
    "cmetrics.plot_gain(\n",
    "    _eval_data[[col_treatment, col_target, 'profit_uplift_score', 'redemption_probabilty_score']],\n",
    "    treatment_col=col_treatment,\n",
    "    outcome_col=col_target,\n",
    ")"
   ]
  },
  {
   "cell_type": "code",
   "execution_count": null,
   "id": "574daa8f-7a7e-4509-b433-540a5d78ce5c",
   "metadata": {},
   "outputs": [],
   "source": []
  },
  {
   "cell_type": "code",
   "execution_count": null,
   "id": "18ad1e14-c1f5-4d3f-b00e-e221d4c191b3",
   "metadata": {},
   "outputs": [],
   "source": [
    "_eval_data[[col_treatment, col_target, 'profit_uplift_score', 'redemption_probabilty_score']]"
   ]
  },
  {
   "cell_type": "code",
   "execution_count": null,
   "id": "dadb9d10-6521-43f6-bfd8-7350bc8d9971",
   "metadata": {},
   "outputs": [],
   "source": [
    "_eval_data['redemption_probabilty_score']"
   ]
  },
  {
   "cell_type": "code",
   "execution_count": null,
   "id": "c39aa45e-1b7f-42b5-8f09-4849e11f5c83",
   "metadata": {},
   "outputs": [],
   "source": [
    "_eval_data['redemption_probabilty_score_2'] = -1 * _eval_data['redemption_probabilty_score']"
   ]
  },
  {
   "cell_type": "code",
   "execution_count": null,
   "id": "256f954c-2c9d-41b5-93a0-b9d915bbbca0",
   "metadata": {},
   "outputs": [],
   "source": [
    "_eval_data['redemption_probabilty_score_2'].sort_values(ascending = False)"
   ]
  },
  {
   "cell_type": "code",
   "execution_count": null,
   "id": "7a676bd7-598b-47f2-a428-77a3d6ad8224",
   "metadata": {},
   "outputs": [],
   "source": [
    "_eval_data['customer_id'] = _eval_data.index\n",
    "_eval_data"
   ]
  },
  {
   "cell_type": "code",
   "execution_count": null,
   "id": "0dbb9b21-83cd-430a-9803-f619bb94e800",
   "metadata": {},
   "outputs": [],
   "source": [
    "_eval_data.sort_values(by=['redemption_probabilty_score_2'], ascending = False).customer_id.to_csv('project_2.csv', index=False)"
   ]
  },
  {
   "cell_type": "code",
   "execution_count": null,
   "id": "1f51cf54-4788-4629-91de-8d646d8a5c1f",
   "metadata": {},
   "outputs": [],
   "source": [
    "sss = _eval_data.sort_values(by=['redemption_probabilty_score_2'], ascending = False)\n",
    "sss[sss.redemption_probabilty_score_2>=0.95] #.target_profit.sum() "
   ]
  },
  {
   "cell_type": "code",
   "execution_count": null,
   "id": "adde8a36-19cf-4b0c-84d6-1daa9c31dbb8",
   "metadata": {},
   "outputs": [],
   "source": [
    "sss[sss.redemption_probabilty_score_2>=0.95].customer_id.to_csv('project_2.csv', index=False)"
   ]
  },
  {
   "cell_type": "code",
   "execution_count": null,
   "id": "6669d0dd-47f6-4d99-aad2-8d4d172b9229",
   "metadata": {},
   "outputs": [],
   "source": []
  },
  {
   "cell_type": "code",
   "execution_count": null,
   "id": "45c8a8d5-5ff4-4e60-b9e0-4e5729a395db",
   "metadata": {},
   "outputs": [],
   "source": []
  },
  {
   "cell_type": "code",
   "execution_count": null,
   "id": "d40cb5e9-8801-400a-b4aa-3e6da5f1a3bb",
   "metadata": {},
   "outputs": [],
   "source": [
    "_eval_data.sort_values(by=['redemption_probabilty_score_2'], ascending = False).tail(20)"
   ]
  },
  {
   "cell_type": "code",
   "execution_count": null,
   "id": "ad2d92b0-a48d-4e95-a41b-c673932bbab6",
   "metadata": {},
   "outputs": [],
   "source": []
  }
 ],
 "metadata": {
  "kernelspec": {
   "display_name": "Python 3.9",
   "language": "python",
   "name": "venv"
  },
  "language_info": {
   "codemirror_mode": {
    "name": "ipython",
    "version": 3
   },
   "file_extension": ".py",
   "mimetype": "text/x-python",
   "name": "python",
   "nbconvert_exporter": "python",
   "pygments_lexer": "ipython3",
   "version": "3.9.2"
  }
 },
 "nbformat": 4,
 "nbformat_minor": 5
}
