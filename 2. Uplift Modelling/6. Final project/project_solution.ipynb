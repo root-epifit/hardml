{
 "cells": [
  {
   "cell_type": "markdown",
   "metadata": {},
   "source": [
    "## Head"
   ]
  },
  {
   "cell_type": "markdown",
   "metadata": {},
   "source": [
    "Это решение от авторов курса. \n",
    "Комментарии - мои.\n",
    "\n",
    "## Методика решения\n",
    "0. В условиях задачи неявно предполагается, что вторая кампания начинается на 250-й день. Для неё и должен быть подготовлен набор участников (таргет-группа). \n",
    "1. За основу для решения  можно взять ноутбук занятия 3. Ту его часть, где рассчитывается прямой аплифт. На ту часть, где обсуждается разложение бизнес-задачи на составляющие - внимания не обращаем. \n",
    "2. Фичи - это разнообразные агрегаты по покупкам за различные интервалы до начала компании (т.е. до 102-го дня), у авторов это интервалы, 5, 15, 50,  100 дней + возраст клиента + может быть и место проживания  \n",
    "Важно: обязательно нужна фича \"среднее время между покупками\"\n",
    "3. Модель для аплифта предсказывает прибыль за период в 30 дней после кампании, т.е. [102, 102+30], по фичам, расссчитаным за соотв.периоды до начала кампании, т.е до 102-го дня \n",
    "4. Предсказания делаются по клиентским фичам, рассчитанных до 250-го дня \n",
    "5. Важно: Если для модели causalml брать выборку по всем клиентам, то надо обязательо надо указать значение для параметра p propensity). Если его не указать, то lightGBM не сойдется. Propensity - это фактор, которые учитывает то, что в полной выборке кол-во клиентов в таргет-группе меньше кол-ва клиентов не попавших в таргет-группу, т.е. вероятность попадания в таргет-группу не 50%  \n",
    "\n",
    "## Открытый вопрос\n",
    "Не разобрался зачем аторы считают фичи за интервал кампании [102, 102+7], т.к.прибыль считается за 30 дней после начала кампании [102, 102+30]  \n",
    "\n",
    "## Условия\n",
    "Прибыль = (\n",
    "    (\n",
    "        (Выручка_в_ЦГ - Себестоимость_в_ЦГ) / Размер_ЦГ -\n",
    "        (Выручка_в_КГ - Себестоимость_в_КГ) / Размер_КГ\n",
    "    ) * Размер_ЦГ\n",
    "    - Затраты_на_скидки - Затраты_на_ворон\n",
    ") * (\n",
    "    (Размер_ЦГ + Размер_КГ) / Размер_ЦГ\n",
    ")\n",
    "\n",
    "Метрики рассчитываются за период в 30 дней с начала действия скидки.\n",
    "\n",
    "==============================================================================================\n",
    "Легенда\n",
    "Сеть магазинов \"Хитрый лис\" занимается исключительно продажей фисштеха (пряности) в ряде городов (Новиград, Оксенфурт и прочие). Полгода назад \"Хитрый лис\" провел маркетинговую кампанию. Части клиентов с воронами разослали письма с персональным предложением - \"Успейте получить скидку в 40 оренов при первой покупке от одного грамма фисштеха. Скидка действует неделю\".\n",
    "\n",
    "Причем бывший маркетолог \"Хитрого лиса\" недолго думал и выбрал аудиторию для коммуникации случайным образом.\n",
    "\n",
    "Перед Вами стоит задача выбрать часть клиентов \"Хитрого лиса\" так, чтобы суммарная прибыль (определение в разделе оценки) от кампании с подобным предложением была как можно больше.\n",
    "\n",
    "Решением будет список отобранных клиентов. Контрольную группу выделять не нужно - необходимые процедуры для оценки решения будут проделаны в системе.\n",
    "\n",
    "В вашем распоряжении информация о продажах за последние 250 дней, базовая информация о покупателях, история запущенных кампаний.\n",
    "\n",
    "\n",
    "Важно знать:\n",
    "\n",
    "Цена 1 г фисштеха равна 80 оренам. Себестоимость равна 52 оренам\n",
    "Отправка одного сообщения вороном стоит 1 орен\n",
    "У \"Хитрого лиса\" есть конкурент 😉 - сеть таверн \"Семь котов\", в которых тоже продают фисштех"
   ]
  },
  {
   "cell_type": "code",
   "execution_count": 1,
   "metadata": {
    "ExecuteTime": {
     "end_time": "2021-05-31T15:13:45.056337Z",
     "start_time": "2021-05-31T15:13:45.050380Z"
    },
    "tags": []
   },
   "outputs": [],
   "source": [
    "import os\n",
    "import sys\n",
    "import pandas as pd\n",
    "import dask.dataframe as dd\n",
    "import sidetable\n",
    "import numpy as np"
   ]
  },
  {
   "cell_type": "code",
   "execution_count": 2,
   "metadata": {
    "ExecuteTime": {
     "end_time": "2021-05-31T15:22:37.689702Z",
     "start_time": "2021-05-31T15:22:37.687511Z"
    },
    "tags": []
   },
   "outputs": [],
   "source": [
    "import matplotlib.pyplot as plt"
   ]
  },
  {
   "cell_type": "code",
   "execution_count": 3,
   "metadata": {
    "ExecuteTime": {
     "end_time": "2021-05-31T13:40:24.945374Z",
     "start_time": "2021-05-31T13:40:24.943237Z"
    },
    "tags": []
   },
   "outputs": [],
   "source": [
    "import importlib"
   ]
  },
  {
   "cell_type": "code",
   "execution_count": 4,
   "metadata": {
    "ExecuteTime": {
     "end_time": "2021-05-31T14:00:46.607606Z",
     "start_time": "2021-05-31T14:00:46.605275Z"
    },
    "tags": []
   },
   "outputs": [],
   "source": [
    "from typing import List, Dict, Union"
   ]
  },
  {
   "cell_type": "code",
   "execution_count": 5,
   "metadata": {
    "ExecuteTime": {
     "end_time": "2021-05-31T15:08:37.905113Z",
     "start_time": "2021-05-31T15:08:37.902938Z"
    },
    "tags": []
   },
   "outputs": [],
   "source": [
    "import lightgbm as lgb"
   ]
  },
  {
   "cell_type": "code",
   "execution_count": 6,
   "metadata": {
    "ExecuteTime": {
     "end_time": "2021-05-31T15:08:24.085177Z",
     "start_time": "2021-05-31T15:08:20.407059Z"
    },
    "tags": []
   },
   "outputs": [
    {
     "name": "stderr",
     "output_type": "stream",
     "text": [
      "IProgress not found. Please update jupyter and ipywidgets. See https://ipywidgets.readthedocs.io/en/stable/user_install.html\n",
      "Failed to import duecredit due to No module named 'duecredit'\n"
     ]
    }
   ],
   "source": [
    "import causalml\n",
    "import causalml.metrics as cmetrics\n",
    "import causalml.inference.tree as ctree\n",
    "import causalml.inference.meta.rlearner as rlearner"
   ]
  },
  {
   "cell_type": "code",
   "execution_count": null,
   "metadata": {},
   "outputs": [],
   "source": []
  },
  {
   "cell_type": "markdown",
   "metadata": {},
   "source": [
    "## Lib"
   ]
  },
  {
   "cell_type": "code",
   "execution_count": 7,
   "metadata": {
    "ExecuteTime": {
     "end_time": "2021-05-31T12:34:05.466041Z",
     "start_time": "2021-05-31T12:33:58.326401Z"
    },
    "tags": []
   },
   "outputs": [],
   "source": [
    "import featurelib as fl"
   ]
  },
  {
   "cell_type": "code",
   "execution_count": 8,
   "metadata": {
    "ExecuteTime": {
     "end_time": "2021-05-31T14:00:48.307046Z",
     "start_time": "2021-05-31T14:00:48.302370Z"
    },
    "tags": []
   },
   "outputs": [],
   "source": [
    "def dask_groupby(\n",
    "    data: dd.DataFrame,\n",
    "    by: List[str],\n",
    "    config: Dict[str, Union[str, List[str]]]\n",
    ") -> dd.DataFrame:\n",
    "    data_ = data.copy()\n",
    "    dask_agg_config = dict()\n",
    "\n",
    "    for col, aggs in config.items():\n",
    "        aggs = aggs if isinstance(aggs, list) else [aggs]\n",
    "        for agg in aggs:\n",
    "            fictious_col = f'{col}_{agg}'\n",
    "            data_ = data_.assign(**{fictious_col: lambda d: d[col]})\n",
    "            dask_agg_config[fictious_col] = agg\n",
    "\n",
    "    result = data_.groupby(by=by).agg(dask_agg_config)\n",
    "    return result\n"
   ]
  },
  {
   "cell_type": "code",
   "execution_count": 9,
   "metadata": {
    "ExecuteTime": {
     "end_time": "2021-05-31T14:04:58.073095Z",
     "start_time": "2021-05-31T14:04:58.066503Z"
    },
    "tags": []
   },
   "outputs": [],
   "source": [
    "class ReceiptsBasicFeatureCalcer(fl.DateFeatureCalcer):\n",
    "    name = 'receipts_basic'\n",
    "    keys = ['customer_id']\n",
    "\n",
    "    def __init__(self, delta: int, **kwargs):\n",
    "        self.delta = delta\n",
    "        super().__init__(**kwargs)\n",
    "\n",
    "    def compute(self) -> dd.DataFrame:\n",
    "        receipts = self.engine.get_table('receipts')\n",
    "        \n",
    "        date_from = self.date_to - self.delta\n",
    "        #print(\"\")\n",
    "        #print(f\"ReceiptsBasicFeatureCalcer.compute: {date_from=}\")\n",
    "        \n",
    "        date_mask = (receipts['date'] >= date_from) & (receipts['date'] < self.date_to)\n",
    "\n",
    "        features = receipts.loc[date_mask]\n",
    "        features = dask_groupby(\n",
    "            features,\n",
    "            by=['customer_id'],\n",
    "            config={\n",
    "                \"purchase_sum\": [\"sum\", \"max\", \"min\", \"mean\"],\n",
    "                \"discount\": [\"sum\"],\n",
    "                \"date\": [\"min\", \"max\", \"count\"],\n",
    "            }\n",
    "        )\n",
    "        #print(f\"ReceiptsBasicFeatureCalcercompute: after dask_groupby\")\n",
    "        #print(f\"ReceiptsBasicFeatureCalcercompute: features.columns = {features.columns}\")\n",
    "        \n",
    "        # Средний интервал между покупками\n",
    "        features = (\n",
    "            features\n",
    "            .assign(\n",
    "                mean_time_interval=lambda d: (\n",
    "                    (d['date_max'] - d['date_min']) / (d['date_count'] - 1)\n",
    "                )\n",
    "            )\n",
    "            .assign(time_since_last=lambda d: self.date_to - d['date_max'])\n",
    "        )\n",
    "        #print(f\"ReceiptsBasicFeatureCalcercompute: after assign\")\n",
    "        #print(f\"ReceiptsBasicFeatureCalcercompute: features.columns = {features.columns}\")\n",
    "\n",
    "        features = features.reset_index()\n",
    "        #print(f\"ReceiptsBasicFeatureCalcercompute: after reset_index\")\n",
    "        #print(f\"ReceiptsBasicFeatureCalcercompute: features.columns = {features.columns}\")\n",
    "        \n",
    "        features = features.rename(columns={\n",
    "            col: col + f'__{self.delta}d' for col in features.columns if col not in self.keys\n",
    "        })\n",
    "        #print(f\"ReceiptsBasicFeatureCalcercompute: after rename columns\")\n",
    "        #print(f\"ReceiptsBasicFeatureCalcercompute: features.columns = {features.columns}\")\n",
    "\n",
    "        return features"
   ]
  },
  {
   "cell_type": "code",
   "execution_count": 10,
   "metadata": {
    "ExecuteTime": {
     "end_time": "2021-05-31T14:05:00.718207Z",
     "start_time": "2021-05-31T14:05:00.714949Z"
    },
    "tags": []
   },
   "outputs": [],
   "source": [
    "class AgeGeoCalcer(fl.FeatureCalcer):\n",
    "    name = 'age_geo'\n",
    "    keys = ['customer_id']\n",
    "\n",
    "    def compute(self) -> dd.DataFrame:\n",
    "        customers_info = self.engine.get_table('customers')\n",
    "        return customers_info[self.keys + ['age', 'location']]"
   ]
  },
  {
   "cell_type": "code",
   "execution_count": 11,
   "metadata": {
    "ExecuteTime": {
     "end_time": "2021-05-31T14:05:00.933488Z",
     "start_time": "2021-05-31T14:05:00.929740Z"
    },
    "tags": []
   },
   "outputs": [],
   "source": [
    "class CampaignInfoCalcer(fl.DateFeatureCalcer):\n",
    "    name = 'campaigns_info'\n",
    "    keys = ['customer_id']\n",
    "    \n",
    "    def compute(self) -> dd.DataFrame:\n",
    "        campaigns = self.engine.get_table('campaigns')\n",
    "        date_mask = campaigns['date'] == self.date_to\n",
    "\n",
    "        result = (\n",
    "            self.engine.get_table('campaigns')\n",
    "            .loc[date_mask]\n",
    "            [[\n",
    "                'customer_id',\n",
    "                'n_offer_days', 'target_group_flag', 'date'\n",
    "            ]]\n",
    "            .rename(columns={'date': 'campaign_date'})\n",
    "        )\n",
    "        return result\n"
   ]
  },
  {
   "cell_type": "code",
   "execution_count": 12,
   "metadata": {
    "ExecuteTime": {
     "end_time": "2021-05-31T14:05:13.539833Z",
     "start_time": "2021-05-31T14:05:13.537186Z"
    },
    "tags": []
   },
   "outputs": [],
   "source": [
    "fl.register_calcer(ReceiptsBasicFeatureCalcer)\n",
    "fl.register_calcer(AgeGeoCalcer)\n",
    "fl.register_calcer(CampaignInfoCalcer)"
   ]
  },
  {
   "cell_type": "code",
   "execution_count": null,
   "metadata": {},
   "outputs": [],
   "source": []
  },
  {
   "cell_type": "markdown",
   "metadata": {},
   "source": [
    "## Load'n'cook"
   ]
  },
  {
   "cell_type": "code",
   "execution_count": 13,
   "metadata": {
    "ExecuteTime": {
     "end_time": "2021-05-31T13:32:13.356674Z",
     "start_time": "2021-05-31T13:32:12.305189Z"
    },
    "tags": []
   },
   "outputs": [],
   "source": [
    "engine = fl.Engine(tables={\n",
    "    'receipts': dd.read_parquet('./data/receipts.parquet'),\n",
    "    'customers': dd.read_csv('./data/customers.csv'),\n",
    "    'campaigns': dd.read_csv('./data/campaigns.csv'),\n",
    "})"
   ]
  },
  {
   "cell_type": "markdown",
   "metadata": {},
   "source": [
    "### train"
   ]
  },
  {
   "cell_type": "markdown",
   "metadata": {},
   "source": [
    "#### load"
   ]
  },
  {
   "cell_type": "code",
   "execution_count": 14,
   "metadata": {
    "ExecuteTime": {
     "end_time": "2021-05-31T14:10:24.915040Z",
     "start_time": "2021-05-31T14:10:24.910357Z"
    },
    "tags": []
   },
   "outputs": [],
   "source": [
    "calcers_config = [\n",
    "    {\n",
    "        'name': 'receipts_basic',\n",
    "        'args': {\n",
    "            'date_to': 102, 'delta': 5\n",
    "        }\n",
    "    },\n",
    "    {\n",
    "        'name': 'receipts_basic',\n",
    "        'args': {\n",
    "            'date_to': 102, 'delta': 15\n",
    "        }\n",
    "    },\n",
    "    {\n",
    "        'name': 'receipts_basic',\n",
    "        'args': {\n",
    "            'date_to': 102, 'delta': 50\n",
    "        }\n",
    "    },\n",
    "    {\n",
    "        'name': 'receipts_basic',\n",
    "        'args': {\n",
    "            'date_to': 102, 'delta': 100\n",
    "        }\n",
    "    },\n",
    "    { # target period\n",
    "        'name': 'receipts_basic',\n",
    "        'args': {\n",
    "            'date_to': 132, 'delta': 30\n",
    "        }\n",
    "    },\n",
    "    { # offer period\n",
    "        'name': 'receipts_basic',\n",
    "        'args': {\n",
    "            'date_to': 109, 'delta': 7\n",
    "        }\n",
    "    },\n",
    "    {\n",
    "        'name': 'age_geo',\n",
    "        'args': {}\n",
    "    },\n",
    "    {\n",
    "        'name': 'campaigns_info',\n",
    "        'args': {'date_to': 102}\n",
    "    }\n",
    "]"
   ]
  },
  {
   "cell_type": "code",
   "execution_count": 15,
   "metadata": {
    "ExecuteTime": {
     "end_time": "2021-05-31T14:10:25.772468Z",
     "start_time": "2021-05-31T14:10:25.241100Z"
    },
    "tags": []
   },
   "outputs": [],
   "source": [
    "raw_data_train = fl.compute_features(engine, features_config=calcers_config)"
   ]
  },
  {
   "cell_type": "code",
   "execution_count": 16,
   "metadata": {
    "ExecuteTime": {
     "end_time": "2021-05-31T14:11:24.340276Z",
     "start_time": "2021-05-31T14:10:25.774248Z"
    },
    "tags": []
   },
   "outputs": [],
   "source": [
    "raw_data_train = raw_data_train.compute()"
   ]
  },
  {
   "cell_type": "code",
   "execution_count": 17,
   "metadata": {
    "ExecuteTime": {
     "end_time": "2021-05-31T14:11:24.347061Z",
     "start_time": "2021-05-31T14:11:24.343219Z"
    }
   },
   "outputs": [
    {
     "data": {
      "text/plain": [
       "(2000000, 66)"
      ]
     },
     "execution_count": 17,
     "metadata": {},
     "output_type": "execute_result"
    }
   ],
   "source": [
    "raw_data_train.shape"
   ]
  },
  {
   "cell_type": "code",
   "execution_count": 18,
   "metadata": {
    "tags": []
   },
   "outputs": [
    {
     "data": {
      "text/plain": [
       "Index(['customer_id', 'purchase_sum_sum__5d', 'purchase_sum_max__5d',\n",
       "       'purchase_sum_min__5d', 'purchase_sum_mean__5d', 'discount_sum__5d',\n",
       "       'date_min__5d', 'date_max__5d', 'date_count__5d',\n",
       "       'mean_time_interval__5d', 'time_since_last__5d',\n",
       "       'purchase_sum_sum__15d', 'purchase_sum_max__15d',\n",
       "       'purchase_sum_min__15d', 'purchase_sum_mean__15d', 'discount_sum__15d',\n",
       "       'date_min__15d', 'date_max__15d', 'date_count__15d',\n",
       "       'mean_time_interval__15d', 'time_since_last__15d',\n",
       "       'purchase_sum_sum__50d', 'purchase_sum_max__50d',\n",
       "       'purchase_sum_min__50d', 'purchase_sum_mean__50d', 'discount_sum__50d',\n",
       "       'date_min__50d', 'date_max__50d', 'date_count__50d',\n",
       "       'mean_time_interval__50d', 'time_since_last__50d',\n",
       "       'purchase_sum_sum__100d', 'purchase_sum_max__100d',\n",
       "       'purchase_sum_min__100d', 'purchase_sum_mean__100d',\n",
       "       'discount_sum__100d', 'date_min__100d', 'date_max__100d',\n",
       "       'date_count__100d', 'mean_time_interval__100d', 'time_since_last__100d',\n",
       "       'purchase_sum_sum__30d', 'purchase_sum_max__30d',\n",
       "       'purchase_sum_min__30d', 'purchase_sum_mean__30d', 'discount_sum__30d',\n",
       "       'date_min__30d', 'date_max__30d', 'date_count__30d',\n",
       "       'mean_time_interval__30d', 'time_since_last__30d',\n",
       "       'purchase_sum_sum__7d', 'purchase_sum_max__7d', 'purchase_sum_min__7d',\n",
       "       'purchase_sum_mean__7d', 'discount_sum__7d', 'date_min__7d',\n",
       "       'date_max__7d', 'date_count__7d', 'mean_time_interval__7d',\n",
       "       'time_since_last__7d', 'age', 'location', 'n_offer_days',\n",
       "       'target_group_flag', 'campaign_date'],\n",
       "      dtype='object')"
      ]
     },
     "execution_count": 18,
     "metadata": {},
     "output_type": "execute_result"
    }
   ],
   "source": [
    "raw_data_train.columns"
   ]
  },
  {
   "cell_type": "code",
   "execution_count": 19,
   "metadata": {
    "tags": []
   },
   "outputs": [
    {
     "data": {
      "text/html": [
       "<div>\n",
       "<style scoped>\n",
       "    .dataframe tbody tr th:only-of-type {\n",
       "        vertical-align: middle;\n",
       "    }\n",
       "\n",
       "    .dataframe tbody tr th {\n",
       "        vertical-align: top;\n",
       "    }\n",
       "\n",
       "    .dataframe thead th {\n",
       "        text-align: right;\n",
       "    }\n",
       "</style>\n",
       "<table border=\"1\" class=\"dataframe\">\n",
       "  <thead>\n",
       "    <tr style=\"text-align: right;\">\n",
       "      <th></th>\n",
       "      <th>customer_id</th>\n",
       "      <th>purchase_sum_sum__5d</th>\n",
       "      <th>purchase_sum_max__5d</th>\n",
       "      <th>purchase_sum_min__5d</th>\n",
       "      <th>purchase_sum_mean__5d</th>\n",
       "      <th>discount_sum__5d</th>\n",
       "      <th>date_min__5d</th>\n",
       "      <th>date_max__5d</th>\n",
       "      <th>date_count__5d</th>\n",
       "      <th>mean_time_interval__5d</th>\n",
       "      <th>...</th>\n",
       "      <th>date_min__7d</th>\n",
       "      <th>date_max__7d</th>\n",
       "      <th>date_count__7d</th>\n",
       "      <th>mean_time_interval__7d</th>\n",
       "      <th>time_since_last__7d</th>\n",
       "      <th>age</th>\n",
       "      <th>location</th>\n",
       "      <th>n_offer_days</th>\n",
       "      <th>target_group_flag</th>\n",
       "      <th>campaign_date</th>\n",
       "    </tr>\n",
       "  </thead>\n",
       "  <tbody>\n",
       "    <tr>\n",
       "      <th>0</th>\n",
       "      <td>2</td>\n",
       "      <td>3130.691978</td>\n",
       "      <td>2749.047367</td>\n",
       "      <td>381.644612</td>\n",
       "      <td>1565.345989</td>\n",
       "      <td>0.0</td>\n",
       "      <td>97.0</td>\n",
       "      <td>100.0</td>\n",
       "      <td>2.0</td>\n",
       "      <td>3.0</td>\n",
       "      <td>...</td>\n",
       "      <td>NaN</td>\n",
       "      <td>NaN</td>\n",
       "      <td>NaN</td>\n",
       "      <td>NaN</td>\n",
       "      <td>NaN</td>\n",
       "      <td>41</td>\n",
       "      <td>Hindarsfjall</td>\n",
       "      <td>7.0</td>\n",
       "      <td>1.0</td>\n",
       "      <td>102.0</td>\n",
       "    </tr>\n",
       "    <tr>\n",
       "      <th>1</th>\n",
       "      <td>18</td>\n",
       "      <td>2784.746810</td>\n",
       "      <td>2784.746810</td>\n",
       "      <td>2784.746810</td>\n",
       "      <td>2784.746810</td>\n",
       "      <td>0.0</td>\n",
       "      <td>97.0</td>\n",
       "      <td>97.0</td>\n",
       "      <td>1.0</td>\n",
       "      <td>NaN</td>\n",
       "      <td>...</td>\n",
       "      <td>NaN</td>\n",
       "      <td>NaN</td>\n",
       "      <td>NaN</td>\n",
       "      <td>NaN</td>\n",
       "      <td>NaN</td>\n",
       "      <td>64</td>\n",
       "      <td>Kaer_Trolde</td>\n",
       "      <td>7.0</td>\n",
       "      <td>1.0</td>\n",
       "      <td>102.0</td>\n",
       "    </tr>\n",
       "    <tr>\n",
       "      <th>2</th>\n",
       "      <td>22</td>\n",
       "      <td>943.251812</td>\n",
       "      <td>943.251812</td>\n",
       "      <td>943.251812</td>\n",
       "      <td>943.251812</td>\n",
       "      <td>0.0</td>\n",
       "      <td>97.0</td>\n",
       "      <td>97.0</td>\n",
       "      <td>1.0</td>\n",
       "      <td>NaN</td>\n",
       "      <td>...</td>\n",
       "      <td>105.0</td>\n",
       "      <td>105.0</td>\n",
       "      <td>1.0</td>\n",
       "      <td>NaN</td>\n",
       "      <td>4.0</td>\n",
       "      <td>36</td>\n",
       "      <td>Hindarsfjall</td>\n",
       "      <td>7.0</td>\n",
       "      <td>1.0</td>\n",
       "      <td>102.0</td>\n",
       "    </tr>\n",
       "    <tr>\n",
       "      <th>3</th>\n",
       "      <td>52</td>\n",
       "      <td>2480.383924</td>\n",
       "      <td>2480.383924</td>\n",
       "      <td>2480.383924</td>\n",
       "      <td>2480.383924</td>\n",
       "      <td>0.0</td>\n",
       "      <td>97.0</td>\n",
       "      <td>97.0</td>\n",
       "      <td>1.0</td>\n",
       "      <td>NaN</td>\n",
       "      <td>...</td>\n",
       "      <td>NaN</td>\n",
       "      <td>NaN</td>\n",
       "      <td>NaN</td>\n",
       "      <td>NaN</td>\n",
       "      <td>NaN</td>\n",
       "      <td>37</td>\n",
       "      <td>Novigrad</td>\n",
       "      <td>7.0</td>\n",
       "      <td>1.0</td>\n",
       "      <td>102.0</td>\n",
       "    </tr>\n",
       "    <tr>\n",
       "      <th>4</th>\n",
       "      <td>55</td>\n",
       "      <td>1483.932263</td>\n",
       "      <td>1483.932263</td>\n",
       "      <td>1483.932263</td>\n",
       "      <td>1483.932263</td>\n",
       "      <td>0.0</td>\n",
       "      <td>97.0</td>\n",
       "      <td>97.0</td>\n",
       "      <td>1.0</td>\n",
       "      <td>NaN</td>\n",
       "      <td>...</td>\n",
       "      <td>NaN</td>\n",
       "      <td>NaN</td>\n",
       "      <td>NaN</td>\n",
       "      <td>NaN</td>\n",
       "      <td>NaN</td>\n",
       "      <td>49</td>\n",
       "      <td>Spikeroog</td>\n",
       "      <td>7.0</td>\n",
       "      <td>1.0</td>\n",
       "      <td>102.0</td>\n",
       "    </tr>\n",
       "  </tbody>\n",
       "</table>\n",
       "<p>5 rows × 66 columns</p>\n",
       "</div>"
      ],
      "text/plain": [
       "   customer_id  purchase_sum_sum__5d  purchase_sum_max__5d  \\\n",
       "0            2           3130.691978           2749.047367   \n",
       "1           18           2784.746810           2784.746810   \n",
       "2           22            943.251812            943.251812   \n",
       "3           52           2480.383924           2480.383924   \n",
       "4           55           1483.932263           1483.932263   \n",
       "\n",
       "   purchase_sum_min__5d  purchase_sum_mean__5d  discount_sum__5d  \\\n",
       "0            381.644612            1565.345989               0.0   \n",
       "1           2784.746810            2784.746810               0.0   \n",
       "2            943.251812             943.251812               0.0   \n",
       "3           2480.383924            2480.383924               0.0   \n",
       "4           1483.932263            1483.932263               0.0   \n",
       "\n",
       "   date_min__5d  date_max__5d  date_count__5d  mean_time_interval__5d  ...  \\\n",
       "0          97.0         100.0             2.0                     3.0  ...   \n",
       "1          97.0          97.0             1.0                     NaN  ...   \n",
       "2          97.0          97.0             1.0                     NaN  ...   \n",
       "3          97.0          97.0             1.0                     NaN  ...   \n",
       "4          97.0          97.0             1.0                     NaN  ...   \n",
       "\n",
       "   date_min__7d  date_max__7d  date_count__7d  mean_time_interval__7d  \\\n",
       "0           NaN           NaN             NaN                     NaN   \n",
       "1           NaN           NaN             NaN                     NaN   \n",
       "2         105.0         105.0             1.0                     NaN   \n",
       "3           NaN           NaN             NaN                     NaN   \n",
       "4           NaN           NaN             NaN                     NaN   \n",
       "\n",
       "   time_since_last__7d  age      location  n_offer_days  target_group_flag  \\\n",
       "0                  NaN   41  Hindarsfjall           7.0                1.0   \n",
       "1                  NaN   64   Kaer_Trolde           7.0                1.0   \n",
       "2                  4.0   36  Hindarsfjall           7.0                1.0   \n",
       "3                  NaN   37      Novigrad           7.0                1.0   \n",
       "4                  NaN   49     Spikeroog           7.0                1.0   \n",
       "\n",
       "   campaign_date  \n",
       "0          102.0  \n",
       "1          102.0  \n",
       "2          102.0  \n",
       "3          102.0  \n",
       "4          102.0  \n",
       "\n",
       "[5 rows x 66 columns]"
      ]
     },
     "execution_count": 19,
     "metadata": {},
     "output_type": "execute_result"
    }
   ],
   "source": [
    "raw_data_train.head()"
   ]
  },
  {
   "cell_type": "code",
   "execution_count": null,
   "metadata": {},
   "outputs": [],
   "source": []
  },
  {
   "cell_type": "markdown",
   "metadata": {},
   "source": [
    "#### transform"
   ]
  },
  {
   "cell_type": "code",
   "execution_count": 20,
   "metadata": {
    "ExecuteTime": {
     "end_time": "2021-05-31T14:17:17.307526Z",
     "start_time": "2021-05-31T14:17:17.302562Z"
    }
   },
   "outputs": [],
   "source": [
    "def fix_column_names(data: pd.DataFrame) -> pd.DataFrame:\n",
    "    for _days in [30, 7]:\n",
    "        for col_name in [\n",
    "            f'purchase_sum_sum__{_days}d',\n",
    "            f'purchase_sum_max__{_days}d',\n",
    "            f'purchase_sum_min__{_days}d',\n",
    "            f'purchase_sum_mean__{_days}d',\n",
    "            f'discount_sum__{_days}d',\n",
    "            f'date_min__{_days}d',\n",
    "            f'date_max__{_days}d',\n",
    "            f'date_count__{_days}d',\n",
    "            f'mean_time_interval__{_days}d',\n",
    "            f'time_since_last__{_days}d'\n",
    "        ]:\n",
    "            data = data.rename(columns={col_name: 'target__' + col_name})\n",
    "    return data"
   ]
  },
  {
   "cell_type": "code",
   "execution_count": 21,
   "metadata": {
    "ExecuteTime": {
     "end_time": "2021-05-31T15:19:50.057063Z",
     "start_time": "2021-05-31T15:19:50.053197Z"
    }
   },
   "outputs": [],
   "source": [
    "MARGIN_RATE = 0.35\n",
    "MESSAGE_COST = 1.0\n",
    "\n",
    "\n",
    "def _transform(data: pd.DataFrame) -> pd.DataFrame:\n",
    "    data.fillna({'target_group_flag': 0}, inplace=True)\n",
    "    data['target_profit'] = (\n",
    "        MARGIN_RATE * data['target__purchase_sum_sum__30d'].fillna(0.0)\n",
    "        - MESSAGE_COST * data['target_group_flag'].fillna(0)\n",
    "        - data['target__discount_sum__30d'].fillna(0)\n",
    "    )\n",
    "    return data"
   ]
  },
  {
   "cell_type": "code",
   "execution_count": 22,
   "metadata": {
    "ExecuteTime": {
     "end_time": "2021-05-31T14:47:45.634350Z",
     "start_time": "2021-05-31T14:47:33.598263Z"
    }
   },
   "outputs": [],
   "source": [
    "data_train = fix_column_names(raw_data_train)\n",
    "data_train = _transform(data_train)"
   ]
  },
  {
   "cell_type": "code",
   "execution_count": 23,
   "metadata": {
    "ExecuteTime": {
     "end_time": "2021-05-31T15:19:53.785985Z",
     "start_time": "2021-05-31T15:19:53.758587Z"
    },
    "tags": []
   },
   "outputs": [
    {
     "data": {
      "text/html": [
       "<div>\n",
       "<style scoped>\n",
       "    .dataframe tbody tr th:only-of-type {\n",
       "        vertical-align: middle;\n",
       "    }\n",
       "\n",
       "    .dataframe tbody tr th {\n",
       "        vertical-align: top;\n",
       "    }\n",
       "\n",
       "    .dataframe thead th {\n",
       "        text-align: right;\n",
       "    }\n",
       "</style>\n",
       "<table border=\"1\" class=\"dataframe\">\n",
       "  <thead>\n",
       "    <tr style=\"text-align: right;\">\n",
       "      <th></th>\n",
       "      <th>customer_id</th>\n",
       "      <th>purchase_sum_sum__5d</th>\n",
       "      <th>purchase_sum_max__5d</th>\n",
       "      <th>purchase_sum_min__5d</th>\n",
       "      <th>purchase_sum_mean__5d</th>\n",
       "      <th>discount_sum__5d</th>\n",
       "      <th>date_min__5d</th>\n",
       "      <th>date_max__5d</th>\n",
       "      <th>date_count__5d</th>\n",
       "      <th>mean_time_interval__5d</th>\n",
       "      <th>...</th>\n",
       "      <th>target__date_max__7d</th>\n",
       "      <th>target__date_count__7d</th>\n",
       "      <th>target__mean_time_interval__7d</th>\n",
       "      <th>target__time_since_last__7d</th>\n",
       "      <th>age</th>\n",
       "      <th>location</th>\n",
       "      <th>n_offer_days</th>\n",
       "      <th>target_group_flag</th>\n",
       "      <th>campaign_date</th>\n",
       "      <th>target_profit</th>\n",
       "    </tr>\n",
       "  </thead>\n",
       "  <tbody>\n",
       "    <tr>\n",
       "      <th>0</th>\n",
       "      <td>2</td>\n",
       "      <td>3130.691978</td>\n",
       "      <td>2749.047367</td>\n",
       "      <td>381.644612</td>\n",
       "      <td>1565.345989</td>\n",
       "      <td>0.0</td>\n",
       "      <td>97.0</td>\n",
       "      <td>100.0</td>\n",
       "      <td>2.0</td>\n",
       "      <td>3.0</td>\n",
       "      <td>...</td>\n",
       "      <td>NaN</td>\n",
       "      <td>NaN</td>\n",
       "      <td>NaN</td>\n",
       "      <td>NaN</td>\n",
       "      <td>41</td>\n",
       "      <td>Hindarsfjall</td>\n",
       "      <td>7.0</td>\n",
       "      <td>1.0</td>\n",
       "      <td>102.0</td>\n",
       "      <td>1468.691792</td>\n",
       "    </tr>\n",
       "    <tr>\n",
       "      <th>1</th>\n",
       "      <td>18</td>\n",
       "      <td>2784.746810</td>\n",
       "      <td>2784.746810</td>\n",
       "      <td>2784.746810</td>\n",
       "      <td>2784.746810</td>\n",
       "      <td>0.0</td>\n",
       "      <td>97.0</td>\n",
       "      <td>97.0</td>\n",
       "      <td>1.0</td>\n",
       "      <td>NaN</td>\n",
       "      <td>...</td>\n",
       "      <td>NaN</td>\n",
       "      <td>NaN</td>\n",
       "      <td>NaN</td>\n",
       "      <td>NaN</td>\n",
       "      <td>64</td>\n",
       "      <td>Kaer_Trolde</td>\n",
       "      <td>7.0</td>\n",
       "      <td>1.0</td>\n",
       "      <td>102.0</td>\n",
       "      <td>586.967591</td>\n",
       "    </tr>\n",
       "    <tr>\n",
       "      <th>2</th>\n",
       "      <td>22</td>\n",
       "      <td>943.251812</td>\n",
       "      <td>943.251812</td>\n",
       "      <td>943.251812</td>\n",
       "      <td>943.251812</td>\n",
       "      <td>0.0</td>\n",
       "      <td>97.0</td>\n",
       "      <td>97.0</td>\n",
       "      <td>1.0</td>\n",
       "      <td>NaN</td>\n",
       "      <td>...</td>\n",
       "      <td>105.0</td>\n",
       "      <td>1.0</td>\n",
       "      <td>NaN</td>\n",
       "      <td>4.0</td>\n",
       "      <td>36</td>\n",
       "      <td>Hindarsfjall</td>\n",
       "      <td>7.0</td>\n",
       "      <td>1.0</td>\n",
       "      <td>102.0</td>\n",
       "      <td>1246.848085</td>\n",
       "    </tr>\n",
       "    <tr>\n",
       "      <th>3</th>\n",
       "      <td>52</td>\n",
       "      <td>2480.383924</td>\n",
       "      <td>2480.383924</td>\n",
       "      <td>2480.383924</td>\n",
       "      <td>2480.383924</td>\n",
       "      <td>0.0</td>\n",
       "      <td>97.0</td>\n",
       "      <td>97.0</td>\n",
       "      <td>1.0</td>\n",
       "      <td>NaN</td>\n",
       "      <td>...</td>\n",
       "      <td>NaN</td>\n",
       "      <td>NaN</td>\n",
       "      <td>NaN</td>\n",
       "      <td>NaN</td>\n",
       "      <td>37</td>\n",
       "      <td>Novigrad</td>\n",
       "      <td>7.0</td>\n",
       "      <td>1.0</td>\n",
       "      <td>102.0</td>\n",
       "      <td>1560.986974</td>\n",
       "    </tr>\n",
       "    <tr>\n",
       "      <th>4</th>\n",
       "      <td>55</td>\n",
       "      <td>1483.932263</td>\n",
       "      <td>1483.932263</td>\n",
       "      <td>1483.932263</td>\n",
       "      <td>1483.932263</td>\n",
       "      <td>0.0</td>\n",
       "      <td>97.0</td>\n",
       "      <td>97.0</td>\n",
       "      <td>1.0</td>\n",
       "      <td>NaN</td>\n",
       "      <td>...</td>\n",
       "      <td>NaN</td>\n",
       "      <td>NaN</td>\n",
       "      <td>NaN</td>\n",
       "      <td>NaN</td>\n",
       "      <td>49</td>\n",
       "      <td>Spikeroog</td>\n",
       "      <td>7.0</td>\n",
       "      <td>1.0</td>\n",
       "      <td>102.0</td>\n",
       "      <td>569.861415</td>\n",
       "    </tr>\n",
       "  </tbody>\n",
       "</table>\n",
       "<p>5 rows × 67 columns</p>\n",
       "</div>"
      ],
      "text/plain": [
       "   customer_id  purchase_sum_sum__5d  purchase_sum_max__5d  \\\n",
       "0            2           3130.691978           2749.047367   \n",
       "1           18           2784.746810           2784.746810   \n",
       "2           22            943.251812            943.251812   \n",
       "3           52           2480.383924           2480.383924   \n",
       "4           55           1483.932263           1483.932263   \n",
       "\n",
       "   purchase_sum_min__5d  purchase_sum_mean__5d  discount_sum__5d  \\\n",
       "0            381.644612            1565.345989               0.0   \n",
       "1           2784.746810            2784.746810               0.0   \n",
       "2            943.251812             943.251812               0.0   \n",
       "3           2480.383924            2480.383924               0.0   \n",
       "4           1483.932263            1483.932263               0.0   \n",
       "\n",
       "   date_min__5d  date_max__5d  date_count__5d  mean_time_interval__5d  ...  \\\n",
       "0          97.0         100.0             2.0                     3.0  ...   \n",
       "1          97.0          97.0             1.0                     NaN  ...   \n",
       "2          97.0          97.0             1.0                     NaN  ...   \n",
       "3          97.0          97.0             1.0                     NaN  ...   \n",
       "4          97.0          97.0             1.0                     NaN  ...   \n",
       "\n",
       "   target__date_max__7d  target__date_count__7d  \\\n",
       "0                   NaN                     NaN   \n",
       "1                   NaN                     NaN   \n",
       "2                 105.0                     1.0   \n",
       "3                   NaN                     NaN   \n",
       "4                   NaN                     NaN   \n",
       "\n",
       "   target__mean_time_interval__7d  target__time_since_last__7d  age  \\\n",
       "0                             NaN                          NaN   41   \n",
       "1                             NaN                          NaN   64   \n",
       "2                             NaN                          4.0   36   \n",
       "3                             NaN                          NaN   37   \n",
       "4                             NaN                          NaN   49   \n",
       "\n",
       "       location  n_offer_days  target_group_flag  campaign_date  target_profit  \n",
       "0  Hindarsfjall           7.0                1.0          102.0    1468.691792  \n",
       "1   Kaer_Trolde           7.0                1.0          102.0     586.967591  \n",
       "2  Hindarsfjall           7.0                1.0          102.0    1246.848085  \n",
       "3      Novigrad           7.0                1.0          102.0    1560.986974  \n",
       "4     Spikeroog           7.0                1.0          102.0     569.861415  \n",
       "\n",
       "[5 rows x 67 columns]"
      ]
     },
     "execution_count": 23,
     "metadata": {},
     "output_type": "execute_result"
    }
   ],
   "source": [
    "data_train.head()"
   ]
  },
  {
   "cell_type": "code",
   "execution_count": 24,
   "metadata": {},
   "outputs": [
    {
     "data": {
      "text/plain": [
       "Index(['customer_id', 'purchase_sum_sum__5d', 'purchase_sum_max__5d',\n",
       "       'purchase_sum_min__5d', 'purchase_sum_mean__5d', 'discount_sum__5d',\n",
       "       'date_min__5d', 'date_max__5d', 'date_count__5d',\n",
       "       'mean_time_interval__5d', 'time_since_last__5d',\n",
       "       'purchase_sum_sum__15d', 'purchase_sum_max__15d',\n",
       "       'purchase_sum_min__15d', 'purchase_sum_mean__15d', 'discount_sum__15d',\n",
       "       'date_min__15d', 'date_max__15d', 'date_count__15d',\n",
       "       'mean_time_interval__15d', 'time_since_last__15d',\n",
       "       'purchase_sum_sum__50d', 'purchase_sum_max__50d',\n",
       "       'purchase_sum_min__50d', 'purchase_sum_mean__50d', 'discount_sum__50d',\n",
       "       'date_min__50d', 'date_max__50d', 'date_count__50d',\n",
       "       'mean_time_interval__50d', 'time_since_last__50d',\n",
       "       'purchase_sum_sum__100d', 'purchase_sum_max__100d',\n",
       "       'purchase_sum_min__100d', 'purchase_sum_mean__100d',\n",
       "       'discount_sum__100d', 'date_min__100d', 'date_max__100d',\n",
       "       'date_count__100d', 'mean_time_interval__100d', 'time_since_last__100d',\n",
       "       'target__purchase_sum_sum__30d', 'target__purchase_sum_max__30d',\n",
       "       'target__purchase_sum_min__30d', 'target__purchase_sum_mean__30d',\n",
       "       'target__discount_sum__30d', 'target__date_min__30d',\n",
       "       'target__date_max__30d', 'target__date_count__30d',\n",
       "       'target__mean_time_interval__30d', 'target__time_since_last__30d',\n",
       "       'target__purchase_sum_sum__7d', 'target__purchase_sum_max__7d',\n",
       "       'target__purchase_sum_min__7d', 'target__purchase_sum_mean__7d',\n",
       "       'target__discount_sum__7d', 'target__date_min__7d',\n",
       "       'target__date_max__7d', 'target__date_count__7d',\n",
       "       'target__mean_time_interval__7d', 'target__time_since_last__7d', 'age',\n",
       "       'location', 'n_offer_days', 'target_group_flag', 'campaign_date',\n",
       "       'target_profit'],\n",
       "      dtype='object')"
      ]
     },
     "execution_count": 24,
     "metadata": {},
     "output_type": "execute_result"
    }
   ],
   "source": [
    "data_train.columns"
   ]
  },
  {
   "cell_type": "markdown",
   "metadata": {},
   "source": [
    "#### splits"
   ]
  },
  {
   "cell_type": "code",
   "execution_count": 25,
   "metadata": {
    "ExecuteTime": {
     "end_time": "2021-05-31T15:04:37.227340Z",
     "start_time": "2021-05-31T15:04:37.224833Z"
    }
   },
   "outputs": [],
   "source": [
    "from sklearn.model_selection import train_test_split"
   ]
  },
  {
   "cell_type": "code",
   "execution_count": 26,
   "metadata": {
    "ExecuteTime": {
     "end_time": "2021-05-31T15:04:38.789649Z",
     "start_time": "2021-05-31T15:04:38.660528Z"
    }
   },
   "outputs": [],
   "source": [
    "fit_index, val_index = train_test_split(data_train.index, test_size=0.5, random_state=165)"
   ]
  },
  {
   "cell_type": "code",
   "execution_count": null,
   "metadata": {},
   "outputs": [],
   "source": []
  },
  {
   "cell_type": "markdown",
   "metadata": {},
   "source": [
    "### serve"
   ]
  },
  {
   "cell_type": "markdown",
   "metadata": {},
   "source": [
    "#### load"
   ]
  },
  {
   "cell_type": "code",
   "execution_count": 27,
   "metadata": {
    "ExecuteTime": {
     "end_time": "2021-05-31T15:30:12.584649Z",
     "start_time": "2021-05-31T15:30:12.580501Z"
    }
   },
   "outputs": [],
   "source": [
    "calcers_config = [\n",
    "    {\n",
    "        'name': 'receipts_basic',\n",
    "        'args': {\n",
    "            'date_to': 250, 'delta': 5\n",
    "        }\n",
    "    },\n",
    "    {\n",
    "        'name': 'receipts_basic',\n",
    "        'args': {\n",
    "            'date_to': 250, 'delta': 15\n",
    "        }\n",
    "    },\n",
    "    {\n",
    "        'name': 'receipts_basic',\n",
    "        'args': {\n",
    "            'date_to': 250, 'delta': 50\n",
    "        }\n",
    "    },\n",
    "    {\n",
    "        'name': 'receipts_basic',\n",
    "        'args': {\n",
    "            'date_to': 250, 'delta': 100\n",
    "        }\n",
    "    },\n",
    "#     { # target period\n",
    "#         'name': 'receipts_basic',\n",
    "#         'args': {\n",
    "#             'date_to': 132, 'delta': 30\n",
    "#         }\n",
    "#     },\n",
    "#     { # offer period\n",
    "#         'name': 'receipts_basic',\n",
    "#         'args': {\n",
    "#             'date_to': 109, 'delta': 7\n",
    "#         }\n",
    "#     },\n",
    "    {\n",
    "        'name': 'age_geo',\n",
    "        'args': {}\n",
    "    },\n",
    "#     {\n",
    "#         'name': 'campaigns_info',\n",
    "#         'args': {'date_to': 102}\n",
    "#     }\n",
    "]"
   ]
  },
  {
   "cell_type": "code",
   "execution_count": 28,
   "metadata": {
    "ExecuteTime": {
     "end_time": "2021-05-31T15:30:16.281341Z",
     "start_time": "2021-05-31T15:30:15.962825Z"
    }
   },
   "outputs": [],
   "source": [
    "raw_data_serve = fl.compute_features(engine, features_config=calcers_config)"
   ]
  },
  {
   "cell_type": "code",
   "execution_count": 29,
   "metadata": {
    "ExecuteTime": {
     "end_time": "2021-05-31T15:30:55.059092Z",
     "start_time": "2021-05-31T15:30:25.805945Z"
    }
   },
   "outputs": [],
   "source": [
    "raw_data_serve = raw_data_serve.compute()"
   ]
  },
  {
   "cell_type": "code",
   "execution_count": 30,
   "metadata": {
    "tags": []
   },
   "outputs": [
    {
     "data": {
      "text/plain": [
       "Index(['customer_id', 'purchase_sum_sum__5d', 'purchase_sum_max__5d',\n",
       "       'purchase_sum_min__5d', 'purchase_sum_mean__5d', 'discount_sum__5d',\n",
       "       'date_min__5d', 'date_max__5d', 'date_count__5d',\n",
       "       'mean_time_interval__5d', 'time_since_last__5d',\n",
       "       'purchase_sum_sum__15d', 'purchase_sum_max__15d',\n",
       "       'purchase_sum_min__15d', 'purchase_sum_mean__15d', 'discount_sum__15d',\n",
       "       'date_min__15d', 'date_max__15d', 'date_count__15d',\n",
       "       'mean_time_interval__15d', 'time_since_last__15d',\n",
       "       'purchase_sum_sum__50d', 'purchase_sum_max__50d',\n",
       "       'purchase_sum_min__50d', 'purchase_sum_mean__50d', 'discount_sum__50d',\n",
       "       'date_min__50d', 'date_max__50d', 'date_count__50d',\n",
       "       'mean_time_interval__50d', 'time_since_last__50d',\n",
       "       'purchase_sum_sum__100d', 'purchase_sum_max__100d',\n",
       "       'purchase_sum_min__100d', 'purchase_sum_mean__100d',\n",
       "       'discount_sum__100d', 'date_min__100d', 'date_max__100d',\n",
       "       'date_count__100d', 'mean_time_interval__100d', 'time_since_last__100d',\n",
       "       'age', 'location'],\n",
       "      dtype='object')"
      ]
     },
     "execution_count": 30,
     "metadata": {},
     "output_type": "execute_result"
    }
   ],
   "source": [
    "raw_data_serve.columns"
   ]
  },
  {
   "cell_type": "code",
   "execution_count": 31,
   "metadata": {
    "tags": []
   },
   "outputs": [
    {
     "data": {
      "text/plain": [
       "Index(['customer_id', 'purchase_sum_sum__5d', 'purchase_sum_max__5d',\n",
       "       'purchase_sum_min__5d', 'purchase_sum_mean__5d', 'discount_sum__5d',\n",
       "       'date_min__5d', 'date_max__5d', 'date_count__5d',\n",
       "       'mean_time_interval__5d', 'time_since_last__5d',\n",
       "       'purchase_sum_sum__15d', 'purchase_sum_max__15d',\n",
       "       'purchase_sum_min__15d', 'purchase_sum_mean__15d', 'discount_sum__15d',\n",
       "       'date_min__15d', 'date_max__15d', 'date_count__15d',\n",
       "       'mean_time_interval__15d', 'time_since_last__15d',\n",
       "       'purchase_sum_sum__50d', 'purchase_sum_max__50d',\n",
       "       'purchase_sum_min__50d', 'purchase_sum_mean__50d', 'discount_sum__50d',\n",
       "       'date_min__50d', 'date_max__50d', 'date_count__50d',\n",
       "       'mean_time_interval__50d', 'time_since_last__50d',\n",
       "       'purchase_sum_sum__100d', 'purchase_sum_max__100d',\n",
       "       'purchase_sum_min__100d', 'purchase_sum_mean__100d',\n",
       "       'discount_sum__100d', 'date_min__100d', 'date_max__100d',\n",
       "       'date_count__100d', 'mean_time_interval__100d', 'time_since_last__100d',\n",
       "       'purchase_sum_sum__30d', 'purchase_sum_max__30d',\n",
       "       'purchase_sum_min__30d', 'purchase_sum_mean__30d', 'discount_sum__30d',\n",
       "       'date_min__30d', 'date_max__30d', 'date_count__30d',\n",
       "       'mean_time_interval__30d', 'time_since_last__30d',\n",
       "       'purchase_sum_sum__7d', 'purchase_sum_max__7d', 'purchase_sum_min__7d',\n",
       "       'purchase_sum_mean__7d', 'discount_sum__7d', 'date_min__7d',\n",
       "       'date_max__7d', 'date_count__7d', 'mean_time_interval__7d',\n",
       "       'time_since_last__7d', 'age', 'location', 'n_offer_days',\n",
       "       'target_group_flag', 'campaign_date'],\n",
       "      dtype='object')"
      ]
     },
     "execution_count": 31,
     "metadata": {},
     "output_type": "execute_result"
    }
   ],
   "source": [
    "raw_data_train.columns"
   ]
  },
  {
   "cell_type": "code",
   "execution_count": 32,
   "metadata": {
    "ExecuteTime": {
     "end_time": "2021-05-31T15:31:27.772595Z",
     "start_time": "2021-05-31T15:31:27.769134Z"
    }
   },
   "outputs": [
    {
     "data": {
      "text/plain": [
       "(2000000, 43)"
      ]
     },
     "execution_count": 32,
     "metadata": {},
     "output_type": "execute_result"
    }
   ],
   "source": [
    "raw_data_serve.shape"
   ]
  },
  {
   "cell_type": "markdown",
   "metadata": {},
   "source": [
    "#### transform"
   ]
  },
  {
   "cell_type": "code",
   "execution_count": 33,
   "metadata": {},
   "outputs": [],
   "source": [
    "data_serve = fix_column_names(raw_data_serve)"
   ]
  },
  {
   "cell_type": "code",
   "execution_count": 34,
   "metadata": {},
   "outputs": [
    {
     "data": {
      "text/html": [
       "<div>\n",
       "<style scoped>\n",
       "    .dataframe tbody tr th:only-of-type {\n",
       "        vertical-align: middle;\n",
       "    }\n",
       "\n",
       "    .dataframe tbody tr th {\n",
       "        vertical-align: top;\n",
       "    }\n",
       "\n",
       "    .dataframe thead th {\n",
       "        text-align: right;\n",
       "    }\n",
       "</style>\n",
       "<table border=\"1\" class=\"dataframe\">\n",
       "  <thead>\n",
       "    <tr style=\"text-align: right;\">\n",
       "      <th></th>\n",
       "      <th>customer_id</th>\n",
       "      <th>purchase_sum_sum__5d</th>\n",
       "      <th>purchase_sum_max__5d</th>\n",
       "      <th>purchase_sum_min__5d</th>\n",
       "      <th>purchase_sum_mean__5d</th>\n",
       "      <th>discount_sum__5d</th>\n",
       "      <th>date_min__5d</th>\n",
       "      <th>date_max__5d</th>\n",
       "      <th>date_count__5d</th>\n",
       "      <th>mean_time_interval__5d</th>\n",
       "      <th>...</th>\n",
       "      <th>purchase_sum_min__100d</th>\n",
       "      <th>purchase_sum_mean__100d</th>\n",
       "      <th>discount_sum__100d</th>\n",
       "      <th>date_min__100d</th>\n",
       "      <th>date_max__100d</th>\n",
       "      <th>date_count__100d</th>\n",
       "      <th>mean_time_interval__100d</th>\n",
       "      <th>time_since_last__100d</th>\n",
       "      <th>age</th>\n",
       "      <th>location</th>\n",
       "    </tr>\n",
       "  </thead>\n",
       "  <tbody>\n",
       "    <tr>\n",
       "      <th>0</th>\n",
       "      <td>1</td>\n",
       "      <td>841.402345</td>\n",
       "      <td>841.402345</td>\n",
       "      <td>841.402345</td>\n",
       "      <td>841.402345</td>\n",
       "      <td>0.0</td>\n",
       "      <td>245.0</td>\n",
       "      <td>245.0</td>\n",
       "      <td>1.0</td>\n",
       "      <td>NaN</td>\n",
       "      <td>...</td>\n",
       "      <td>676.339522</td>\n",
       "      <td>942.989648</td>\n",
       "      <td>0.0</td>\n",
       "      <td>157.0</td>\n",
       "      <td>245.0</td>\n",
       "      <td>5.0</td>\n",
       "      <td>22.000000</td>\n",
       "      <td>5.0</td>\n",
       "      <td>53</td>\n",
       "      <td>Hindarsfjall</td>\n",
       "    </tr>\n",
       "    <tr>\n",
       "      <th>1</th>\n",
       "      <td>6</td>\n",
       "      <td>949.027995</td>\n",
       "      <td>949.027995</td>\n",
       "      <td>949.027995</td>\n",
       "      <td>949.027995</td>\n",
       "      <td>0.0</td>\n",
       "      <td>245.0</td>\n",
       "      <td>245.0</td>\n",
       "      <td>1.0</td>\n",
       "      <td>NaN</td>\n",
       "      <td>...</td>\n",
       "      <td>478.944819</td>\n",
       "      <td>919.874613</td>\n",
       "      <td>0.0</td>\n",
       "      <td>158.0</td>\n",
       "      <td>245.0</td>\n",
       "      <td>8.0</td>\n",
       "      <td>12.428571</td>\n",
       "      <td>5.0</td>\n",
       "      <td>57</td>\n",
       "      <td>Hindarsfjall</td>\n",
       "    </tr>\n",
       "    <tr>\n",
       "      <th>2</th>\n",
       "      <td>32</td>\n",
       "      <td>1290.046355</td>\n",
       "      <td>1290.046355</td>\n",
       "      <td>1290.046355</td>\n",
       "      <td>1290.046355</td>\n",
       "      <td>0.0</td>\n",
       "      <td>245.0</td>\n",
       "      <td>245.0</td>\n",
       "      <td>1.0</td>\n",
       "      <td>NaN</td>\n",
       "      <td>...</td>\n",
       "      <td>384.712862</td>\n",
       "      <td>1121.586482</td>\n",
       "      <td>0.0</td>\n",
       "      <td>171.0</td>\n",
       "      <td>245.0</td>\n",
       "      <td>5.0</td>\n",
       "      <td>18.500000</td>\n",
       "      <td>5.0</td>\n",
       "      <td>53</td>\n",
       "      <td>Novigrad</td>\n",
       "    </tr>\n",
       "    <tr>\n",
       "      <th>3</th>\n",
       "      <td>43</td>\n",
       "      <td>706.528545</td>\n",
       "      <td>416.428582</td>\n",
       "      <td>290.099962</td>\n",
       "      <td>353.264272</td>\n",
       "      <td>0.0</td>\n",
       "      <td>245.0</td>\n",
       "      <td>249.0</td>\n",
       "      <td>2.0</td>\n",
       "      <td>4.0</td>\n",
       "      <td>...</td>\n",
       "      <td>290.099962</td>\n",
       "      <td>599.381424</td>\n",
       "      <td>0.0</td>\n",
       "      <td>170.0</td>\n",
       "      <td>249.0</td>\n",
       "      <td>10.0</td>\n",
       "      <td>8.777778</td>\n",
       "      <td>1.0</td>\n",
       "      <td>31</td>\n",
       "      <td>Crows_perch</td>\n",
       "    </tr>\n",
       "    <tr>\n",
       "      <th>4</th>\n",
       "      <td>54</td>\n",
       "      <td>1345.761999</td>\n",
       "      <td>1345.761999</td>\n",
       "      <td>1345.761999</td>\n",
       "      <td>1345.761999</td>\n",
       "      <td>0.0</td>\n",
       "      <td>245.0</td>\n",
       "      <td>245.0</td>\n",
       "      <td>1.0</td>\n",
       "      <td>NaN</td>\n",
       "      <td>...</td>\n",
       "      <td>995.264707</td>\n",
       "      <td>1279.725781</td>\n",
       "      <td>0.0</td>\n",
       "      <td>173.0</td>\n",
       "      <td>245.0</td>\n",
       "      <td>3.0</td>\n",
       "      <td>36.000000</td>\n",
       "      <td>5.0</td>\n",
       "      <td>42</td>\n",
       "      <td>Hindarsfjall</td>\n",
       "    </tr>\n",
       "    <tr>\n",
       "      <th>...</th>\n",
       "      <td>...</td>\n",
       "      <td>...</td>\n",
       "      <td>...</td>\n",
       "      <td>...</td>\n",
       "      <td>...</td>\n",
       "      <td>...</td>\n",
       "      <td>...</td>\n",
       "      <td>...</td>\n",
       "      <td>...</td>\n",
       "      <td>...</td>\n",
       "      <td>...</td>\n",
       "      <td>...</td>\n",
       "      <td>...</td>\n",
       "      <td>...</td>\n",
       "      <td>...</td>\n",
       "      <td>...</td>\n",
       "      <td>...</td>\n",
       "      <td>...</td>\n",
       "      <td>...</td>\n",
       "      <td>...</td>\n",
       "      <td>...</td>\n",
       "    </tr>\n",
       "    <tr>\n",
       "      <th>1999995</th>\n",
       "      <td>1999882</td>\n",
       "      <td>NaN</td>\n",
       "      <td>NaN</td>\n",
       "      <td>NaN</td>\n",
       "      <td>NaN</td>\n",
       "      <td>NaN</td>\n",
       "      <td>NaN</td>\n",
       "      <td>NaN</td>\n",
       "      <td>NaN</td>\n",
       "      <td>NaN</td>\n",
       "      <td>...</td>\n",
       "      <td>NaN</td>\n",
       "      <td>NaN</td>\n",
       "      <td>NaN</td>\n",
       "      <td>NaN</td>\n",
       "      <td>NaN</td>\n",
       "      <td>NaN</td>\n",
       "      <td>NaN</td>\n",
       "      <td>NaN</td>\n",
       "      <td>58</td>\n",
       "      <td>Kaer_Trolde</td>\n",
       "    </tr>\n",
       "    <tr>\n",
       "      <th>1999996</th>\n",
       "      <td>1999893</td>\n",
       "      <td>NaN</td>\n",
       "      <td>NaN</td>\n",
       "      <td>NaN</td>\n",
       "      <td>NaN</td>\n",
       "      <td>NaN</td>\n",
       "      <td>NaN</td>\n",
       "      <td>NaN</td>\n",
       "      <td>NaN</td>\n",
       "      <td>NaN</td>\n",
       "      <td>...</td>\n",
       "      <td>NaN</td>\n",
       "      <td>NaN</td>\n",
       "      <td>NaN</td>\n",
       "      <td>NaN</td>\n",
       "      <td>NaN</td>\n",
       "      <td>NaN</td>\n",
       "      <td>NaN</td>\n",
       "      <td>NaN</td>\n",
       "      <td>69</td>\n",
       "      <td>Kaer_Trolde</td>\n",
       "    </tr>\n",
       "    <tr>\n",
       "      <th>1999997</th>\n",
       "      <td>1999904</td>\n",
       "      <td>NaN</td>\n",
       "      <td>NaN</td>\n",
       "      <td>NaN</td>\n",
       "      <td>NaN</td>\n",
       "      <td>NaN</td>\n",
       "      <td>NaN</td>\n",
       "      <td>NaN</td>\n",
       "      <td>NaN</td>\n",
       "      <td>NaN</td>\n",
       "      <td>...</td>\n",
       "      <td>NaN</td>\n",
       "      <td>NaN</td>\n",
       "      <td>NaN</td>\n",
       "      <td>NaN</td>\n",
       "      <td>NaN</td>\n",
       "      <td>NaN</td>\n",
       "      <td>NaN</td>\n",
       "      <td>NaN</td>\n",
       "      <td>42</td>\n",
       "      <td>Oxenfurt</td>\n",
       "    </tr>\n",
       "    <tr>\n",
       "      <th>1999998</th>\n",
       "      <td>1999948</td>\n",
       "      <td>NaN</td>\n",
       "      <td>NaN</td>\n",
       "      <td>NaN</td>\n",
       "      <td>NaN</td>\n",
       "      <td>NaN</td>\n",
       "      <td>NaN</td>\n",
       "      <td>NaN</td>\n",
       "      <td>NaN</td>\n",
       "      <td>NaN</td>\n",
       "      <td>...</td>\n",
       "      <td>NaN</td>\n",
       "      <td>NaN</td>\n",
       "      <td>NaN</td>\n",
       "      <td>NaN</td>\n",
       "      <td>NaN</td>\n",
       "      <td>NaN</td>\n",
       "      <td>NaN</td>\n",
       "      <td>NaN</td>\n",
       "      <td>21</td>\n",
       "      <td>Beauclair</td>\n",
       "    </tr>\n",
       "    <tr>\n",
       "      <th>1999999</th>\n",
       "      <td>1999964</td>\n",
       "      <td>NaN</td>\n",
       "      <td>NaN</td>\n",
       "      <td>NaN</td>\n",
       "      <td>NaN</td>\n",
       "      <td>NaN</td>\n",
       "      <td>NaN</td>\n",
       "      <td>NaN</td>\n",
       "      <td>NaN</td>\n",
       "      <td>NaN</td>\n",
       "      <td>...</td>\n",
       "      <td>NaN</td>\n",
       "      <td>NaN</td>\n",
       "      <td>NaN</td>\n",
       "      <td>NaN</td>\n",
       "      <td>NaN</td>\n",
       "      <td>NaN</td>\n",
       "      <td>NaN</td>\n",
       "      <td>NaN</td>\n",
       "      <td>20</td>\n",
       "      <td>Novigrad</td>\n",
       "    </tr>\n",
       "  </tbody>\n",
       "</table>\n",
       "<p>2000000 rows × 43 columns</p>\n",
       "</div>"
      ],
      "text/plain": [
       "         customer_id  purchase_sum_sum__5d  purchase_sum_max__5d  \\\n",
       "0                  1            841.402345            841.402345   \n",
       "1                  6            949.027995            949.027995   \n",
       "2                 32           1290.046355           1290.046355   \n",
       "3                 43            706.528545            416.428582   \n",
       "4                 54           1345.761999           1345.761999   \n",
       "...              ...                   ...                   ...   \n",
       "1999995      1999882                   NaN                   NaN   \n",
       "1999996      1999893                   NaN                   NaN   \n",
       "1999997      1999904                   NaN                   NaN   \n",
       "1999998      1999948                   NaN                   NaN   \n",
       "1999999      1999964                   NaN                   NaN   \n",
       "\n",
       "         purchase_sum_min__5d  purchase_sum_mean__5d  discount_sum__5d  \\\n",
       "0                  841.402345             841.402345               0.0   \n",
       "1                  949.027995             949.027995               0.0   \n",
       "2                 1290.046355            1290.046355               0.0   \n",
       "3                  290.099962             353.264272               0.0   \n",
       "4                 1345.761999            1345.761999               0.0   \n",
       "...                       ...                    ...               ...   \n",
       "1999995                   NaN                    NaN               NaN   \n",
       "1999996                   NaN                    NaN               NaN   \n",
       "1999997                   NaN                    NaN               NaN   \n",
       "1999998                   NaN                    NaN               NaN   \n",
       "1999999                   NaN                    NaN               NaN   \n",
       "\n",
       "         date_min__5d  date_max__5d  date_count__5d  mean_time_interval__5d  \\\n",
       "0               245.0         245.0             1.0                     NaN   \n",
       "1               245.0         245.0             1.0                     NaN   \n",
       "2               245.0         245.0             1.0                     NaN   \n",
       "3               245.0         249.0             2.0                     4.0   \n",
       "4               245.0         245.0             1.0                     NaN   \n",
       "...               ...           ...             ...                     ...   \n",
       "1999995           NaN           NaN             NaN                     NaN   \n",
       "1999996           NaN           NaN             NaN                     NaN   \n",
       "1999997           NaN           NaN             NaN                     NaN   \n",
       "1999998           NaN           NaN             NaN                     NaN   \n",
       "1999999           NaN           NaN             NaN                     NaN   \n",
       "\n",
       "         ...  purchase_sum_min__100d  purchase_sum_mean__100d  \\\n",
       "0        ...              676.339522               942.989648   \n",
       "1        ...              478.944819               919.874613   \n",
       "2        ...              384.712862              1121.586482   \n",
       "3        ...              290.099962               599.381424   \n",
       "4        ...              995.264707              1279.725781   \n",
       "...      ...                     ...                      ...   \n",
       "1999995  ...                     NaN                      NaN   \n",
       "1999996  ...                     NaN                      NaN   \n",
       "1999997  ...                     NaN                      NaN   \n",
       "1999998  ...                     NaN                      NaN   \n",
       "1999999  ...                     NaN                      NaN   \n",
       "\n",
       "         discount_sum__100d  date_min__100d  date_max__100d  date_count__100d  \\\n",
       "0                       0.0           157.0           245.0               5.0   \n",
       "1                       0.0           158.0           245.0               8.0   \n",
       "2                       0.0           171.0           245.0               5.0   \n",
       "3                       0.0           170.0           249.0              10.0   \n",
       "4                       0.0           173.0           245.0               3.0   \n",
       "...                     ...             ...             ...               ...   \n",
       "1999995                 NaN             NaN             NaN               NaN   \n",
       "1999996                 NaN             NaN             NaN               NaN   \n",
       "1999997                 NaN             NaN             NaN               NaN   \n",
       "1999998                 NaN             NaN             NaN               NaN   \n",
       "1999999                 NaN             NaN             NaN               NaN   \n",
       "\n",
       "         mean_time_interval__100d  time_since_last__100d  age      location  \n",
       "0                       22.000000                    5.0   53  Hindarsfjall  \n",
       "1                       12.428571                    5.0   57  Hindarsfjall  \n",
       "2                       18.500000                    5.0   53      Novigrad  \n",
       "3                        8.777778                    1.0   31   Crows_perch  \n",
       "4                       36.000000                    5.0   42  Hindarsfjall  \n",
       "...                           ...                    ...  ...           ...  \n",
       "1999995                       NaN                    NaN   58   Kaer_Trolde  \n",
       "1999996                       NaN                    NaN   69   Kaer_Trolde  \n",
       "1999997                       NaN                    NaN   42      Oxenfurt  \n",
       "1999998                       NaN                    NaN   21     Beauclair  \n",
       "1999999                       NaN                    NaN   20      Novigrad  \n",
       "\n",
       "[2000000 rows x 43 columns]"
      ]
     },
     "execution_count": 34,
     "metadata": {},
     "output_type": "execute_result"
    }
   ],
   "source": [
    "data_serve"
   ]
  },
  {
   "cell_type": "code",
   "execution_count": 35,
   "metadata": {
    "tags": []
   },
   "outputs": [
    {
     "data": {
      "text/html": [
       "<div>\n",
       "<style scoped>\n",
       "    .dataframe tbody tr th:only-of-type {\n",
       "        vertical-align: middle;\n",
       "    }\n",
       "\n",
       "    .dataframe tbody tr th {\n",
       "        vertical-align: top;\n",
       "    }\n",
       "\n",
       "    .dataframe thead th {\n",
       "        text-align: right;\n",
       "    }\n",
       "</style>\n",
       "<table border=\"1\" class=\"dataframe\">\n",
       "  <thead>\n",
       "    <tr style=\"text-align: right;\">\n",
       "      <th></th>\n",
       "      <th>customer_id</th>\n",
       "      <th>purchase_sum_sum__5d</th>\n",
       "      <th>purchase_sum_max__5d</th>\n",
       "      <th>purchase_sum_min__5d</th>\n",
       "      <th>purchase_sum_mean__5d</th>\n",
       "      <th>discount_sum__5d</th>\n",
       "      <th>date_min__5d</th>\n",
       "      <th>date_max__5d</th>\n",
       "      <th>date_count__5d</th>\n",
       "      <th>mean_time_interval__5d</th>\n",
       "      <th>...</th>\n",
       "      <th>purchase_sum_min__100d</th>\n",
       "      <th>purchase_sum_mean__100d</th>\n",
       "      <th>discount_sum__100d</th>\n",
       "      <th>date_min__100d</th>\n",
       "      <th>date_max__100d</th>\n",
       "      <th>date_count__100d</th>\n",
       "      <th>mean_time_interval__100d</th>\n",
       "      <th>time_since_last__100d</th>\n",
       "      <th>age</th>\n",
       "      <th>location</th>\n",
       "    </tr>\n",
       "  </thead>\n",
       "  <tbody>\n",
       "    <tr>\n",
       "      <th>0</th>\n",
       "      <td>1</td>\n",
       "      <td>841.402345</td>\n",
       "      <td>841.402345</td>\n",
       "      <td>841.402345</td>\n",
       "      <td>841.402345</td>\n",
       "      <td>0.0</td>\n",
       "      <td>245.0</td>\n",
       "      <td>245.0</td>\n",
       "      <td>1.0</td>\n",
       "      <td>NaN</td>\n",
       "      <td>...</td>\n",
       "      <td>676.339522</td>\n",
       "      <td>942.989648</td>\n",
       "      <td>0.0</td>\n",
       "      <td>157.0</td>\n",
       "      <td>245.0</td>\n",
       "      <td>5.0</td>\n",
       "      <td>22.000000</td>\n",
       "      <td>5.0</td>\n",
       "      <td>53</td>\n",
       "      <td>Hindarsfjall</td>\n",
       "    </tr>\n",
       "    <tr>\n",
       "      <th>1</th>\n",
       "      <td>6</td>\n",
       "      <td>949.027995</td>\n",
       "      <td>949.027995</td>\n",
       "      <td>949.027995</td>\n",
       "      <td>949.027995</td>\n",
       "      <td>0.0</td>\n",
       "      <td>245.0</td>\n",
       "      <td>245.0</td>\n",
       "      <td>1.0</td>\n",
       "      <td>NaN</td>\n",
       "      <td>...</td>\n",
       "      <td>478.944819</td>\n",
       "      <td>919.874613</td>\n",
       "      <td>0.0</td>\n",
       "      <td>158.0</td>\n",
       "      <td>245.0</td>\n",
       "      <td>8.0</td>\n",
       "      <td>12.428571</td>\n",
       "      <td>5.0</td>\n",
       "      <td>57</td>\n",
       "      <td>Hindarsfjall</td>\n",
       "    </tr>\n",
       "    <tr>\n",
       "      <th>2</th>\n",
       "      <td>32</td>\n",
       "      <td>1290.046355</td>\n",
       "      <td>1290.046355</td>\n",
       "      <td>1290.046355</td>\n",
       "      <td>1290.046355</td>\n",
       "      <td>0.0</td>\n",
       "      <td>245.0</td>\n",
       "      <td>245.0</td>\n",
       "      <td>1.0</td>\n",
       "      <td>NaN</td>\n",
       "      <td>...</td>\n",
       "      <td>384.712862</td>\n",
       "      <td>1121.586482</td>\n",
       "      <td>0.0</td>\n",
       "      <td>171.0</td>\n",
       "      <td>245.0</td>\n",
       "      <td>5.0</td>\n",
       "      <td>18.500000</td>\n",
       "      <td>5.0</td>\n",
       "      <td>53</td>\n",
       "      <td>Novigrad</td>\n",
       "    </tr>\n",
       "    <tr>\n",
       "      <th>3</th>\n",
       "      <td>43</td>\n",
       "      <td>706.528545</td>\n",
       "      <td>416.428582</td>\n",
       "      <td>290.099962</td>\n",
       "      <td>353.264272</td>\n",
       "      <td>0.0</td>\n",
       "      <td>245.0</td>\n",
       "      <td>249.0</td>\n",
       "      <td>2.0</td>\n",
       "      <td>4.0</td>\n",
       "      <td>...</td>\n",
       "      <td>290.099962</td>\n",
       "      <td>599.381424</td>\n",
       "      <td>0.0</td>\n",
       "      <td>170.0</td>\n",
       "      <td>249.0</td>\n",
       "      <td>10.0</td>\n",
       "      <td>8.777778</td>\n",
       "      <td>1.0</td>\n",
       "      <td>31</td>\n",
       "      <td>Crows_perch</td>\n",
       "    </tr>\n",
       "    <tr>\n",
       "      <th>4</th>\n",
       "      <td>54</td>\n",
       "      <td>1345.761999</td>\n",
       "      <td>1345.761999</td>\n",
       "      <td>1345.761999</td>\n",
       "      <td>1345.761999</td>\n",
       "      <td>0.0</td>\n",
       "      <td>245.0</td>\n",
       "      <td>245.0</td>\n",
       "      <td>1.0</td>\n",
       "      <td>NaN</td>\n",
       "      <td>...</td>\n",
       "      <td>995.264707</td>\n",
       "      <td>1279.725781</td>\n",
       "      <td>0.0</td>\n",
       "      <td>173.0</td>\n",
       "      <td>245.0</td>\n",
       "      <td>3.0</td>\n",
       "      <td>36.000000</td>\n",
       "      <td>5.0</td>\n",
       "      <td>42</td>\n",
       "      <td>Hindarsfjall</td>\n",
       "    </tr>\n",
       "  </tbody>\n",
       "</table>\n",
       "<p>5 rows × 43 columns</p>\n",
       "</div>"
      ],
      "text/plain": [
       "   customer_id  purchase_sum_sum__5d  purchase_sum_max__5d  \\\n",
       "0            1            841.402345            841.402345   \n",
       "1            6            949.027995            949.027995   \n",
       "2           32           1290.046355           1290.046355   \n",
       "3           43            706.528545            416.428582   \n",
       "4           54           1345.761999           1345.761999   \n",
       "\n",
       "   purchase_sum_min__5d  purchase_sum_mean__5d  discount_sum__5d  \\\n",
       "0            841.402345             841.402345               0.0   \n",
       "1            949.027995             949.027995               0.0   \n",
       "2           1290.046355            1290.046355               0.0   \n",
       "3            290.099962             353.264272               0.0   \n",
       "4           1345.761999            1345.761999               0.0   \n",
       "\n",
       "   date_min__5d  date_max__5d  date_count__5d  mean_time_interval__5d  ...  \\\n",
       "0         245.0         245.0             1.0                     NaN  ...   \n",
       "1         245.0         245.0             1.0                     NaN  ...   \n",
       "2         245.0         245.0             1.0                     NaN  ...   \n",
       "3         245.0         249.0             2.0                     4.0  ...   \n",
       "4         245.0         245.0             1.0                     NaN  ...   \n",
       "\n",
       "   purchase_sum_min__100d  purchase_sum_mean__100d  discount_sum__100d  \\\n",
       "0              676.339522               942.989648                 0.0   \n",
       "1              478.944819               919.874613                 0.0   \n",
       "2              384.712862              1121.586482                 0.0   \n",
       "3              290.099962               599.381424                 0.0   \n",
       "4              995.264707              1279.725781                 0.0   \n",
       "\n",
       "   date_min__100d  date_max__100d  date_count__100d  mean_time_interval__100d  \\\n",
       "0           157.0           245.0               5.0                 22.000000   \n",
       "1           158.0           245.0               8.0                 12.428571   \n",
       "2           171.0           245.0               5.0                 18.500000   \n",
       "3           170.0           249.0              10.0                  8.777778   \n",
       "4           173.0           245.0               3.0                 36.000000   \n",
       "\n",
       "   time_since_last__100d  age      location  \n",
       "0                    5.0   53  Hindarsfjall  \n",
       "1                    5.0   57  Hindarsfjall  \n",
       "2                    5.0   53      Novigrad  \n",
       "3                    1.0   31   Crows_perch  \n",
       "4                    5.0   42  Hindarsfjall  \n",
       "\n",
       "[5 rows x 43 columns]"
      ]
     },
     "execution_count": 35,
     "metadata": {},
     "output_type": "execute_result"
    }
   ],
   "source": [
    "data_serve.head()"
   ]
  },
  {
   "cell_type": "markdown",
   "metadata": {
    "heading_collapsed": true
   },
   "source": [
    "### column sets"
   ]
  },
  {
   "cell_type": "code",
   "execution_count": 36,
   "metadata": {
    "ExecuteTime": {
     "end_time": "2021-05-31T15:36:27.690729Z",
     "start_time": "2021-05-31T15:36:27.687939Z"
    },
    "hidden": true
   },
   "outputs": [],
   "source": [
    "cols_features_n1 = [\n",
    "    'date_count__100d',\n",
    "    'purchase_sum_sum__100d',\n",
    "    'purchase_sum_max__100d',\n",
    "    'purchase_sum_min__100d',\n",
    "    'purchase_sum_mean__100d',\n",
    "    'mean_time_interval__100d',\n",
    "    'time_since_last__100d',\n",
    "    'date_count__5d',\n",
    "    'purchase_sum_sum__5d',\n",
    "    'purchase_sum_max__5d',\n",
    "    'purchase_sum_min__5d',\n",
    "    'purchase_sum_mean__5d',\n",
    "    'mean_time_interval__5d',\n",
    "    'age'\n",
    "]"
   ]
  },
  {
   "cell_type": "code",
   "execution_count": null,
   "metadata": {
    "hidden": true
   },
   "outputs": [],
   "source": []
  },
  {
   "cell_type": "markdown",
   "metadata": {},
   "source": [
    "## Main"
   ]
  },
  {
   "cell_type": "markdown",
   "metadata": {},
   "source": [
    "### EDA"
   ]
  },
  {
   "cell_type": "code",
   "execution_count": 37,
   "metadata": {
    "ExecuteTime": {
     "end_time": "2021-05-31T15:04:55.164475Z",
     "start_time": "2021-05-31T15:04:51.679712Z"
    }
   },
   "outputs": [
    {
     "data": {
      "text/html": [
       "<div>\n",
       "<style scoped>\n",
       "    .dataframe tbody tr th:only-of-type {\n",
       "        vertical-align: middle;\n",
       "    }\n",
       "\n",
       "    .dataframe tbody tr th {\n",
       "        vertical-align: top;\n",
       "    }\n",
       "\n",
       "    .dataframe thead th {\n",
       "        text-align: right;\n",
       "    }\n",
       "</style>\n",
       "<table border=\"1\" class=\"dataframe\">\n",
       "  <thead>\n",
       "    <tr style=\"text-align: right;\">\n",
       "      <th></th>\n",
       "      <th>target_profit</th>\n",
       "      <th>target__purchase_sum_sum__30d</th>\n",
       "      <th>target__discount_sum__30d</th>\n",
       "      <th>customer_id</th>\n",
       "    </tr>\n",
       "    <tr>\n",
       "      <th>target_group_flag</th>\n",
       "      <th></th>\n",
       "      <th></th>\n",
       "      <th></th>\n",
       "      <th></th>\n",
       "    </tr>\n",
       "  </thead>\n",
       "  <tbody>\n",
       "    <tr>\n",
       "      <th>0.0</th>\n",
       "      <td>877.410762</td>\n",
       "      <td>3085.212375</td>\n",
       "      <td>0.000000</td>\n",
       "      <td>749414</td>\n",
       "    </tr>\n",
       "    <tr>\n",
       "      <th>1.0</th>\n",
       "      <td>875.012598</td>\n",
       "      <td>3080.829310</td>\n",
       "      <td>21.855912</td>\n",
       "      <td>250586</td>\n",
       "    </tr>\n",
       "  </tbody>\n",
       "</table>\n",
       "</div>"
      ],
      "text/plain": [
       "                   target_profit  target__purchase_sum_sum__30d  \\\n",
       "target_group_flag                                                 \n",
       "0.0                   877.410762                    3085.212375   \n",
       "1.0                   875.012598                    3080.829310   \n",
       "\n",
       "                   target__discount_sum__30d  customer_id  \n",
       "target_group_flag                                          \n",
       "0.0                                 0.000000       749414  \n",
       "1.0                                21.855912       250586  "
      ]
     },
     "execution_count": 37,
     "metadata": {},
     "output_type": "execute_result"
    }
   ],
   "source": [
    "data_train.loc[fit_index].groupby(by=['target_group_flag']).agg({\n",
    "    'target_profit': 'mean',\n",
    "    'target__purchase_sum_sum__30d': 'mean',\n",
    "    'target__discount_sum__30d': 'mean',\n",
    "    'customer_id': 'count',\n",
    "})"
   ]
  },
  {
   "cell_type": "code",
   "execution_count": 38,
   "metadata": {
    "ExecuteTime": {
     "end_time": "2021-05-31T15:18:54.749615Z",
     "start_time": "2021-05-31T15:18:54.256343Z"
    }
   },
   "outputs": [
    {
     "data": {
      "text/html": [
       "<div>\n",
       "<style scoped>\n",
       "    .dataframe tbody tr th:only-of-type {\n",
       "        vertical-align: middle;\n",
       "    }\n",
       "\n",
       "    .dataframe tbody tr th {\n",
       "        vertical-align: top;\n",
       "    }\n",
       "\n",
       "    .dataframe thead th {\n",
       "        text-align: right;\n",
       "    }\n",
       "</style>\n",
       "<table border=\"1\" class=\"dataframe\">\n",
       "  <thead>\n",
       "    <tr style=\"text-align: right;\">\n",
       "      <th></th>\n",
       "      <th>missing</th>\n",
       "      <th>total</th>\n",
       "      <th>percent</th>\n",
       "    </tr>\n",
       "  </thead>\n",
       "  <tbody>\n",
       "    <tr>\n",
       "      <th>mean_time_interval__5d</th>\n",
       "      <td>1970933</td>\n",
       "      <td>2000000</td>\n",
       "      <td>98.54665</td>\n",
       "    </tr>\n",
       "    <tr>\n",
       "      <th>target__mean_time_interval__7d</th>\n",
       "      <td>1922763</td>\n",
       "      <td>2000000</td>\n",
       "      <td>96.13815</td>\n",
       "    </tr>\n",
       "    <tr>\n",
       "      <th>n_offer_days</th>\n",
       "      <td>1500000</td>\n",
       "      <td>2000000</td>\n",
       "      <td>75.00000</td>\n",
       "    </tr>\n",
       "    <tr>\n",
       "      <th>campaign_date</th>\n",
       "      <td>1500000</td>\n",
       "      <td>2000000</td>\n",
       "      <td>75.00000</td>\n",
       "    </tr>\n",
       "    <tr>\n",
       "      <th>mean_time_interval__15d</th>\n",
       "      <td>1499398</td>\n",
       "      <td>2000000</td>\n",
       "      <td>74.96990</td>\n",
       "    </tr>\n",
       "    <tr>\n",
       "      <th>...</th>\n",
       "      <td>...</td>\n",
       "      <td>...</td>\n",
       "      <td>...</td>\n",
       "    </tr>\n",
       "    <tr>\n",
       "      <th>target_group_flag</th>\n",
       "      <td>0</td>\n",
       "      <td>2000000</td>\n",
       "      <td>0.00000</td>\n",
       "    </tr>\n",
       "    <tr>\n",
       "      <th>customer_id</th>\n",
       "      <td>0</td>\n",
       "      <td>2000000</td>\n",
       "      <td>0.00000</td>\n",
       "    </tr>\n",
       "    <tr>\n",
       "      <th>location</th>\n",
       "      <td>0</td>\n",
       "      <td>2000000</td>\n",
       "      <td>0.00000</td>\n",
       "    </tr>\n",
       "    <tr>\n",
       "      <th>age</th>\n",
       "      <td>0</td>\n",
       "      <td>2000000</td>\n",
       "      <td>0.00000</td>\n",
       "    </tr>\n",
       "    <tr>\n",
       "      <th>target_profit</th>\n",
       "      <td>0</td>\n",
       "      <td>2000000</td>\n",
       "      <td>0.00000</td>\n",
       "    </tr>\n",
       "  </tbody>\n",
       "</table>\n",
       "<p>67 rows × 3 columns</p>\n",
       "</div>"
      ],
      "text/plain": [
       "                                missing    total   percent\n",
       "mean_time_interval__5d          1970933  2000000  98.54665\n",
       "target__mean_time_interval__7d  1922763  2000000  96.13815\n",
       "n_offer_days                    1500000  2000000  75.00000\n",
       "campaign_date                   1500000  2000000  75.00000\n",
       "mean_time_interval__15d         1499398  2000000  74.96990\n",
       "...                                 ...      ...       ...\n",
       "target_group_flag                     0  2000000   0.00000\n",
       "customer_id                           0  2000000   0.00000\n",
       "location                              0  2000000   0.00000\n",
       "age                                   0  2000000   0.00000\n",
       "target_profit                         0  2000000   0.00000\n",
       "\n",
       "[67 rows x 3 columns]"
      ]
     },
     "execution_count": 38,
     "metadata": {},
     "output_type": "execute_result"
    }
   ],
   "source": [
    "data_train.stb.missing()"
   ]
  },
  {
   "cell_type": "code",
   "execution_count": null,
   "metadata": {},
   "outputs": [],
   "source": []
  },
  {
   "cell_type": "markdown",
   "metadata": {},
   "source": [
    "### model"
   ]
  },
  {
   "cell_type": "code",
   "execution_count": 39,
   "metadata": {
    "ExecuteTime": {
     "end_time": "2021-05-31T15:01:46.835960Z",
     "start_time": "2021-05-31T15:01:46.833702Z"
    }
   },
   "outputs": [],
   "source": [
    "col_target = 'target_profit'\n",
    "col_treatment = 'target_group_flag'"
   ]
  },
  {
   "cell_type": "code",
   "execution_count": 40,
   "metadata": {
    "ExecuteTime": {
     "end_time": "2021-05-31T15:12:59.211482Z",
     "start_time": "2021-05-31T15:12:59.209003Z"
    }
   },
   "outputs": [],
   "source": [
    "cols_features = cols_features_n1"
   ]
  },
  {
   "cell_type": "code",
   "execution_count": 41,
   "metadata": {
    "ExecuteTime": {
     "end_time": "2021-05-31T15:21:12.359703Z",
     "start_time": "2021-05-31T15:21:12.356771Z"
    }
   },
   "outputs": [],
   "source": [
    "model_n1 = rlearner.BaseRRegressor(\n",
    "    learner=lgb.LGBMRegressor(),\n",
    "    control_name=0,\n",
    "    n_fold=4,\n",
    "    random_state=165\n",
    ")"
   ]
  },
  {
   "cell_type": "code",
   "execution_count": 42,
   "metadata": {
    "tags": []
   },
   "outputs": [],
   "source": [
    "_p_score_const = data_train.loc[fit_index, col_treatment].value_counts(normalize=True).loc[1]\n",
    "_p_scores = pd.Series(data=_p_score_const, index=fit_index)"
   ]
  },
  {
   "cell_type": "code",
   "execution_count": 43,
   "metadata": {
    "tags": []
   },
   "outputs": [
    {
     "data": {
      "text/plain": [
       "target_group_flag\n",
       "0.0    749414\n",
       "1.0    250586\n",
       "Name: count, dtype: int64"
      ]
     },
     "execution_count": 43,
     "metadata": {},
     "output_type": "execute_result"
    }
   ],
   "source": [
    "data_train.loc[fit_index, col_treatment].value_counts()"
   ]
  },
  {
   "cell_type": "code",
   "execution_count": 44,
   "metadata": {
    "tags": []
   },
   "outputs": [
    {
     "data": {
      "text/plain": [
       "250586"
      ]
     },
     "execution_count": 44,
     "metadata": {},
     "output_type": "execute_result"
    }
   ],
   "source": [
    "data_train.loc[fit_index, col_treatment].value_counts().loc[1]"
   ]
  },
  {
   "cell_type": "code",
   "execution_count": 45,
   "metadata": {
    "tags": []
   },
   "outputs": [
    {
     "data": {
      "text/html": [
       "<div>\n",
       "<style scoped>\n",
       "    .dataframe tbody tr th:only-of-type {\n",
       "        vertical-align: middle;\n",
       "    }\n",
       "\n",
       "    .dataframe tbody tr th {\n",
       "        vertical-align: top;\n",
       "    }\n",
       "\n",
       "    .dataframe thead th {\n",
       "        text-align: right;\n",
       "    }\n",
       "</style>\n",
       "<table border=\"1\" class=\"dataframe\">\n",
       "  <thead>\n",
       "    <tr style=\"text-align: right;\">\n",
       "      <th></th>\n",
       "      <th>date_count__100d</th>\n",
       "      <th>purchase_sum_sum__100d</th>\n",
       "      <th>purchase_sum_max__100d</th>\n",
       "      <th>purchase_sum_min__100d</th>\n",
       "      <th>purchase_sum_mean__100d</th>\n",
       "      <th>mean_time_interval__100d</th>\n",
       "      <th>time_since_last__100d</th>\n",
       "      <th>date_count__5d</th>\n",
       "      <th>purchase_sum_sum__5d</th>\n",
       "      <th>purchase_sum_max__5d</th>\n",
       "      <th>purchase_sum_min__5d</th>\n",
       "      <th>purchase_sum_mean__5d</th>\n",
       "      <th>mean_time_interval__5d</th>\n",
       "      <th>age</th>\n",
       "    </tr>\n",
       "  </thead>\n",
       "  <tbody>\n",
       "    <tr>\n",
       "      <th>839678</th>\n",
       "      <td>7.0</td>\n",
       "      <td>11852.196209</td>\n",
       "      <td>2431.114226</td>\n",
       "      <td>820.003892</td>\n",
       "      <td>1693.170887</td>\n",
       "      <td>14.666667</td>\n",
       "      <td>12.0</td>\n",
       "      <td>NaN</td>\n",
       "      <td>NaN</td>\n",
       "      <td>NaN</td>\n",
       "      <td>NaN</td>\n",
       "      <td>NaN</td>\n",
       "      <td>NaN</td>\n",
       "      <td>51</td>\n",
       "    </tr>\n",
       "    <tr>\n",
       "      <th>318679</th>\n",
       "      <td>13.0</td>\n",
       "      <td>8851.768636</td>\n",
       "      <td>1024.263957</td>\n",
       "      <td>103.006347</td>\n",
       "      <td>680.905280</td>\n",
       "      <td>7.750000</td>\n",
       "      <td>2.0</td>\n",
       "      <td>2.0</td>\n",
       "      <td>1002.020874</td>\n",
       "      <td>899.014526</td>\n",
       "      <td>103.006347</td>\n",
       "      <td>501.010437</td>\n",
       "      <td>1.0</td>\n",
       "      <td>36</td>\n",
       "    </tr>\n",
       "    <tr>\n",
       "      <th>1001194</th>\n",
       "      <td>12.0</td>\n",
       "      <td>14934.039836</td>\n",
       "      <td>2135.092251</td>\n",
       "      <td>180.175383</td>\n",
       "      <td>1244.503320</td>\n",
       "      <td>8.000000</td>\n",
       "      <td>10.0</td>\n",
       "      <td>NaN</td>\n",
       "      <td>NaN</td>\n",
       "      <td>NaN</td>\n",
       "      <td>NaN</td>\n",
       "      <td>NaN</td>\n",
       "      <td>NaN</td>\n",
       "      <td>49</td>\n",
       "    </tr>\n",
       "    <tr>\n",
       "      <th>15776</th>\n",
       "      <td>5.0</td>\n",
       "      <td>5476.392579</td>\n",
       "      <td>1599.735509</td>\n",
       "      <td>592.201182</td>\n",
       "      <td>1095.278516</td>\n",
       "      <td>22.500000</td>\n",
       "      <td>5.0</td>\n",
       "      <td>1.0</td>\n",
       "      <td>1599.735509</td>\n",
       "      <td>1599.735509</td>\n",
       "      <td>1599.735509</td>\n",
       "      <td>1599.735509</td>\n",
       "      <td>NaN</td>\n",
       "      <td>36</td>\n",
       "    </tr>\n",
       "    <tr>\n",
       "      <th>1173764</th>\n",
       "      <td>5.0</td>\n",
       "      <td>2823.362972</td>\n",
       "      <td>900.848067</td>\n",
       "      <td>241.271029</td>\n",
       "      <td>564.672594</td>\n",
       "      <td>21.500000</td>\n",
       "      <td>7.0</td>\n",
       "      <td>NaN</td>\n",
       "      <td>NaN</td>\n",
       "      <td>NaN</td>\n",
       "      <td>NaN</td>\n",
       "      <td>NaN</td>\n",
       "      <td>NaN</td>\n",
       "      <td>20</td>\n",
       "    </tr>\n",
       "  </tbody>\n",
       "</table>\n",
       "</div>"
      ],
      "text/plain": [
       "         date_count__100d  purchase_sum_sum__100d  purchase_sum_max__100d  \\\n",
       "839678                7.0            11852.196209             2431.114226   \n",
       "318679               13.0             8851.768636             1024.263957   \n",
       "1001194              12.0            14934.039836             2135.092251   \n",
       "15776                 5.0             5476.392579             1599.735509   \n",
       "1173764               5.0             2823.362972              900.848067   \n",
       "\n",
       "         purchase_sum_min__100d  purchase_sum_mean__100d  \\\n",
       "839678               820.003892              1693.170887   \n",
       "318679               103.006347               680.905280   \n",
       "1001194              180.175383              1244.503320   \n",
       "15776                592.201182              1095.278516   \n",
       "1173764              241.271029               564.672594   \n",
       "\n",
       "         mean_time_interval__100d  time_since_last__100d  date_count__5d  \\\n",
       "839678                  14.666667                   12.0             NaN   \n",
       "318679                   7.750000                    2.0             2.0   \n",
       "1001194                  8.000000                   10.0             NaN   \n",
       "15776                   22.500000                    5.0             1.0   \n",
       "1173764                 21.500000                    7.0             NaN   \n",
       "\n",
       "         purchase_sum_sum__5d  purchase_sum_max__5d  purchase_sum_min__5d  \\\n",
       "839678                    NaN                   NaN                   NaN   \n",
       "318679            1002.020874            899.014526            103.006347   \n",
       "1001194                   NaN                   NaN                   NaN   \n",
       "15776             1599.735509           1599.735509           1599.735509   \n",
       "1173764                   NaN                   NaN                   NaN   \n",
       "\n",
       "         purchase_sum_mean__5d  mean_time_interval__5d  age  \n",
       "839678                     NaN                     NaN   51  \n",
       "318679              501.010437                     1.0   36  \n",
       "1001194                    NaN                     NaN   49  \n",
       "15776              1599.735509                     NaN   36  \n",
       "1173764                    NaN                     NaN   20  "
      ]
     },
     "execution_count": 45,
     "metadata": {},
     "output_type": "execute_result"
    }
   ],
   "source": [
    "data_train.loc[fit_index, cols_features].head()"
   ]
  },
  {
   "cell_type": "code",
   "execution_count": 62,
   "metadata": {
    "tags": []
   },
   "outputs": [
    {
     "data": {
      "text/plain": [
       "Index(['date_count__100d', 'purchase_sum_sum__100d', 'purchase_sum_max__100d',\n",
       "       'purchase_sum_min__100d', 'purchase_sum_mean__100d',\n",
       "       'mean_time_interval__100d', 'time_since_last__100d', 'date_count__5d',\n",
       "       'purchase_sum_sum__5d', 'purchase_sum_max__5d', 'purchase_sum_min__5d',\n",
       "       'purchase_sum_mean__5d', 'mean_time_interval__5d', 'age'],\n",
       "      dtype='object')"
      ]
     },
     "execution_count": 62,
     "metadata": {},
     "output_type": "execute_result"
    }
   ],
   "source": [
    "data_train[cols_features].columns"
   ]
  },
  {
   "cell_type": "code",
   "execution_count": 46,
   "metadata": {
    "ExecuteTime": {
     "end_time": "2021-05-31T15:21:24.168437Z",
     "start_time": "2021-05-31T15:21:12.580042Z"
    }
   },
   "outputs": [
    {
     "name": "stdout",
     "output_type": "stream",
     "text": [
      "[LightGBM] [Info] Auto-choosing row-wise multi-threading, the overhead of testing was 0.324578 seconds.\n",
      "You can set `force_row_wise=true` to remove the overhead.\n",
      "And if memory is not enough, you can set `force_col_wise=true`.\n",
      "[LightGBM] [Info] Total Bins 2483\n",
      "[LightGBM] [Info] Number of data points in the train set: 1000000, number of used features: 14\n",
      "[LightGBM] [Info] Start training from score -2.531076\n"
     ]
    }
   ],
   "source": [
    "_p_score_const = data_train.loc[fit_index, col_treatment].value_counts(normalize=True).loc[1]\n",
    "_p_scores = pd.Series(data=_p_score_const, index=fit_index)\n",
    "model_n1.fit(\n",
    "    X=data_train.loc[fit_index, cols_features].fillna(0).values,\n",
    "    treatment=data_train.loc[fit_index, col_treatment].values,\n",
    "    y=data_train.loc[fit_index, col_target].values,\n",
    "    p=_p_scores\n",
    ")"
   ]
  },
  {
   "cell_type": "code",
   "execution_count": 47,
   "metadata": {
    "tags": []
   },
   "outputs": [
    {
     "data": {
      "text/plain": [
       "'target_profit'"
      ]
     },
     "execution_count": 47,
     "metadata": {},
     "output_type": "execute_result"
    }
   ],
   "source": [
    "col_target"
   ]
  },
  {
   "cell_type": "markdown",
   "metadata": {},
   "source": [
    "#### evaluate model"
   ]
  },
  {
   "cell_type": "code",
   "execution_count": 48,
   "metadata": {
    "ExecuteTime": {
     "end_time": "2021-05-31T15:22:19.029677Z",
     "start_time": "2021-05-31T15:22:18.078191Z"
    }
   },
   "outputs": [],
   "source": [
    "_eval_data = data_train.loc[val_index, cols_features + [col_treatment, col_target]]\n",
    "_eval_data['score'] = model_n1.predict(_eval_data[cols_features])\n",
    "_eval_data = _eval_data[['score', col_treatment, col_target]]"
   ]
  },
  {
   "cell_type": "code",
   "execution_count": 49,
   "metadata": {
    "ExecuteTime": {
     "end_time": "2021-05-31T15:22:44.984338Z",
     "start_time": "2021-05-31T15:22:44.636127Z"
    }
   },
   "outputs": [
    {
     "data": {
      "image/png": "[encoded data removed]",
      "text/plain": [
       "<Figure size 1000x600 with 1 Axes>"
      ]
     },
     "metadata": {},
     "output_type": "display_data"
    }
   ],
   "source": [
    "plt.figure(figsize=(10, 6))\n",
    "plt.hist(_eval_data['score'], bins=20)\n",
    "plt.show()"
   ]
  },
  {
   "cell_type": "code",
   "execution_count": 50,
   "metadata": {
    "ExecuteTime": {
     "end_time": "2021-05-31T15:23:07.569371Z",
     "start_time": "2021-05-31T15:23:07.297117Z"
    }
   },
   "outputs": [
    {
     "data": {
      "image/png": "[encoded data removed]",
      "text/plain": [
       "<Figure size 1000x600 with 1 Axes>"
      ]
     },
     "metadata": {},
     "output_type": "display_data"
    }
   ],
   "source": [
    "plt.figure(figsize=(10, 6))\n",
    "plt.hist(_eval_data['score'], bins=100, range=(-50, 50))\n",
    "plt.show()"
   ]
  },
  {
   "cell_type": "code",
   "execution_count": 51,
   "metadata": {
    "ExecuteTime": {
     "end_time": "2021-05-31T15:23:19.225781Z",
     "start_time": "2021-05-31T15:23:19.204783Z"
    },
    "tags": []
   },
   "outputs": [
    {
     "data": {
      "text/plain": [
       "-27.277112574926004"
      ]
     },
     "execution_count": 51,
     "metadata": {},
     "output_type": "execute_result"
    }
   ],
   "source": [
    "np.percentile(_eval_data['score'], 5)"
   ]
  },
  {
   "cell_type": "code",
   "execution_count": 52,
   "metadata": {
    "ExecuteTime": {
     "end_time": "2021-05-31T15:23:20.746242Z",
     "start_time": "2021-05-31T15:23:20.734618Z"
    }
   },
   "outputs": [
    {
     "data": {
      "text/plain": [
       "23.64571942452336"
      ]
     },
     "execution_count": 52,
     "metadata": {},
     "output_type": "execute_result"
    }
   ],
   "source": [
    "np.percentile(_eval_data['score'], 95)"
   ]
  },
  {
   "cell_type": "code",
   "execution_count": 53,
   "metadata": {
    "ExecuteTime": {
     "end_time": "2021-05-31T15:23:53.834157Z",
     "start_time": "2021-05-31T15:23:53.789686Z"
    }
   },
   "outputs": [
    {
     "data": {
      "text/plain": [
       "count    1000000.000000\n",
       "mean          -2.600219\n",
       "std           30.532790\n",
       "min         -819.318235\n",
       "25%          -16.991519\n",
       "50%           -3.586985\n",
       "75%           10.014556\n",
       "max         1046.801232\n",
       "Name: score, dtype: float64"
      ]
     },
     "execution_count": 53,
     "metadata": {},
     "output_type": "execute_result"
    }
   ],
   "source": [
    "_eval_data['score'].describe()"
   ]
  },
  {
   "cell_type": "code",
   "execution_count": 54,
   "metadata": {},
   "outputs": [
    {
     "data": {
      "image/png": "[encoded data removed]",
      "text/plain": [
       "<Figure size 800x800 with 1 Axes>"
      ]
     },
     "metadata": {},
     "output_type": "display_data"
    }
   ],
   "source": [
    "cmetrics.plot_gain(\n",
    "    _eval_data,\n",
    "    treatment_col=col_treatment,\n",
    "    outcome_col=col_target,\n",
    ")"
   ]
  },
  {
   "cell_type": "code",
   "execution_count": 55,
   "metadata": {
    "ExecuteTime": {
     "end_time": "2021-05-31T15:24:03.423751Z",
     "start_time": "2021-05-31T15:23:59.255618Z"
    }
   },
   "outputs": [
    {
     "data": {
      "image/png": "[encoded data removed]",
      "text/plain": [
       "<Figure size 800x800 with 1 Axes>"
      ]
     },
     "metadata": {},
     "output_type": "display_data"
    }
   ],
   "source": [
    "cmetrics.plot_gain(\n",
    "    _eval_data,\n",
    "    treatment_col=col_treatment,\n",
    "    outcome_col=col_target,\n",
    ")"
   ]
  },
  {
   "cell_type": "code",
   "execution_count": null,
   "metadata": {},
   "outputs": [],
   "source": []
  },
  {
   "cell_type": "markdown",
   "metadata": {},
   "source": [
    "### decisions"
   ]
  },
  {
   "cell_type": "code",
   "execution_count": 56,
   "metadata": {
    "ExecuteTime": {
     "end_time": "2021-05-31T15:39:20.289335Z",
     "start_time": "2021-05-31T15:39:19.393822Z"
    }
   },
   "outputs": [],
   "source": [
    "data_serve['model_n1_pred'] = model_n1.predict(data_serve[cols_features_n1])"
   ]
  },
  {
   "cell_type": "code",
   "execution_count": 57,
   "metadata": {
    "ExecuteTime": {
     "end_time": "2021-05-31T16:32:22.219410Z",
     "start_time": "2021-05-31T16:32:22.095674Z"
    }
   },
   "outputs": [
    {
     "data": {
      "text/plain": [
       "count    2.000000e+06\n",
       "mean    -2.602779e+00\n",
       "std      3.080941e+01\n",
       "min     -9.219294e+02\n",
       "25%     -1.699151e+01\n",
       "50%     -3.586985e+00\n",
       "75%      1.000874e+01\n",
       "max      1.048260e+03\n",
       "Name: model_n1_pred, dtype: float64"
      ]
     },
     "execution_count": 57,
     "metadata": {},
     "output_type": "execute_result"
    }
   ],
   "source": [
    "data_serve['model_n1_pred'].describe()"
   ]
  },
  {
   "cell_type": "code",
   "execution_count": 58,
   "metadata": {
    "ExecuteTime": {
     "end_time": "2021-05-31T15:39:23.548539Z",
     "start_time": "2021-05-31T15:39:23.281422Z"
    }
   },
   "outputs": [
    {
     "data": {
      "image/png": "[encoded data removed]",
      "text/plain": [
       "<Figure size 1000x600 with 1 Axes>"
      ]
     },
     "metadata": {},
     "output_type": "display_data"
    }
   ],
   "source": [
    "plt.figure(figsize=(10, 6))\n",
    "plt.hist(data_serve['model_n1_pred'], bins=100, range=(-50, 50))\n",
    "plt.show()"
   ]
  },
  {
   "cell_type": "code",
   "execution_count": 59,
   "metadata": {
    "ExecuteTime": {
     "end_time": "2021-05-31T15:39:30.248229Z",
     "start_time": "2021-05-31T15:39:30.240207Z"
    }
   },
   "outputs": [
    {
     "data": {
      "text/plain": [
       "0.383612"
      ]
     },
     "execution_count": 59,
     "metadata": {},
     "output_type": "execute_result"
    }
   ],
   "source": [
    "(data_serve['model_n1_pred'] > 5.0).mean()"
   ]
  },
  {
   "cell_type": "code",
   "execution_count": null,
   "metadata": {
    "ExecuteTime": {
     "end_time": "2021-05-31T15:42:48.412873Z",
     "start_time": "2021-05-31T15:42:47.412407Z"
    }
   },
   "outputs": [],
   "source": [
    "#data_serve[data_serve['model_n1_pred'] > 5.0]['customer_id'].to_csv('submission_n1.csv', index=None)"
   ]
  },
  {
   "cell_type": "code",
   "execution_count": null,
   "metadata": {},
   "outputs": [],
   "source": []
  }
 ],
 "metadata": {
  "kernelspec": {
   "display_name": "Python 3.9",
   "language": "python",
   "name": "venv"
  },
  "language_info": {
   "codemirror_mode": {
    "name": "ipython",
    "version": 3
   },
   "file_extension": ".py",
   "mimetype": "text/x-python",
   "name": "python",
   "nbconvert_exporter": "python",
   "pygments_lexer": "ipython3",
   "version": "3.9.2"
  },
  "toc": {
   "base_numbering": 1,
   "nav_menu": {},
   "number_sections": true,
   "sideBar": true,
   "skip_h1_title": false,
   "title_cell": "Table of Contents",
   "title_sidebar": "Contents",
   "toc_cell": false,
   "toc_position": {},
   "toc_section_display": true,
   "toc_window_display": true
  }
 },
 "nbformat": 4,
 "nbformat_minor": 4
}
